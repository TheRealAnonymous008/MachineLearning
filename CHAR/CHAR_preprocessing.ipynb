{
 "cells": [
  {
   "cell_type": "markdown",
   "metadata": {},
   "source": [
    "# Preprocessing"
   ]
  },
  {
   "cell_type": "code",
   "execution_count": null,
   "metadata": {},
   "outputs": [],
   "source": [
    "%load_ext autoreload\n",
    "%autoreload 2\n",
    "\n",
    "import pandas as pd\n",
    "import numpy as np\n",
    "import matplotlib.pyplot as plt \n",
    "\n",
    "import sklearn as skl\n",
    "\n",
    "from CHAR_extractor import CharacterTok"
   ]
  },
  {
   "cell_type": "markdown",
   "metadata": {},
   "source": [
    "## Feature Extraction"
   ]
  },
  {
   "cell_type": "code",
   "execution_count": null,
   "metadata": {},
   "outputs": [],
   "source": [
    "# char - makes use of a character-level tokenization scheme\n",
    "FEATURE_EXTRACTOR = \"char\"\n",
    "\n",
    "# Load the dataset from the corresponding csv\n",
    "DATASET_PATHS = [\"data/training\", \"data/validation\", \"data/test\"]"
   ]
  },
  {
   "cell_type": "code",
   "execution_count": null,
   "metadata": {},
   "outputs": [],
   "source": [
    "# Load the feature extractor specified in embedding generator\n",
    "feature_extractor = CharacterTok() "
   ]
  },
  {
   "cell_type": "code",
   "execution_count": null,
   "metadata": {},
   "outputs": [],
   "source": [
    "for db_path in DATASET_PATHS:\n",
    "    loaded_df = pd.read_csv(db_path + \".csv\")\n",
    "\n",
    "    # Prepare sentence list\n",
    "    sentences = loaded_df[\"text\"]\n",
    "\n",
    "    # Apply the feature extractor to a target dataset\n",
    "\n",
    "    encodings = []\n",
    "\n",
    "    feature_extractor : CharacterTok = feature_extractor \n",
    "    encodings = feature_extractor.encode(sentences)\n",
    "\n",
    "    # Store individual floats in the vector in their own columns.\n",
    "\n",
    "    transposed = encodings.T\n",
    "    new_df = loaded_df.copy(deep=True)\n",
    "\n",
    "    for i in range(0, len(encodings[0])):\n",
    "        new_df['_e' + str(i)] = transposed[i]\n",
    "\n",
    "    # Save the feature list to a new dataset\n",
    "    NEW_FILE_PATH = db_path + \"_\" + FEATURE_EXTRACTOR\n",
    "    new_df.to_csv(NEW_FILE_PATH + \".csv\", index=False)"
   ]
  }
 ],
 "metadata": {
  "kernelspec": {
   "display_name": "Python 3",
   "language": "python",
   "name": "python3"
  },
  "language_info": {
   "codemirror_mode": {
    "name": "ipython",
    "version": 3
   },
   "file_extension": ".py",
   "mimetype": "text/x-python",
   "name": "python",
   "nbconvert_exporter": "python",
   "pygments_lexer": "ipython3",
   "version": "3.11.5"
  }
 },
 "nbformat": 4,
 "nbformat_minor": 2
}
