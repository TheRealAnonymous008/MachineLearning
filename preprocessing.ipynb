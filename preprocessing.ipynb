{
 "cells": [
  {
   "cell_type": "code",
   "execution_count": 1,
   "metadata": {},
   "outputs": [
    {
     "name": "stderr",
     "output_type": "stream",
     "text": [
      "c:\\Users\\Joaquin\\miniconda3\\envs\\agienv\\Lib\\site-packages\\tqdm\\auto.py:21: TqdmWarning: IProgress not found. Please update jupyter and ipywidgets. See https://ipywidgets.readthedocs.io/en/stable/user_install.html\n",
      "  from .autonotebook import tqdm as notebook_tqdm\n"
     ]
    }
   ],
   "source": [
    "%load_ext autoreload\n",
    "%autoreload 2\n",
    "\n",
    "import pandas as pd\n",
    "import numpy as np\n",
    "import matplotlib.pyplot as plt \n",
    "\n",
    "from sklearn.decomposition import PCA\n",
    "import sklearn as skl\n",
    "\n",
    "# For loading huggingface stuff\n",
    "from sentence_transformers import SentenceTransformer\n",
    "from extractors.chartok import CharacterTok"
   ]
  },
  {
   "cell_type": "markdown",
   "metadata": {},
   "source": [
    "# Feature Extraction"
   ]
  },
  {
   "cell_type": "code",
   "execution_count": 2,
   "metadata": {},
   "outputs": [],
   "source": [
    "# Possible values: \n",
    "# labse - makes use of LaBSE for multilingual sentence embeddings\n",
    "# char - makes use of a character-level tokenization scheme.\n",
    "FEATURE_EXTRACTOR = \"char\" "
   ]
  },
  {
   "cell_type": "code",
   "execution_count": 3,
   "metadata": {},
   "outputs": [],
   "source": [
    "# Load the dataset from the corresponding csv\n",
    "\n",
    "DATASET_PATHS = [\"data/training\", \"data/validation\", \"data/test\"]\n"
   ]
  },
  {
   "cell_type": "code",
   "execution_count": 4,
   "metadata": {},
   "outputs": [],
   "source": [
    "# Load the feature extractor specified in embedding generator\n",
    "feature_extractor = None \n",
    "\n",
    "if FEATURE_EXTRACTOR == \"labse\":\n",
    "    # LaBSE found here: https://huggingface.co/sentence-transformers/LaBSE\n",
    "    feature_extractor = SentenceTransformer('sentence-transformers/LaBSE')\n",
    "elif FEATURE_EXTRACTOR == \"char\":\n",
    "    feature_extractor = CharacterTok()\n",
    "else: \n",
    "    pass "
   ]
  },
  {
   "cell_type": "code",
   "execution_count": 7,
   "metadata": {},
   "outputs": [
    {
     "ename": "AttributeError",
     "evalue": "'CharacterTok' object has no attribute 'pad_token'",
     "output_type": "error",
     "traceback": [
      "\u001b[1;31m---------------------------------------------------------------------------\u001b[0m",
      "\u001b[1;31mAttributeError\u001b[0m                            Traceback (most recent call last)",
      "\u001b[1;32mc:\\Users\\Joaquin\\Desktop\\LaSalle\\MACLEARN\\MachineLearning\\preprocessing.ipynb Cell 6\u001b[0m line \u001b[0;36m1\n\u001b[0;32m     <a href='vscode-notebook-cell:/c%3A/Users/Joaquin/Desktop/LaSalle/MACLEARN/MachineLearning/preprocessing.ipynb#W5sZmlsZQ%3D%3D?line=13'>14</a>\u001b[0m \u001b[39melif\u001b[39;00m FEATURE_EXTRACTOR \u001b[39m==\u001b[39m \u001b[39m\"\u001b[39m\u001b[39mchar\u001b[39m\u001b[39m\"\u001b[39m:\n\u001b[0;32m     <a href='vscode-notebook-cell:/c%3A/Users/Joaquin/Desktop/LaSalle/MACLEARN/MachineLearning/preprocessing.ipynb#W5sZmlsZQ%3D%3D?line=14'>15</a>\u001b[0m     feature_extractor : CharacterTok \u001b[39m=\u001b[39m feature_extractor \n\u001b[1;32m---> <a href='vscode-notebook-cell:/c%3A/Users/Joaquin/Desktop/LaSalle/MACLEARN/MachineLearning/preprocessing.ipynb#W5sZmlsZQ%3D%3D?line=15'>16</a>\u001b[0m     encodings \u001b[39m=\u001b[39m feature_extractor\u001b[39m.\u001b[39;49mencode(sentences)\n\u001b[0;32m     <a href='vscode-notebook-cell:/c%3A/Users/Joaquin/Desktop/LaSalle/MACLEARN/MachineLearning/preprocessing.ipynb#W5sZmlsZQ%3D%3D?line=16'>17</a>\u001b[0m \u001b[39melse\u001b[39;00m: \n\u001b[0;32m     <a href='vscode-notebook-cell:/c%3A/Users/Joaquin/Desktop/LaSalle/MACLEARN/MachineLearning/preprocessing.ipynb#W5sZmlsZQ%3D%3D?line=17'>18</a>\u001b[0m     \u001b[39mpass\u001b[39;00m\n",
      "File \u001b[1;32mc:\\Users\\Joaquin\\Desktop\\LaSalle\\MACLEARN\\MachineLearning\\extractors\\chartok.py:13\u001b[0m, in \u001b[0;36mCharacterTok.encode\u001b[1;34m(self, text)\u001b[0m\n\u001b[0;32m     11\u001b[0m \u001b[39m# Apply tokenization and padding\u001b[39;00m\n\u001b[0;32m     12\u001b[0m char_to_int \u001b[39m=\u001b[39m {char: i \u001b[39mfor\u001b[39;00m i, char \u001b[39min\u001b[39;00m \u001b[39menumerate\u001b[39m(\u001b[39m'\u001b[39m\u001b[39m abcdefghijklmnopqrstuvwxyz\u001b[39m\u001b[39m'\u001b[39m)}\n\u001b[1;32m---> 13\u001b[0m tokenized_series \u001b[39m=\u001b[39m text\u001b[39m.\u001b[39;49mapply(\u001b[39mlambda\u001b[39;49;00m text: [char_to_int[char] \u001b[39mfor\u001b[39;49;00m char \u001b[39min\u001b[39;49;00m text\u001b[39m.\u001b[39;49mljust(max_length, \u001b[39mself\u001b[39;49m\u001b[39m.\u001b[39;49mpad_token)])\n\u001b[0;32m     16\u001b[0m \u001b[39m# Create a DataFrame from the tokenized Series\u001b[39;00m\n\u001b[0;32m     17\u001b[0m token_matrix \u001b[39m=\u001b[39m pd\u001b[39m.\u001b[39mDataFrame(\u001b[39mlist\u001b[39m(tokenized_series))\n",
      "File \u001b[1;32m~\\AppData\\Roaming\\Python\\Python311\\site-packages\\pandas\\core\\series.py:4630\u001b[0m, in \u001b[0;36mSeries.apply\u001b[1;34m(self, func, convert_dtype, args, **kwargs)\u001b[0m\n\u001b[0;32m   4520\u001b[0m \u001b[39mdef\u001b[39;00m \u001b[39mapply\u001b[39m(\n\u001b[0;32m   4521\u001b[0m     \u001b[39mself\u001b[39m,\n\u001b[0;32m   4522\u001b[0m     func: AggFuncType,\n\u001b[1;32m   (...)\u001b[0m\n\u001b[0;32m   4525\u001b[0m     \u001b[39m*\u001b[39m\u001b[39m*\u001b[39mkwargs,\n\u001b[0;32m   4526\u001b[0m ) \u001b[39m-\u001b[39m\u001b[39m>\u001b[39m DataFrame \u001b[39m|\u001b[39m Series:\n\u001b[0;32m   4527\u001b[0m \u001b[39m    \u001b[39m\u001b[39m\"\"\"\u001b[39;00m\n\u001b[0;32m   4528\u001b[0m \u001b[39m    Invoke function on values of Series.\u001b[39;00m\n\u001b[0;32m   4529\u001b[0m \n\u001b[1;32m   (...)\u001b[0m\n\u001b[0;32m   4628\u001b[0m \u001b[39m    dtype: float64\u001b[39;00m\n\u001b[0;32m   4629\u001b[0m \u001b[39m    \"\"\"\u001b[39;00m\n\u001b[1;32m-> 4630\u001b[0m     \u001b[39mreturn\u001b[39;00m SeriesApply(\u001b[39mself\u001b[39;49m, func, convert_dtype, args, kwargs)\u001b[39m.\u001b[39;49mapply()\n",
      "File \u001b[1;32m~\\AppData\\Roaming\\Python\\Python311\\site-packages\\pandas\\core\\apply.py:1025\u001b[0m, in \u001b[0;36mSeriesApply.apply\u001b[1;34m(self)\u001b[0m\n\u001b[0;32m   1022\u001b[0m     \u001b[39mreturn\u001b[39;00m \u001b[39mself\u001b[39m\u001b[39m.\u001b[39mapply_str()\n\u001b[0;32m   1024\u001b[0m \u001b[39m# self.f is Callable\u001b[39;00m\n\u001b[1;32m-> 1025\u001b[0m \u001b[39mreturn\u001b[39;00m \u001b[39mself\u001b[39;49m\u001b[39m.\u001b[39;49mapply_standard()\n",
      "File \u001b[1;32m~\\AppData\\Roaming\\Python\\Python311\\site-packages\\pandas\\core\\apply.py:1076\u001b[0m, in \u001b[0;36mSeriesApply.apply_standard\u001b[1;34m(self)\u001b[0m\n\u001b[0;32m   1074\u001b[0m     \u001b[39melse\u001b[39;00m:\n\u001b[0;32m   1075\u001b[0m         values \u001b[39m=\u001b[39m obj\u001b[39m.\u001b[39mastype(\u001b[39mobject\u001b[39m)\u001b[39m.\u001b[39m_values\n\u001b[1;32m-> 1076\u001b[0m         mapped \u001b[39m=\u001b[39m lib\u001b[39m.\u001b[39;49mmap_infer(\n\u001b[0;32m   1077\u001b[0m             values,\n\u001b[0;32m   1078\u001b[0m             f,\n\u001b[0;32m   1079\u001b[0m             convert\u001b[39m=\u001b[39;49m\u001b[39mself\u001b[39;49m\u001b[39m.\u001b[39;49mconvert_dtype,\n\u001b[0;32m   1080\u001b[0m         )\n\u001b[0;32m   1082\u001b[0m \u001b[39mif\u001b[39;00m \u001b[39mlen\u001b[39m(mapped) \u001b[39mand\u001b[39;00m \u001b[39misinstance\u001b[39m(mapped[\u001b[39m0\u001b[39m], ABCSeries):\n\u001b[0;32m   1083\u001b[0m     \u001b[39m# GH#43986 Need to do list(mapped) in order to get treated as nested\u001b[39;00m\n\u001b[0;32m   1084\u001b[0m     \u001b[39m#  See also GH#25959 regarding EA support\u001b[39;00m\n\u001b[0;32m   1085\u001b[0m     \u001b[39mreturn\u001b[39;00m obj\u001b[39m.\u001b[39m_constructor_expanddim(\u001b[39mlist\u001b[39m(mapped), index\u001b[39m=\u001b[39mobj\u001b[39m.\u001b[39mindex)\n",
      "File \u001b[1;32m~\\AppData\\Roaming\\Python\\Python311\\site-packages\\pandas\\_libs\\lib.pyx:2834\u001b[0m, in \u001b[0;36mpandas._libs.lib.map_infer\u001b[1;34m()\u001b[0m\n",
      "File \u001b[1;32mc:\\Users\\Joaquin\\Desktop\\LaSalle\\MACLEARN\\MachineLearning\\extractors\\chartok.py:13\u001b[0m, in \u001b[0;36mCharacterTok.encode.<locals>.<lambda>\u001b[1;34m(text)\u001b[0m\n\u001b[0;32m     11\u001b[0m \u001b[39m# Apply tokenization and padding\u001b[39;00m\n\u001b[0;32m     12\u001b[0m char_to_int \u001b[39m=\u001b[39m {char: i \u001b[39mfor\u001b[39;00m i, char \u001b[39min\u001b[39;00m \u001b[39menumerate\u001b[39m(\u001b[39m'\u001b[39m\u001b[39m abcdefghijklmnopqrstuvwxyz\u001b[39m\u001b[39m'\u001b[39m)}\n\u001b[1;32m---> 13\u001b[0m tokenized_series \u001b[39m=\u001b[39m text\u001b[39m.\u001b[39mapply(\u001b[39mlambda\u001b[39;00m text: [char_to_int[char] \u001b[39mfor\u001b[39;00m char \u001b[39min\u001b[39;00m text\u001b[39m.\u001b[39mljust(max_length, \u001b[39mself\u001b[39;49m\u001b[39m.\u001b[39;49mpad_token)])\n\u001b[0;32m     16\u001b[0m \u001b[39m# Create a DataFrame from the tokenized Series\u001b[39;00m\n\u001b[0;32m     17\u001b[0m token_matrix \u001b[39m=\u001b[39m pd\u001b[39m.\u001b[39mDataFrame(\u001b[39mlist\u001b[39m(tokenized_series))\n",
      "\u001b[1;31mAttributeError\u001b[0m: 'CharacterTok' object has no attribute 'pad_token'"
     ]
    }
   ],
   "source": [
    "for db_path in DATASET_PATHS:\n",
    "    loaded_df = pd.read_csv(db_path + \".csv\")\n",
    "\n",
    "    # Prepare sentence list\n",
    "    sentences = loaded_df[\"text\"]\n",
    "\n",
    "    # Apply the feature extractor to a target dataset\n",
    "\n",
    "    encodings = []\n",
    "\n",
    "    if FEATURE_EXTRACTOR == \"labse\":\n",
    "        feature_extractor : SentenceTransformer = feature_extractor\n",
    "        encodings = feature_extractor.encode(sentences)\n",
    "    elif FEATURE_EXTRACTOR == \"char\":\n",
    "        feature_extractor : CharacterTok = feature_extractor \n",
    "        encodings = feature_extractor.encode(sentences)\n",
    "    else: \n",
    "        pass\n",
    "\n",
    "    # Store individual floats in the vector in their own columns.\n",
    "\n",
    "    transposed = encodings.T\n",
    "    new_df = loaded_df.copy(deep=True)\n",
    "\n",
    "    for i in range(0, len(encodings[0])):\n",
    "        new_df['_e' + str(i)] = transposed[i]\n",
    "\n",
    "    # Save the feature list to a new dataset\n",
    "    NEW_FILE_PATH = db_path + \"_\" + FEATURE_EXTRACTOR\n",
    "    new_df.to_csv(NEW_FILE_PATH + \".csv\", index=False)"
   ]
  },
  {
   "cell_type": "code",
   "execution_count": null,
   "metadata": {},
   "outputs": [],
   "source": []
  }
 ],
 "metadata": {
  "kernelspec": {
   "display_name": "agienv",
   "language": "python",
   "name": "python3"
  },
  "language_info": {
   "codemirror_mode": {
    "name": "ipython",
    "version": 3
   },
   "file_extension": ".py",
   "mimetype": "text/x-python",
   "name": "python",
   "nbconvert_exporter": "python",
   "pygments_lexer": "ipython3",
   "version": "3.11.3"
  },
  "orig_nbformat": 4
 },
 "nbformat": 4,
 "nbformat_minor": 2
}
