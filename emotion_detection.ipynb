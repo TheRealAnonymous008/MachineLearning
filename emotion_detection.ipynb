{
 "cells": [
  {
   "cell_type": "code",
   "execution_count": 1,
   "metadata": {},
   "outputs": [],
   "source": [
    "%load_ext autoreload\n",
    "%autoreload 2\n",
    "\n",
    "import numpy as np\n",
    "import pandas as pd\n",
    "import matplotlib.pyplot as plt\n",
    "\n",
    "\n",
    "# All skl imports go here\n",
    "from sklearn import tree   # Decision Trees\n",
    "from sklearn import svm    # svm\n",
    "from sklearn.decomposition import PCA\n",
    "from sklearn.model_selection import KFold\n",
    "from sklearn import metrics\n",
    "\n",
    "import sklearn as skl\n",
    "\n",
    "from neuralnet import NeuralNetwork"
   ]
  },
  {
   "cell_type": "markdown",
   "metadata": {},
   "source": [
    "# Data Loading"
   ]
  },
  {
   "cell_type": "code",
   "execution_count": 2,
   "metadata": {},
   "outputs": [],
   "source": [
    "# Load all data\n",
    "train_data = pd.read_csv(\"training_labse.csv\")\n",
    "test_data = pd.read_csv(\"test_labse.csv\")\n",
    "validation_data = pd.read_csv(\"validation_labse.csv\")\n",
    "\n",
    "# Separate X's and y's from each other\n",
    "FEATURE_COLUMNS = [x for x in train_data if x.startswith(\"_e\")]\n",
    "LABEL_COLUMN = \"label\"\n",
    "\n",
    "X_train = train_data[FEATURE_COLUMNS]\n",
    "Y_train = train_data[LABEL_COLUMN]\n",
    "\n",
    "X_test = test_data[FEATURE_COLUMNS]\n",
    "Y_test = test_data[LABEL_COLUMN]\n",
    "\n",
    "X_val = validation_data[FEATURE_COLUMNS]\n",
    "Y_val = validation_data[LABEL_COLUMN]\n",
    "\n",
    "# These are used to run cross validation\n",
    "X_train_val = pd.concat([X_train, X_val]) \n",
    "Y_train_val = pd.concat([Y_train, Y_test])"
   ]
  },
  {
   "cell_type": "code",
   "execution_count": 3,
   "metadata": {},
   "outputs": [],
   "source": [
    "# Perform pre-processing PCA on the training set\n",
    "TARGET_EXPLAINED_VARIANCE = 0.95 \n",
    "\n",
    "def perform_pca(dataset):\n",
    "    pca = PCA(n_components= TARGET_EXPLAINED_VARIANCE)\n",
    "\n",
    "    # Need to standardize the data frirst\n",
    "    standardized = (dataset - dataset.mean(axis=0)) / dataset.std(axis = 0)\n",
    "\n",
    "    pca.fit(X=standardized)\n",
    "    dataset_reduced = pca.fit_transform(X=standardized)\n",
    "\n",
    "    return pca, dataset_reduced\n",
    "\n"
   ]
  },
  {
   "cell_type": "code",
   "execution_count": 4,
   "metadata": {},
   "outputs": [],
   "source": [
    "pca_train, X_train_reduced = perform_pca(X_train)\n",
    "pca_tran_val, X_train_val_reduced = perform_pca(X_train_val)"
   ]
  },
  {
   "cell_type": "code",
   "execution_count": 6,
   "metadata": {},
   "outputs": [
    {
     "data": {
      "text/plain": [
       "[<matplotlib.lines.Line2D at 0x2b98c2bffd0>]"
      ]
     },
     "execution_count": 6,
     "metadata": {},
     "output_type": "execute_result"
    },
    {
     "data": {
      "image/png": "[encoded data removed]",
      "text/plain": [
       "<Figure size 640x480 with 1 Axes>"
      ]
     },
     "metadata": {},
     "output_type": "display_data"
    }
   ],
   "source": [
    "plt.plot(pca_train.explained_variance_)"
   ]
  },
  {
   "cell_type": "markdown",
   "metadata": {},
   "source": [
    "# K-Folds Cross Validation"
   ]
  },
  {
   "cell_type": "code",
   "execution_count": 26,
   "metadata": {},
   "outputs": [],
   "source": [
    "\n",
    "def k_folds_x_val(model): \n",
    "    cumulative_accuracy = 0\n",
    "    cumulative_f1 = 0\n",
    "    cumulative_kappa = 0\n",
    "\n",
    "    k_folds = KFold(n_splits=10)\n",
    "\n",
    "    for i, (train_index, test_index) in enumerate(k_folds.split(X_train_val_reduced, Y_train_val)):\n",
    "        model.fit(X_train_val_reduced[train_index], Y_train_val.iloc[train_index])\n",
    "        \n",
    "        Y_pred = model.predict(X_train_val_reduced[test_index])\n",
    "        Y_true = Y_train_val.iloc[test_index]\n",
    "        # Add all metrics here\n",
    "\n",
    "        cumulative_accuracy += metrics.accuracy_score(Y_true, Y_pred)\n",
    "        cumulativve_f1 += metrics.f1_score(Y_true, Y_pred)\n",
    "        cumulative_kappa += metrics.cohen_kappa_score(Y_true, Y_pred)\n",
    "\n",
    "    folds = k_folds.get_n_splits()\n",
    "    print(f\"Performed {folds}-fold cross validation\")\n",
    "    print(f\"Average accuracy {cumulative_accuracy / folds}\")\n",
    "    print(f\"Average F1-score {cumulative_f1 / folds}\")\n",
    "    print(f\"Average Kappa {cumulative_kappa / folds}\")\n"
   ]
  },
  {
   "cell_type": "markdown",
   "metadata": {},
   "source": [
    "# Decision Trees"
   ]
  },
  {
   "cell_type": "code",
   "execution_count": 7,
   "metadata": {},
   "outputs": [],
   "source": [
    "decision_tree_model = tree.DecisionTreeClassifier(\n",
    "    criterion='entropy', \n",
    "    splitter = 'best',\n",
    "    max_depth = 5\n",
    ")"
   ]
  },
  {
   "cell_type": "code",
   "execution_count": 8,
   "metadata": {},
   "outputs": [
    {
     "ename": "NameError",
     "evalue": "name 'k_folds_x_val' is not defined",
     "output_type": "error",
     "traceback": [
      "\u001b[1;31m---------------------------------------------------------------------------\u001b[0m",
      "\u001b[1;31mNameError\u001b[0m                                 Traceback (most recent call last)",
      "\u001b[1;32mc:\\Users\\Joaquin\\Desktop\\LaSalle\\MACLEARN\\MachineLearning\\emotion_detection.ipynb Cell 11\u001b[0m line \u001b[0;36m1\n\u001b[1;32m----> <a href='vscode-notebook-cell:/c%3A/Users/Joaquin/Desktop/LaSalle/MACLEARN/MachineLearning/emotion_detection.ipynb#X12sZmlsZQ%3D%3D?line=0'>1</a>\u001b[0m k_folds_x_val(decision_tree_model)\n",
      "\u001b[1;31mNameError\u001b[0m: name 'k_folds_x_val' is not defined"
     ]
    }
   ],
   "source": [
    "k_folds_x_val(decision_tree_model)"
   ]
  },
  {
   "cell_type": "code",
   "execution_count": 9,
   "metadata": {},
   "outputs": [
    {
     "data": {
      "text/plain": [
       "[Text(0.5, 0.9166666666666666, 'x[2] <= -0.23\\nentropy = 2.272\\nsamples = 16000\\nvalue = [4666, 5362, 1304, 2159, 1937, 572]'),\n",
       " Text(0.25, 0.75, 'x[3] <= -0.747\\nentropy = 2.131\\nsamples = 7717\\nvalue = [1531, 3666, 810, 711, 677, 322]'),\n",
       " Text(0.125, 0.5833333333333334, 'x[5] <= 2.122\\nentropy = 2.287\\nsamples = 3484\\nvalue = [1079, 1070, 249, 495, 451, 140]'),\n",
       " Text(0.0625, 0.4166666666666667, 'x[0] <= -6.003\\nentropy = 2.299\\nsamples = 2709\\nvalue = [940, 653, 169, 436, 394, 117]'),\n",
       " Text(0.03125, 0.25, 'x[15] <= 0.01\\nentropy = 2.051\\nsamples = 981\\nvalue = [470, 77, 35, 196, 163, 40]'),\n",
       " Text(0.015625, 0.08333333333333333, 'entropy = 2.161\\nsamples = 413\\nvalue = [147, 33, 10, 80, 120, 23]'),\n",
       " Text(0.046875, 0.08333333333333333, 'entropy = 1.849\\nsamples = 568\\nvalue = [323, 44, 25, 116, 43, 17]'),\n",
       " Text(0.09375, 0.25, 'x[2] <= -2.854\\nentropy = 2.309\\nsamples = 1728\\nvalue = [470, 576, 134, 240, 231, 77]'),\n",
       " Text(0.078125, 0.08333333333333333, 'entropy = 2.225\\nsamples = 869\\nvalue = [173, 377, 73, 89, 112, 45]'),\n",
       " Text(0.109375, 0.08333333333333333, 'entropy = 2.302\\nsamples = 859\\nvalue = [297, 199, 61, 151, 119, 32]'),\n",
       " Text(0.1875, 0.4166666666666667, 'x[1] <= 3.789\\nentropy = 1.974\\nsamples = 775\\nvalue = [139, 417, 80, 59, 57, 23]'),\n",
       " Text(0.15625, 0.25, 'x[8] <= 0.068\\nentropy = 1.735\\nsamples = 541\\nvalue = [71, 336, 71, 24, 26, 13]'),\n",
       " Text(0.140625, 0.08333333333333333, 'entropy = 1.359\\nsamples = 281\\nvalue = [26, 209, 21, 12, 8, 5]'),\n",
       " Text(0.171875, 0.08333333333333333, 'entropy = 2.026\\nsamples = 260\\nvalue = [45, 127, 50, 12, 18, 8]'),\n",
       " Text(0.21875, 0.25, 'x[6] <= -0.419\\nentropy = 2.219\\nsamples = 234\\nvalue = [68, 81, 9, 35, 31, 10]'),\n",
       " Text(0.203125, 0.08333333333333333, 'entropy = 2.036\\nsamples = 88\\nvalue = [16, 46, 5, 5, 8, 8]'),\n",
       " Text(0.234375, 0.08333333333333333, 'entropy = 2.141\\nsamples = 146\\nvalue = [52, 35, 4, 30, 23, 2]'),\n",
       " Text(0.375, 0.5833333333333334, 'x[5] <= -1.049\\nentropy = 1.804\\nsamples = 4233\\nvalue = [452, 2596, 561, 216, 226, 182]'),\n",
       " Text(0.3125, 0.4166666666666667, 'x[1] <= 1.433\\nentropy = 2.281\\nsamples = 1356\\nvalue = [251, 572, 165, 128, 144, 96]'),\n",
       " Text(0.28125, 0.25, 'x[10] <= 1.418\\nentropy = 2.042\\nsamples = 827\\nvalue = [105, 436, 127, 49, 53, 57]'),\n",
       " Text(0.265625, 0.08333333333333333, 'entropy = 1.814\\nsamples = 554\\nvalue = [49, 335, 82, 22, 21, 45]'),\n",
       " Text(0.296875, 0.08333333333333333, 'entropy = 2.319\\nsamples = 273\\nvalue = [56, 101, 45, 27, 32, 12]'),\n",
       " Text(0.34375, 0.25, 'x[2] <= -4.731\\nentropy = 2.413\\nsamples = 529\\nvalue = [146, 136, 38, 79, 91, 39]'),\n",
       " Text(0.328125, 0.08333333333333333, 'entropy = 2.093\\nsamples = 130\\nvalue = [20, 67, 13, 9, 11, 10]'),\n",
       " Text(0.359375, 0.08333333333333333, 'entropy = 2.394\\nsamples = 399\\nvalue = [126, 69, 25, 70, 80, 29]'),\n",
       " Text(0.4375, 0.4166666666666667, 'x[1] <= -0.038\\nentropy = 1.471\\nsamples = 2877\\nvalue = [201, 2024, 396, 88, 82, 86]'),\n",
       " Text(0.40625, 0.25, 'x[10] <= 4.374\\nentropy = 1.221\\nsamples = 1709\\nvalue = [47, 1282, 273, 36, 21, 50]'),\n",
       " Text(0.390625, 0.08333333333333333, 'entropy = 1.082\\nsamples = 1592\\nvalue = [32, 1240, 244, 14, 15, 47]'),\n",
       " Text(0.421875, 0.08333333333333333, 'entropy = 2.218\\nsamples = 117\\nvalue = [15, 42, 29, 22, 6, 3]'),\n",
       " Text(0.46875, 0.25, 'x[3] <= 4.747\\nentropy = 1.72\\nsamples = 1168\\nvalue = [154, 742, 123, 52, 61, 36]'),\n",
       " Text(0.453125, 0.08333333333333333, 'entropy = 1.9\\nsamples = 859\\nvalue = [145, 488, 90, 46, 61, 29]'),\n",
       " Text(0.484375, 0.08333333333333333, 'entropy = 0.96\\nsamples = 309\\nvalue = [9, 254, 33, 6, 0, 7]'),\n",
       " Text(0.75, 0.75, 'x[5] <= -0.313\\nentropy = 2.247\\nsamples = 8283\\nvalue = [3135, 1696, 494, 1448, 1260, 250]'),\n",
       " Text(0.625, 0.5833333333333334, 'x[15] <= -0.43\\nentropy = 2.099\\nsamples = 3910\\nvalue = [1714, 402, 156, 839, 700, 99]'),\n",
       " Text(0.5625, 0.4166666666666667, 'x[17] <= -0.644\\nentropy = 2.156\\nsamples = 1723\\nvalue = [605, 178, 57, 382, 457, 44]'),\n",
       " Text(0.53125, 0.25, 'x[37] <= 0.342\\nentropy = 2.129\\nsamples = 708\\nvalue = [177, 72, 30, 126, 286, 17]'),\n",
       " Text(0.515625, 0.08333333333333333, 'entropy = 2.118\\nsamples = 402\\nvalue = [114, 47, 17, 89, 133, 2]'),\n",
       " Text(0.546875, 0.08333333333333333, 'entropy = 2.04\\nsamples = 306\\nvalue = [63, 25, 13, 37, 153, 15]'),\n",
       " Text(0.59375, 0.25, 'x[14] <= 1.42\\nentropy = 2.078\\nsamples = 1015\\nvalue = [428, 106, 27, 256, 171, 27]'),\n",
       " Text(0.578125, 0.08333333333333333, 'entropy = 2.027\\nsamples = 688\\nvalue = [315, 80, 27, 167, 89, 10]'),\n",
       " Text(0.609375, 0.08333333333333333, 'entropy = 2.053\\nsamples = 327\\nvalue = [113, 26, 0, 89, 82, 17]'),\n",
       " Text(0.6875, 0.4166666666666667, 'x[0] <= -5.749\\nentropy = 1.993\\nsamples = 2187\\nvalue = [1109, 224, 99, 457, 243, 55]'),\n",
       " Text(0.65625, 0.25, 'x[36] <= -1.869\\nentropy = 1.582\\nsamples = 507\\nvalue = [322, 17, 10, 98, 52, 8]'),\n",
       " Text(0.640625, 0.08333333333333333, 'entropy = 1.597\\nsamples = 73\\nvalue = [26, 1, 2, 38, 5, 1]'),\n",
       " Text(0.671875, 0.08333333333333333, 'entropy = 1.496\\nsamples = 434\\nvalue = [296, 16, 8, 60, 47, 7]'),\n",
       " Text(0.71875, 0.25, 'x[1] <= -0.578\\nentropy = 2.086\\nsamples = 1680\\nvalue = [787, 207, 89, 359, 191, 47]'),\n",
       " Text(0.703125, 0.08333333333333333, 'entropy = 2.162\\nsamples = 791\\nvalue = [346, 126, 63, 163, 70, 23]'),\n",
       " Text(0.734375, 0.08333333333333333, 'entropy = 1.979\\nsamples = 889\\nvalue = [441, 81, 26, 196, 121, 24]'),\n",
       " Text(0.875, 0.5833333333333334, 'x[2] <= 4.147\\nentropy = 2.276\\nsamples = 4373\\nvalue = [1421, 1294, 338, 609, 560, 151]'),\n",
       " Text(0.8125, 0.4166666666666667, 'x[3] <= 0.996\\nentropy = 2.25\\nsamples = 2876\\nvalue = [795, 1063, 253, 325, 323, 117]'),\n",
       " Text(0.78125, 0.25, 'x[1] <= -1.741\\nentropy = 2.279\\nsamples = 1890\\nvalue = [614, 553, 128, 258, 264, 73]'),\n",
       " Text(0.765625, 0.08333333333333333, 'entropy = 2.168\\nsamples = 656\\nvalue = [161, 286, 66, 62, 47, 34]'),\n",
       " Text(0.796875, 0.08333333333333333, 'entropy = 2.245\\nsamples = 1234\\nvalue = [453, 267, 62, 196, 217, 39]'),\n",
       " Text(0.84375, 0.25, 'x[1] <= -2.406\\nentropy = 2.026\\nsamples = 986\\nvalue = [181, 510, 125, 67, 59, 44]'),\n",
       " Text(0.828125, 0.08333333333333333, 'entropy = 1.671\\nsamples = 301\\nvalue = [21, 184, 65, 15, 6, 10]'),\n",
       " Text(0.859375, 0.08333333333333333, 'entropy = 2.091\\nsamples = 685\\nvalue = [160, 326, 60, 52, 53, 34]'),\n",
       " Text(0.9375, 0.4166666666666667, 'x[1] <= -0.937\\nentropy = 2.177\\nsamples = 1497\\nvalue = [626, 231, 85, 284, 237, 34]'),\n",
       " Text(0.90625, 0.25, 'x[3] <= 0.57\\nentropy = 2.284\\nsamples = 597\\nvalue = [224, 115, 64, 106, 72, 16]'),\n",
       " Text(0.890625, 0.08333333333333333, 'entropy = 2.232\\nsamples = 473\\nvalue = [190, 79, 33, 91, 66, 14]'),\n",
       " Text(0.921875, 0.08333333333333333, 'entropy = 2.206\\nsamples = 124\\nvalue = [34, 36, 31, 15, 6, 2]'),\n",
       " Text(0.96875, 0.25, 'x[17] <= -2.335\\nentropy = 2.051\\nsamples = 900\\nvalue = [402, 116, 21, 178, 165, 18]'),\n",
       " Text(0.953125, 0.08333333333333333, 'entropy = 1.957\\nsamples = 224\\nvalue = [88, 19, 6, 31, 78, 2]'),\n",
       " Text(0.984375, 0.08333333333333333, 'entropy = 2.025\\nsamples = 676\\nvalue = [314, 97, 15, 147, 87, 16]')]"
      ]
     },
     "execution_count": 9,
     "metadata": {},
     "output_type": "execute_result"
    },
    {
     "data": {
      "image/png": "[encoded data removed]",
      "text/plain": [
       "<Figure size 640x480 with 1 Axes>"
      ]
     },
     "metadata": {},
     "output_type": "display_data"
    }
   ],
   "source": [
    "decision_tree_model.fit(X_train_reduced, Y_train)\n",
    "tree.plot_tree(decision_tree_model)"
   ]
  },
  {
   "cell_type": "markdown",
   "metadata": {},
   "source": [
    "# SVMs"
   ]
  },
  {
   "cell_type": "code",
   "execution_count": 11,
   "metadata": {},
   "outputs": [
    {
     "name": "stderr",
     "output_type": "stream",
     "text": [
      "c:\\Users\\Joaquin\\miniconda3\\envs\\agienv\\Lib\\site-packages\\sklearn\\base.py:432: UserWarning: X has feature names, but SVC was fitted without feature names\n",
      "  warnings.warn(\n"
     ]
    },
    {
     "ename": "ValueError",
     "evalue": "X has 768 features, but SVC is expecting 180 features as input.",
     "output_type": "error",
     "traceback": [
      "\u001b[1;31m---------------------------------------------------------------------------\u001b[0m",
      "\u001b[1;31mValueError\u001b[0m                                Traceback (most recent call last)",
      "\u001b[1;32mc:\\Users\\Joaquin\\Desktop\\LaSalle\\MACLEARN\\MachineLearning\\emotion_detection.ipynb Cell 14\u001b[0m line \u001b[0;36m7\n\u001b[0;32m      <a href='vscode-notebook-cell:/c%3A/Users/Joaquin/Desktop/LaSalle/MACLEARN/MachineLearning/emotion_detection.ipynb#X15sZmlsZQ%3D%3D?line=3'>4</a>\u001b[0m svm_classifier\u001b[39m.\u001b[39mfit(X_train_reduced, Y_train)\n\u001b[0;32m      <a href='vscode-notebook-cell:/c%3A/Users/Joaquin/Desktop/LaSalle/MACLEARN/MachineLearning/emotion_detection.ipynb#X15sZmlsZQ%3D%3D?line=5'>6</a>\u001b[0m \u001b[39m#Predict the response for test dataset\u001b[39;00m\n\u001b[1;32m----> <a href='vscode-notebook-cell:/c%3A/Users/Joaquin/Desktop/LaSalle/MACLEARN/MachineLearning/emotion_detection.ipynb#X15sZmlsZQ%3D%3D?line=6'>7</a>\u001b[0m Y_pred \u001b[39m=\u001b[39m svm_classifier\u001b[39m.\u001b[39;49mpredict(X_test)\n",
      "File \u001b[1;32mc:\\Users\\Joaquin\\miniconda3\\envs\\agienv\\Lib\\site-packages\\sklearn\\svm\\_base.py:820\u001b[0m, in \u001b[0;36mBaseSVC.predict\u001b[1;34m(self, X)\u001b[0m\n\u001b[0;32m    818\u001b[0m     y \u001b[39m=\u001b[39m np\u001b[39m.\u001b[39margmax(\u001b[39mself\u001b[39m\u001b[39m.\u001b[39mdecision_function(X), axis\u001b[39m=\u001b[39m\u001b[39m1\u001b[39m)\n\u001b[0;32m    819\u001b[0m \u001b[39melse\u001b[39;00m:\n\u001b[1;32m--> 820\u001b[0m     y \u001b[39m=\u001b[39m \u001b[39msuper\u001b[39;49m()\u001b[39m.\u001b[39;49mpredict(X)\n\u001b[0;32m    821\u001b[0m \u001b[39mreturn\u001b[39;00m \u001b[39mself\u001b[39m\u001b[39m.\u001b[39mclasses_\u001b[39m.\u001b[39mtake(np\u001b[39m.\u001b[39masarray(y, dtype\u001b[39m=\u001b[39mnp\u001b[39m.\u001b[39mintp))\n",
      "File \u001b[1;32mc:\\Users\\Joaquin\\miniconda3\\envs\\agienv\\Lib\\site-packages\\sklearn\\svm\\_base.py:433\u001b[0m, in \u001b[0;36mBaseLibSVM.predict\u001b[1;34m(self, X)\u001b[0m\n\u001b[0;32m    417\u001b[0m \u001b[39mdef\u001b[39;00m \u001b[39mpredict\u001b[39m(\u001b[39mself\u001b[39m, X):\n\u001b[0;32m    418\u001b[0m \u001b[39m    \u001b[39m\u001b[39m\"\"\"Perform regression on samples in X.\u001b[39;00m\n\u001b[0;32m    419\u001b[0m \n\u001b[0;32m    420\u001b[0m \u001b[39m    For an one-class model, +1 (inlier) or -1 (outlier) is returned.\u001b[39;00m\n\u001b[1;32m   (...)\u001b[0m\n\u001b[0;32m    431\u001b[0m \u001b[39m        The predicted values.\u001b[39;00m\n\u001b[0;32m    432\u001b[0m \u001b[39m    \"\"\"\u001b[39;00m\n\u001b[1;32m--> 433\u001b[0m     X \u001b[39m=\u001b[39m \u001b[39mself\u001b[39;49m\u001b[39m.\u001b[39;49m_validate_for_predict(X)\n\u001b[0;32m    434\u001b[0m     predict \u001b[39m=\u001b[39m \u001b[39mself\u001b[39m\u001b[39m.\u001b[39m_sparse_predict \u001b[39mif\u001b[39;00m \u001b[39mself\u001b[39m\u001b[39m.\u001b[39m_sparse \u001b[39melse\u001b[39;00m \u001b[39mself\u001b[39m\u001b[39m.\u001b[39m_dense_predict\n\u001b[0;32m    435\u001b[0m     \u001b[39mreturn\u001b[39;00m predict(X)\n",
      "File \u001b[1;32mc:\\Users\\Joaquin\\miniconda3\\envs\\agienv\\Lib\\site-packages\\sklearn\\svm\\_base.py:613\u001b[0m, in \u001b[0;36mBaseLibSVM._validate_for_predict\u001b[1;34m(self, X)\u001b[0m\n\u001b[0;32m    610\u001b[0m check_is_fitted(\u001b[39mself\u001b[39m)\n\u001b[0;32m    612\u001b[0m \u001b[39mif\u001b[39;00m \u001b[39mnot\u001b[39;00m \u001b[39mcallable\u001b[39m(\u001b[39mself\u001b[39m\u001b[39m.\u001b[39mkernel):\n\u001b[1;32m--> 613\u001b[0m     X \u001b[39m=\u001b[39m \u001b[39mself\u001b[39;49m\u001b[39m.\u001b[39;49m_validate_data(\n\u001b[0;32m    614\u001b[0m         X,\n\u001b[0;32m    615\u001b[0m         accept_sparse\u001b[39m=\u001b[39;49m\u001b[39m\"\u001b[39;49m\u001b[39mcsr\u001b[39;49m\u001b[39m\"\u001b[39;49m,\n\u001b[0;32m    616\u001b[0m         dtype\u001b[39m=\u001b[39;49mnp\u001b[39m.\u001b[39;49mfloat64,\n\u001b[0;32m    617\u001b[0m         order\u001b[39m=\u001b[39;49m\u001b[39m\"\u001b[39;49m\u001b[39mC\u001b[39;49m\u001b[39m\"\u001b[39;49m,\n\u001b[0;32m    618\u001b[0m         accept_large_sparse\u001b[39m=\u001b[39;49m\u001b[39mFalse\u001b[39;49;00m,\n\u001b[0;32m    619\u001b[0m         reset\u001b[39m=\u001b[39;49m\u001b[39mFalse\u001b[39;49;00m,\n\u001b[0;32m    620\u001b[0m     )\n\u001b[0;32m    622\u001b[0m \u001b[39mif\u001b[39;00m \u001b[39mself\u001b[39m\u001b[39m.\u001b[39m_sparse \u001b[39mand\u001b[39;00m \u001b[39mnot\u001b[39;00m sp\u001b[39m.\u001b[39misspmatrix(X):\n\u001b[0;32m    623\u001b[0m     X \u001b[39m=\u001b[39m sp\u001b[39m.\u001b[39mcsr_matrix(X)\n",
      "File \u001b[1;32mc:\\Users\\Joaquin\\miniconda3\\envs\\agienv\\Lib\\site-packages\\sklearn\\base.py:588\u001b[0m, in \u001b[0;36mBaseEstimator._validate_data\u001b[1;34m(self, X, y, reset, validate_separately, **check_params)\u001b[0m\n\u001b[0;32m    585\u001b[0m     out \u001b[39m=\u001b[39m X, y\n\u001b[0;32m    587\u001b[0m \u001b[39mif\u001b[39;00m \u001b[39mnot\u001b[39;00m no_val_X \u001b[39mand\u001b[39;00m check_params\u001b[39m.\u001b[39mget(\u001b[39m\"\u001b[39m\u001b[39mensure_2d\u001b[39m\u001b[39m\"\u001b[39m, \u001b[39mTrue\u001b[39;00m):\n\u001b[1;32m--> 588\u001b[0m     \u001b[39mself\u001b[39;49m\u001b[39m.\u001b[39;49m_check_n_features(X, reset\u001b[39m=\u001b[39;49mreset)\n\u001b[0;32m    590\u001b[0m \u001b[39mreturn\u001b[39;00m out\n",
      "File \u001b[1;32mc:\\Users\\Joaquin\\miniconda3\\envs\\agienv\\Lib\\site-packages\\sklearn\\base.py:389\u001b[0m, in \u001b[0;36mBaseEstimator._check_n_features\u001b[1;34m(self, X, reset)\u001b[0m\n\u001b[0;32m    386\u001b[0m     \u001b[39mreturn\u001b[39;00m\n\u001b[0;32m    388\u001b[0m \u001b[39mif\u001b[39;00m n_features \u001b[39m!=\u001b[39m \u001b[39mself\u001b[39m\u001b[39m.\u001b[39mn_features_in_:\n\u001b[1;32m--> 389\u001b[0m     \u001b[39mraise\u001b[39;00m \u001b[39mValueError\u001b[39;00m(\n\u001b[0;32m    390\u001b[0m         \u001b[39mf\u001b[39m\u001b[39m\"\u001b[39m\u001b[39mX has \u001b[39m\u001b[39m{\u001b[39;00mn_features\u001b[39m}\u001b[39;00m\u001b[39m features, but \u001b[39m\u001b[39m{\u001b[39;00m\u001b[39mself\u001b[39m\u001b[39m.\u001b[39m\u001b[39m__class__\u001b[39m\u001b[39m.\u001b[39m\u001b[39m__name__\u001b[39m\u001b[39m}\u001b[39;00m\u001b[39m \u001b[39m\u001b[39m\"\u001b[39m\n\u001b[0;32m    391\u001b[0m         \u001b[39mf\u001b[39m\u001b[39m\"\u001b[39m\u001b[39mis expecting \u001b[39m\u001b[39m{\u001b[39;00m\u001b[39mself\u001b[39m\u001b[39m.\u001b[39mn_features_in_\u001b[39m}\u001b[39;00m\u001b[39m features as input.\u001b[39m\u001b[39m\"\u001b[39m\n\u001b[0;32m    392\u001b[0m     )\n",
      "\u001b[1;31mValueError\u001b[0m: X has 768 features, but SVC is expecting 180 features as input."
     ]
    }
   ],
   "source": [
    "svm_classifier = svm.SVC(kernel='sigmoid') # 'precomputed', 'linear', 'poly', 'sigmoid', 'rbf'\n",
    "\n",
    "#Train the model using the training sets\n",
    "svm_classifier.fit(X_train_reduced, Y_train)\n",
    "\n",
    "#Predict the response for test dataset\n",
    "Y_pred = svm_classifier.predict(X_test)"
   ]
  },
  {
   "cell_type": "code",
   "execution_count": 46,
   "metadata": {},
   "outputs": [
    {
     "name": "stdout",
     "output_type": "stream",
     "text": [
      "Accuracy: 0.6235\n"
     ]
    }
   ],
   "source": [
    "\n",
    "print(\"Accuracy:\",metrics.accuracy_score(Y_test, Y_pred))\n",
    "# Linear = 0.64\n",
    "# rbf = 0.659\n",
    "# poly = 0.662\n",
    "# sigmoid = 0.6235\n"
   ]
  },
  {
   "cell_type": "markdown",
   "metadata": {},
   "source": [
    "# MLP"
   ]
  },
  {
   "cell_type": "code",
   "execution_count": null,
   "metadata": {},
   "outputs": [],
   "source": []
  },
  {
   "cell_type": "markdown",
   "metadata": {},
   "source": [
    "# RNN"
   ]
  },
  {
   "cell_type": "markdown",
   "metadata": {},
   "source": [
    "# Encoder-Only Transformer"
   ]
  },
  {
   "cell_type": "markdown",
   "metadata": {},
   "source": [
    "# Test"
   ]
  },
  {
   "cell_type": "code",
   "execution_count": null,
   "metadata": {},
   "outputs": [],
   "source": [
    "model_to_test = decision_tree_model"
   ]
  },
  {
   "cell_type": "code",
   "execution_count": null,
   "metadata": {},
   "outputs": [],
   "source": [
    "#TODO: Add stuff for running the test set on the model"
   ]
  }
 ],
 "metadata": {
  "kernelspec": {
   "display_name": "agienv",
   "language": "python",
   "name": "python3"
  },
  "language_info": {
   "codemirror_mode": {
    "name": "ipython",
    "version": 3
   },
   "file_extension": ".py",
   "mimetype": "text/x-python",
   "name": "python",
   "nbconvert_exporter": "python",
   "pygments_lexer": "ipython3",
   "version": "3.11.3"
  },
  "orig_nbformat": 4
 },
 "nbformat": 4,
 "nbformat_minor": 2
}
