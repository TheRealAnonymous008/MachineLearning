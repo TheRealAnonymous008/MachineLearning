{
 "cells": [
  {
   "cell_type": "code",
   "execution_count": 6,
   "metadata": {},
   "outputs": [],
   "source": [
    "import numpy as np\n",
    "import pandas as pd\n",
    "import matplotlib.pyplot as plt\n",
    "\n",
    "import torch.functional as F \n",
    "import torch.nn as nn \n",
    "import torch \n",
    "\n",
    "# All skl imports go here\n",
    "from sklearn import tree   # Decision Trees\n",
    "from sklearn import svm    # svm\n",
    "from sklearn.decomposition import PCA\n",
    "from sklearn.model_selection import KFold\n",
    "from sklearn import metrics\n",
    "\n",
    "import sklearn as skl"
   ]
  },
  {
   "cell_type": "markdown",
   "metadata": {},
   "source": [
    "# Data Loading"
   ]
  },
  {
   "cell_type": "code",
   "execution_count": 12,
   "metadata": {},
   "outputs": [],
   "source": [
    "# Load all data\n",
    "train_data = pd.read_csv(\"training_labse.csv\")\n",
    "test_data = pd.read_csv(\"test_labse.csv\")\n",
    "validation_data = pd.read_csv(\"validation_labse.csv\")\n",
    "\n",
    "# Separate X's and y's from each other\n",
    "FEATURE_COLUMNS = [x for x in train_data if x.startswith(\"_e\")]\n",
    "LABEL_COLUMN = \"label\"\n",
    "\n",
    "X_train = train_data[FEATURE_COLUMNS]\n",
    "Y_train = train_data[LABEL_COLUMN]\n",
    "\n",
    "X_test = test_data[FEATURE_COLUMNS]\n",
    "Y_test = test_data[LABEL_COLUMN]\n",
    "\n",
    "X_val = validation_data[FEATURE_COLUMNS]\n",
    "Y_val = validation_data[LABEL_COLUMN]\n",
    "\n",
    "# These are used to run cross validation\n",
    "X_train_val = pd.concat([X_train, X_val]) \n",
    "Y_train_val = pd.concat([Y_train, Y_test])"
   ]
  },
  {
   "cell_type": "code",
   "execution_count": 7,
   "metadata": {},
   "outputs": [],
   "source": [
    "# Perform pre-processing PCA on the training set\n",
    "TARGET_EXPLAINED_VARIANCE = 0.95 \n",
    "\n",
    "def perform_pca(dataset):\n",
    "    pca = PCA(n_components= TARGET_EXPLAINED_VARIANCE)\n",
    "\n",
    "    # Need to standardize the data frirst\n",
    "    standardized = (dataset - dataset.mean(axis=0)) / dataset.std(axis = 0)\n",
    "\n",
    "    pca.fit(X=standardized)\n",
    "    dataset_reduced = pca.fit_transform(X=standardized)\n",
    "\n",
    "    return pca, dataset_reduced\n",
    "\n"
   ]
  },
  {
   "cell_type": "code",
   "execution_count": 8,
   "metadata": {},
   "outputs": [],
   "source": [
    "\n",
    "pca_train, X_train_reduced = perform_pca(X_train)\n",
    "pca_tran_val, X_train_val_reduced = perform_pca(X_train_val)"
   ]
  },
  {
   "cell_type": "markdown",
   "metadata": {},
   "source": [
    "# K-Folds Cross Validation"
   ]
  },
  {
   "cell_type": "code",
   "execution_count": 26,
   "metadata": {},
   "outputs": [],
   "source": [
    "\n",
    "def k_folds_x_val(model): \n",
    "    cumulative_accuracy = 0\n",
    "    cumulative_f1 = 0\n",
    "\n",
    "    k_folds = KFold(n_splits=10)\n",
    "\n",
    "    for i, (train_index, test_index) in enumerate(k_folds.split(X_train_val_reduced, Y_train_val)):\n",
    "        model.fit(X_train_val_reduced[train_index], Y_train_val.iloc[train_index])\n",
    "        \n",
    "        Y_pred = model.predict(X_train_val_reduced[test_index])\n",
    "        Y_true = Y_train_val.iloc[test_index]\n",
    "        # Add all metrics here\n",
    "\n",
    "        cumulative_accuracy += metrics.accuracy_score(Y_true, Y_pred)\n",
    "        cumulativve_f1 += metrics.f1_score(Y_true, Y_pred)\n",
    "\n",
    "    folds = k_folds.get_n_splits()\n",
    "    print(f\"Performed {folds}-fold cross validation\")\n",
    "    print(f\"Average accuracy {cumulative_accuracy / folds}\")\n",
    "    print(f\"Average F1-score {cumulative_f1 / folds}\")"
   ]
  },
  {
   "cell_type": "markdown",
   "metadata": {},
   "source": [
    "# Decision Trees"
   ]
  },
  {
   "cell_type": "code",
   "execution_count": 22,
   "metadata": {},
   "outputs": [],
   "source": [
    "decision_tree_model = tree.DecisionTreeClassifier(\n",
    "    criterion='entropy', \n",
    "    splitter = 'best',\n",
    "    max_depth = 5\n",
    ")"
   ]
  },
  {
   "cell_type": "code",
   "execution_count": 27,
   "metadata": {},
   "outputs": [
    {
     "name": "stdout",
     "output_type": "stream",
     "text": [
      "Fold 0:\n",
      "Accuracy: 0.48833333333333334\n",
      "Fold 1:\n"
     ]
    },
    {
     "ename": "KeyboardInterrupt",
     "evalue": "",
     "output_type": "error",
     "traceback": [
      "\u001b[1;31m---------------------------------------------------------------------------\u001b[0m",
      "\u001b[1;31mKeyboardInterrupt\u001b[0m                         Traceback (most recent call last)",
      "\u001b[1;32mc:\\Users\\Joaquin\\Desktop\\LaSalle\\MACLEARN\\MachineLearning\\emotion_detection.ipynb Cell 10\u001b[0m line \u001b[0;36m1\n\u001b[1;32m----> <a href='vscode-notebook-cell:/c%3A/Users/Joaquin/Desktop/LaSalle/MACLEARN/MachineLearning/emotion_detection.ipynb#X31sZmlsZQ%3D%3D?line=0'>1</a>\u001b[0m k_folds_x_val(decision_tree_model)\n",
      "\u001b[1;32mc:\\Users\\Joaquin\\Desktop\\LaSalle\\MACLEARN\\MachineLearning\\emotion_detection.ipynb Cell 10\u001b[0m line \u001b[0;36m6\n\u001b[0;32m      <a href='vscode-notebook-cell:/c%3A/Users/Joaquin/Desktop/LaSalle/MACLEARN/MachineLearning/emotion_detection.ipynb#X31sZmlsZQ%3D%3D?line=3'>4</a>\u001b[0m \u001b[39mfor\u001b[39;00m i, (train_index, test_index) \u001b[39min\u001b[39;00m \u001b[39menumerate\u001b[39m(k_folds\u001b[39m.\u001b[39msplit(X_train_val_reduced, Y_train_val)):\n\u001b[0;32m      <a href='vscode-notebook-cell:/c%3A/Users/Joaquin/Desktop/LaSalle/MACLEARN/MachineLearning/emotion_detection.ipynb#X31sZmlsZQ%3D%3D?line=4'>5</a>\u001b[0m     \u001b[39mprint\u001b[39m(\u001b[39mf\u001b[39m\u001b[39m\"\u001b[39m\u001b[39mFold \u001b[39m\u001b[39m{\u001b[39;00mi\u001b[39m}\u001b[39;00m\u001b[39m:\u001b[39m\u001b[39m\"\u001b[39m)\n\u001b[1;32m----> <a href='vscode-notebook-cell:/c%3A/Users/Joaquin/Desktop/LaSalle/MACLEARN/MachineLearning/emotion_detection.ipynb#X31sZmlsZQ%3D%3D?line=5'>6</a>\u001b[0m     model\u001b[39m.\u001b[39;49mfit(X_train_val_reduced[train_index], Y_train_val\u001b[39m.\u001b[39;49miloc[train_index])\n\u001b[0;32m      <a href='vscode-notebook-cell:/c%3A/Users/Joaquin/Desktop/LaSalle/MACLEARN/MachineLearning/emotion_detection.ipynb#X31sZmlsZQ%3D%3D?line=7'>8</a>\u001b[0m     Y_pred \u001b[39m=\u001b[39m model\u001b[39m.\u001b[39mpredict(X_train_val_reduced[test_index])\n\u001b[0;32m      <a href='vscode-notebook-cell:/c%3A/Users/Joaquin/Desktop/LaSalle/MACLEARN/MachineLearning/emotion_detection.ipynb#X31sZmlsZQ%3D%3D?line=8'>9</a>\u001b[0m     \u001b[39mprint\u001b[39m(\u001b[39m\"\u001b[39m\u001b[39mAccuracy:\u001b[39m\u001b[39m\"\u001b[39m,metrics\u001b[39m.\u001b[39maccuracy_score(Y_train_val\u001b[39m.\u001b[39miloc[test_index], Y_pred))\n",
      "File \u001b[1;32mc:\\Users\\Joaquin\\miniconda3\\envs\\agienv\\Lib\\site-packages\\sklearn\\tree\\_classes.py:889\u001b[0m, in \u001b[0;36mDecisionTreeClassifier.fit\u001b[1;34m(self, X, y, sample_weight, check_input)\u001b[0m\n\u001b[0;32m    859\u001b[0m \u001b[39mdef\u001b[39;00m \u001b[39mfit\u001b[39m(\u001b[39mself\u001b[39m, X, y, sample_weight\u001b[39m=\u001b[39m\u001b[39mNone\u001b[39;00m, check_input\u001b[39m=\u001b[39m\u001b[39mTrue\u001b[39;00m):\n\u001b[0;32m    860\u001b[0m \u001b[39m    \u001b[39m\u001b[39m\"\"\"Build a decision tree classifier from the training set (X, y).\u001b[39;00m\n\u001b[0;32m    861\u001b[0m \n\u001b[0;32m    862\u001b[0m \u001b[39m    Parameters\u001b[39;00m\n\u001b[1;32m   (...)\u001b[0m\n\u001b[0;32m    886\u001b[0m \u001b[39m        Fitted estimator.\u001b[39;00m\n\u001b[0;32m    887\u001b[0m \u001b[39m    \"\"\"\u001b[39;00m\n\u001b[1;32m--> 889\u001b[0m     \u001b[39msuper\u001b[39;49m()\u001b[39m.\u001b[39;49mfit(\n\u001b[0;32m    890\u001b[0m         X,\n\u001b[0;32m    891\u001b[0m         y,\n\u001b[0;32m    892\u001b[0m         sample_weight\u001b[39m=\u001b[39;49msample_weight,\n\u001b[0;32m    893\u001b[0m         check_input\u001b[39m=\u001b[39;49mcheck_input,\n\u001b[0;32m    894\u001b[0m     )\n\u001b[0;32m    895\u001b[0m     \u001b[39mreturn\u001b[39;00m \u001b[39mself\u001b[39m\n",
      "File \u001b[1;32mc:\\Users\\Joaquin\\miniconda3\\envs\\agienv\\Lib\\site-packages\\sklearn\\tree\\_classes.py:379\u001b[0m, in \u001b[0;36mBaseDecisionTree.fit\u001b[1;34m(self, X, y, sample_weight, check_input)\u001b[0m\n\u001b[0;32m    368\u001b[0m \u001b[39melse\u001b[39;00m:\n\u001b[0;32m    369\u001b[0m     builder \u001b[39m=\u001b[39m BestFirstTreeBuilder(\n\u001b[0;32m    370\u001b[0m         splitter,\n\u001b[0;32m    371\u001b[0m         min_samples_split,\n\u001b[1;32m   (...)\u001b[0m\n\u001b[0;32m    376\u001b[0m         \u001b[39mself\u001b[39m\u001b[39m.\u001b[39mmin_impurity_decrease,\n\u001b[0;32m    377\u001b[0m     )\n\u001b[1;32m--> 379\u001b[0m builder\u001b[39m.\u001b[39;49mbuild(\u001b[39mself\u001b[39;49m\u001b[39m.\u001b[39;49mtree_, X, y, sample_weight)\n\u001b[0;32m    381\u001b[0m \u001b[39mif\u001b[39;00m \u001b[39mself\u001b[39m\u001b[39m.\u001b[39mn_outputs_ \u001b[39m==\u001b[39m \u001b[39m1\u001b[39m \u001b[39mand\u001b[39;00m is_classifier(\u001b[39mself\u001b[39m):\n\u001b[0;32m    382\u001b[0m     \u001b[39mself\u001b[39m\u001b[39m.\u001b[39mn_classes_ \u001b[39m=\u001b[39m \u001b[39mself\u001b[39m\u001b[39m.\u001b[39mn_classes_[\u001b[39m0\u001b[39m]\n",
      "\u001b[1;31mKeyboardInterrupt\u001b[0m: "
     ]
    }
   ],
   "source": [
    "k_folds_x_val(decision_tree_model)"
   ]
  },
  {
   "cell_type": "code",
   "execution_count": null,
   "metadata": {},
   "outputs": [
    {
     "data": {
      "text/plain": [
       "[Text(0.5, 0.9166666666666666, 'x[323] <= -0.039\\nentropy = 2.272\\nsamples = 16000\\nvalue = [4666, 5362, 1304, 2159, 1937, 572]'),\n",
       " Text(0.25, 0.75, 'x[613] <= -0.048\\nentropy = 2.274\\nsamples = 10036\\nvalue = [3583, 2370, 570, 1612, 1512, 389]'),\n",
       " Text(0.125, 0.5833333333333334, 'x[151] <= -0.033\\nentropy = 2.214\\nsamples = 5472\\nvalue = [2050, 897, 228, 1111, 1035, 151]'),\n",
       " Text(0.0625, 0.4166666666666667, 'x[332] <= 0.012\\nentropy = 2.103\\nsamples = 2941\\nvalue = [1156, 310, 65, 624, 706, 80]'),\n",
       " Text(0.03125, 0.25, 'x[190] <= -0.004\\nentropy = 2.174\\nsamples = 1531\\nvalue = [483, 210, 43, 283, 472, 40]'),\n",
       " Text(0.015625, 0.08333333333333333, 'entropy = 2.112\\nsamples = 654\\nvalue = [160, 112, 21, 70, 272, 19]'),\n",
       " Text(0.046875, 0.08333333333333333, 'entropy = 2.129\\nsamples = 877\\nvalue = [323, 98, 22, 213, 200, 21]'),\n",
       " Text(0.09375, 0.25, 'x[0] <= -0.039\\nentropy = 1.945\\nsamples = 1410\\nvalue = [673, 100, 22, 341, 234, 40]'),\n",
       " Text(0.078125, 0.08333333333333333, 'entropy = 1.297\\nsamples = 256\\nvalue = [187, 6, 2, 37, 20, 4]'),\n",
       " Text(0.109375, 0.08333333333333333, 'entropy = 2.035\\nsamples = 1154\\nvalue = [486, 94, 20, 304, 214, 36]'),\n",
       " Text(0.1875, 0.4166666666666667, 'x[556] <= -0.019\\nentropy = 2.259\\nsamples = 2531\\nvalue = [894, 587, 163, 487, 329, 71]'),\n",
       " Text(0.15625, 0.25, 'x[305] <= -0.053\\nentropy = 2.249\\nsamples = 1147\\nvalue = [363, 366, 83, 161, 137, 37]'),\n",
       " Text(0.140625, 0.08333333333333333, 'entropy = 2.135\\nsamples = 448\\nvalue = [92, 198, 36, 53, 62, 7]'),\n",
       " Text(0.171875, 0.08333333333333333, 'entropy = 2.243\\nsamples = 699\\nvalue = [271, 168, 47, 108, 75, 30]'),\n",
       " Text(0.21875, 0.25, 'x[462] <= -0.033\\nentropy = 2.209\\nsamples = 1384\\nvalue = [531, 221, 80, 326, 192, 34]'),\n",
       " Text(0.203125, 0.08333333333333333, 'entropy = 2.259\\nsamples = 360\\nvalue = [130, 72, 46, 74, 31, 7]'),\n",
       " Text(0.234375, 0.08333333333333333, 'entropy = 2.153\\nsamples = 1024\\nvalue = [401, 149, 34, 252, 161, 27]'),\n",
       " Text(0.375, 0.5833333333333334, 'x[415] <= 0.001\\nentropy = 2.248\\nsamples = 4564\\nvalue = [1533, 1473, 342, 501, 477, 238]'),\n",
       " Text(0.3125, 0.4166666666666667, 'x[390] <= -0.037\\nentropy = 2.207\\nsamples = 2373\\nvalue = [615, 981, 208, 173, 240, 156]'),\n",
       " Text(0.28125, 0.25, 'x[480] <= -0.022\\nentropy = 1.94\\nsamples = 1079\\nvalue = [224, 583, 102, 48, 66, 56]'),\n",
       " Text(0.265625, 0.08333333333333333, 'entropy = 2.051\\nsamples = 544\\nvalue = [160, 245, 35, 33, 39, 32]'),\n",
       " Text(0.296875, 0.08333333333333333, 'entropy = 1.723\\nsamples = 535\\nvalue = [64, 338, 67, 15, 27, 24]'),\n",
       " Text(0.34375, 0.25, 'x[356] <= -0.017\\nentropy = 2.341\\nsamples = 1294\\nvalue = [391, 398, 106, 125, 174, 100]'),\n",
       " Text(0.328125, 0.08333333333333333, 'entropy = 2.307\\nsamples = 671\\nvalue = [156, 259, 79, 55, 66, 56]'),\n",
       " Text(0.359375, 0.08333333333333333, 'entropy = 2.272\\nsamples = 623\\nvalue = [235, 139, 27, 70, 108, 44]'),\n",
       " Text(0.4375, 0.4166666666666667, 'x[480] <= -0.012\\nentropy = 2.191\\nsamples = 2191\\nvalue = [918, 492, 134, 328, 237, 82]'),\n",
       " Text(0.40625, 0.25, 'x[119] <= -0.007\\nentropy = 2.058\\nsamples = 1365\\nvalue = [672, 216, 59, 210, 167, 41]'),\n",
       " Text(0.390625, 0.08333333333333333, 'entropy = 1.825\\nsamples = 614\\nvalue = [348, 49, 14, 102, 89, 12]'),\n",
       " Text(0.421875, 0.08333333333333333, 'entropy = 2.172\\nsamples = 751\\nvalue = [324, 167, 45, 108, 78, 29]'),\n",
       " Text(0.46875, 0.25, 'x[556] <= -0.028\\nentropy = 2.281\\nsamples = 826\\nvalue = [246, 276, 75, 118, 70, 41]'),\n",
       " Text(0.453125, 0.08333333333333333, 'entropy = 2.012\\nsamples = 302\\nvalue = [71, 151, 23, 28, 16, 13]'),\n",
       " Text(0.484375, 0.08333333333333333, 'entropy = 2.353\\nsamples = 524\\nvalue = [175, 125, 52, 90, 54, 28]'),\n",
       " Text(0.75, 0.75, 'x[415] <= 0.009\\nentropy = 2.06\\nsamples = 5964\\nvalue = [1083, 2992, 734, 547, 425, 183]'),\n",
       " Text(0.625, 0.5833333333333334, 'x[208] <= -0.017\\nentropy = 1.835\\nsamples = 3568\\nvalue = [442, 2139, 450, 200, 222, 115]'),\n",
       " Text(0.5625, 0.4166666666666667, 'x[433] <= -0.021\\nentropy = 1.472\\nsamples = 1728\\nvalue = [130, 1219, 221, 70, 50, 38]'),\n",
       " Text(0.53125, 0.25, 'x[278] <= 0.015\\nentropy = 1.128\\nsamples = 1018\\nvalue = [70, 813, 76, 27, 22, 10]'),\n",
       " Text(0.515625, 0.08333333333333333, 'entropy = 1.561\\nsamples = 356\\nvalue = [46, 241, 27, 21, 18, 3]'),\n",
       " Text(0.546875, 0.08333333333333333, 'entropy = 0.809\\nsamples = 662\\nvalue = [24, 572, 49, 6, 4, 7]'),\n",
       " Text(0.59375, 0.25, 'x[97] <= -0.04\\nentropy = 1.843\\nsamples = 710\\nvalue = [60, 406, 145, 43, 28, 28]'),\n",
       " Text(0.578125, 0.08333333333333333, 'entropy = 1.617\\nsamples = 295\\nvalue = [16, 202, 27, 19, 13, 18]'),\n",
       " Text(0.609375, 0.08333333333333333, 'entropy = 1.903\\nsamples = 415\\nvalue = [44, 204, 118, 24, 15, 10]'),\n",
       " Text(0.6875, 0.4166666666666667, 'x[390] <= -0.042\\nentropy = 2.09\\nsamples = 1840\\nvalue = [312, 920, 229, 130, 172, 77]'),\n",
       " Text(0.65625, 0.25, 'x[393] <= -0.039\\nentropy = 1.786\\nsamples = 880\\nvalue = [112, 536, 119, 40, 43, 30]'),\n",
       " Text(0.640625, 0.08333333333333333, 'entropy = 1.589\\nsamples = 655\\nvalue = [54, 444, 83, 27, 25, 22]'),\n",
       " Text(0.671875, 0.08333333333333333, 'entropy = 2.155\\nsamples = 225\\nvalue = [58, 92, 36, 13, 18, 8]'),\n",
       " Text(0.71875, 0.25, 'x[613] <= -0.051\\nentropy = 2.281\\nsamples = 960\\nvalue = [200, 384, 110, 90, 129, 47]'),\n",
       " Text(0.703125, 0.08333333333333333, 'entropy = 2.334\\nsamples = 447\\nvalue = [121, 135, 31, 54, 84, 22]'),\n",
       " Text(0.734375, 0.08333333333333333, 'entropy = 2.127\\nsamples = 513\\nvalue = [79, 249, 79, 36, 45, 25]'),\n",
       " Text(0.875, 0.5833333333333334, 'x[610] <= -0.026\\nentropy = 2.255\\nsamples = 2396\\nvalue = [641, 853, 284, 347, 203, 68]'),\n",
       " Text(0.8125, 0.4166666666666667, 'x[267] <= 0.012\\nentropy = 2.008\\nsamples = 929\\nvalue = [205, 446, 147, 71, 40, 20]'),\n",
       " Text(0.78125, 0.25, 'x[382] <= -0.049\\nentropy = 1.815\\nsamples = 650\\nvalue = [111, 371, 99, 31, 24, 14]'),\n",
       " Text(0.765625, 0.08333333333333333, 'entropy = 1.4\\nsamples = 374\\nvalue = [42, 264, 47, 11, 4, 6]'),\n",
       " Text(0.796875, 0.08333333333333333, 'entropy = 2.181\\nsamples = 276\\nvalue = [69, 107, 52, 20, 20, 8]'),\n",
       " Text(0.84375, 0.25, 'x[347] <= -0.004\\nentropy = 2.233\\nsamples = 279\\nvalue = [94, 75, 48, 40, 16, 6]'),\n",
       " Text(0.828125, 0.08333333333333333, 'entropy = 2.178\\nsamples = 212\\nvalue = [84, 52, 21, 36, 14, 5]'),\n",
       " Text(0.859375, 0.08333333333333333, 'entropy = 1.952\\nsamples = 67\\nvalue = [10, 23, 27, 4, 2, 1]'),\n",
       " Text(0.9375, 0.4166666666666667, 'x[305] <= -0.051\\nentropy = 2.32\\nsamples = 1467\\nvalue = [436, 407, 137, 276, 163, 48]'),\n",
       " Text(0.90625, 0.25, 'x[279] <= 0.009\\nentropy = 2.174\\nsamples = 434\\nvalue = [79, 193, 67, 48, 34, 13]'),\n",
       " Text(0.890625, 0.08333333333333333, 'entropy = 1.663\\nsamples = 176\\nvalue = [13, 108, 32, 8, 15, 0]'),\n",
       " Text(0.921875, 0.08333333333333333, 'entropy = 2.333\\nsamples = 258\\nvalue = [66, 85, 35, 40, 19, 13]'),\n",
       " Text(0.96875, 0.25, 'x[462] <= -0.017\\nentropy = 2.285\\nsamples = 1033\\nvalue = [357, 214, 70, 228, 129, 35]'),\n",
       " Text(0.953125, 0.08333333333333333, 'entropy = 2.295\\nsamples = 413\\nvalue = [135, 118, 46, 66, 27, 21]'),\n",
       " Text(0.984375, 0.08333333333333333, 'entropy = 2.187\\nsamples = 620\\nvalue = [222, 96, 24, 162, 102, 14]')]"
      ]
     },
     "execution_count": 12,
     "metadata": {},
     "output_type": "execute_result"
    },
    {
     "data": {
      "image/png": "[encoded data removed]",
      "text/plain": [
       "<Figure size 640x480 with 1 Axes>"
      ]
     },
     "metadata": {},
     "output_type": "display_data"
    }
   ],
   "source": [
    "decision_tree_model.fit(X_train_reduced, Y_train)\n",
    "tree.plot_tree(decision_tree_model)"
   ]
  },
  {
   "cell_type": "markdown",
   "metadata": {},
   "source": [
    "# SVMs"
   ]
  },
  {
   "cell_type": "code",
   "execution_count": 45,
   "metadata": {},
   "outputs": [],
   "source": [
    "svm_classifier = svm.SVC(kernel='sigmoid') # 'precomputed', 'linear', 'poly', 'sigmoid', 'rbf'\n",
    "\n",
    "#Train the model using the training sets\n",
    "svm_classifier.fit(X_train_reduced, Y_train)\n",
    "\n",
    "#Predict the response for test dataset\n",
    "Y_pred = svm_classifier.predict(X_test)"
   ]
  },
  {
   "cell_type": "code",
   "execution_count": 46,
   "metadata": {},
   "outputs": [
    {
     "name": "stdout",
     "output_type": "stream",
     "text": [
      "Accuracy: 0.6235\n"
     ]
    }
   ],
   "source": [
    "\n",
    "print(\"Accuracy:\",metrics.accuracy_score(Y_test, Y_pred))\n",
    "# Linear = 0.64\n",
    "# rbf = 0.659\n",
    "# poly = 0.662\n",
    "# sigmoid = 0.6235\n"
   ]
  },
  {
   "cell_type": "markdown",
   "metadata": {},
   "source": [
    "# MLP"
   ]
  },
  {
   "cell_type": "markdown",
   "metadata": {},
   "source": [
    "# RNN"
   ]
  },
  {
   "cell_type": "markdown",
   "metadata": {},
   "source": [
    "# Encoder-Only Transformer"
   ]
  },
  {
   "cell_type": "markdown",
   "metadata": {},
   "source": [
    "# Test"
   ]
  },
  {
   "cell_type": "code",
   "execution_count": null,
   "metadata": {},
   "outputs": [],
   "source": [
    "model_to_test = decision_tree_model"
   ]
  },
  {
   "cell_type": "code",
   "execution_count": null,
   "metadata": {},
   "outputs": [],
   "source": [
    "#TODO: Add stuff for running the test set on the model"
   ]
  }
 ],
 "metadata": {
  "kernelspec": {
   "display_name": "agienv",
   "language": "python",
   "name": "python3"
  },
  "language_info": {
   "codemirror_mode": {
    "name": "ipython",
    "version": 3
   },
   "file_extension": ".py",
   "mimetype": "text/x-python",
   "name": "python",
   "nbconvert_exporter": "python",
   "pygments_lexer": "ipython3",
   "version": "3.11.3"
  },
  "orig_nbformat": 4
 },
 "nbformat": 4,
 "nbformat_minor": 2
}
