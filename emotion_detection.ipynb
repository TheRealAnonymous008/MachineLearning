{
 "cells": [
  {
   "cell_type": "code",
   "execution_count": 10,
   "metadata": {},
   "outputs": [
    {
     "name": "stdout",
     "output_type": "stream",
     "text": [
      "The autoreload extension is already loaded. To reload it, use:\n",
      "  %reload_ext autoreload\n"
     ]
    }
   ],
   "source": [
    "%load_ext autoreload\n",
    "%autoreload 2\n",
    "\n",
    "import numpy as np\n",
    "import pandas as pd\n",
    "import matplotlib.pyplot as plt\n",
    "\n",
    "\n",
    "# All skl imports go here\n",
    "from sklearn import tree   # Decision Trees\n",
    "from sklearn import svm    # svm\n",
    "from sklearn.decomposition import PCA\n",
    "from sklearn.model_selection import cross_validate, GridSearchCV\n",
    "from sklearn.metrics import confusion_matrix, accuracy_score, f1_score\n",
    "from sklearn.neural_network import MLPClassifier\n",
    "from sklearn.cluster import KMeans\n",
    "from sklearn.metrics import davies_bouldin_score\n",
    "from sklearn import metrics\n",
    "import sklearn as skl"
   ]
  },
  {
   "cell_type": "markdown",
   "metadata": {},
   "source": [
    "# Data Loading"
   ]
  },
  {
   "cell_type": "code",
   "execution_count": 2,
   "metadata": {},
   "outputs": [],
   "source": [
    "NUM_CLASSES = 6\n",
    "CLASSES = [\"sadnesss\", \"joy\", \"love\", \"anger\", \"fear\"]"
   ]
  },
  {
   "cell_type": "code",
   "execution_count": 3,
   "metadata": {},
   "outputs": [],
   "source": [
    "# Load all data\n",
    "train_data = pd.read_csv(\"data/training_labse.csv\")\n",
    "test_data = pd.read_csv(\"data/test_labse.csv\")\n",
    "validation_data = pd.read_csv(\"data/validation_labse.csv\")\n",
    "\n",
    "# Separate X's and y's from each other\n",
    "FEATURE_COLUMNS = [x for x in train_data if x.startswith(\"_e\")]\n",
    "LABEL_COLUMN = \"label\"\n",
    "\n",
    "X_train = train_data[FEATURE_COLUMNS]\n",
    "Y_train = train_data[LABEL_COLUMN]\n",
    "\n",
    "X_test = test_data[FEATURE_COLUMNS]\n",
    "Y_test = test_data[LABEL_COLUMN]\n",
    "\n",
    "X_val = validation_data[FEATURE_COLUMNS]\n",
    "Y_val = validation_data[LABEL_COLUMN]\n",
    "\n",
    "# These are used to run cross validation\n",
    "X_train_val = pd.concat([X_train, X_val]) \n",
    "Y_train_val = pd.concat([Y_train, Y_test])\n",
    "\n",
    "# These are used to run val and test for Neural Nets\n",
    "X_val_test = pd.concat([X_val, X_test])\n",
    "Y_val_test = pd.concat([Y_val, Y_test])"
   ]
  },
  {
   "cell_type": "code",
   "execution_count": 4,
   "metadata": {},
   "outputs": [],
   "source": [
    "# Perform pre-processing PCA on the training set\n",
    "def perform_pca(dataset, target_variance):\n",
    "    pca = PCA(n_components= target_variance)\n",
    "\n",
    "    # Need to standardize the data frirst\n",
    "    standardized = (dataset - dataset.mean(axis=0)) / dataset.std(axis = 0)\n",
    "\n",
    "    pca.fit(X=standardized)\n",
    "    dataset_reduced = pca.fit_transform(X=standardized)\n",
    "\n",
    "    return pca, dataset_reduced"
   ]
  },
  {
   "cell_type": "code",
   "execution_count": 5,
   "metadata": {},
   "outputs": [
    {
     "name": "stdout",
     "output_type": "stream",
     "text": [
      "768 components for training\n"
     ]
    }
   ],
   "source": [
    "TARGET_EXPLAINED_VARIANCE = 0.999999\n",
    "\n",
    "pca_train, X_train_reduced = perform_pca(X_train, TARGET_EXPLAINED_VARIANCE)\n",
    "X_val_reduced = pca_train.transform(X_val)\n",
    "X_test_redced = pca_train.transform(X_test)\n",
    "X_train_val_reduced = pca_train.transform(X_train_val)\n",
    "X_val_test_reduced = pca_train.transform(X_val_test)\n",
    "\n",
    "print(f\"{pca_train.n_components_} components for training\")"
   ]
  },
  {
   "cell_type": "code",
   "execution_count": 6,
   "metadata": {},
   "outputs": [],
   "source": [
    "X_train_unreduced = X_train.to_numpy()\n",
    "X_val_unreduced = X_val.to_numpy()\n",
    "X_test_unreduced = X_test.to_numpy()\n",
    "X_train_val_unreduced = X_train_val.to_numpy()\n",
    "X_val_test_unreduced = X_val_test.to_numpy()\n"
   ]
  },
  {
   "cell_type": "markdown",
   "metadata": {},
   "source": [
    "# K-Folds Cross Validation"
   ]
  },
  {
   "cell_type": "code",
   "execution_count": 7,
   "metadata": {},
   "outputs": [],
   "source": [
    "\n",
    "def k_folds_x_val(model, X, y, k =  5): \n",
    "    results = cross_validate(model, X, y, cv=k, scoring=[\"accuracy\"])\n",
    "    mean_accuracy = results['test_accuracy'].mean()\n",
    "    print(f\"Mean Accuracy: {mean_accuracy}\")\n",
    "    return mean_accuracy, \n",
    "\n",
    "def get_cmat(model, X, y):\n",
    "    y_pred = model.predict(X)\n",
    "    return confusion_matrix(y, y_pred, normalize=\"pred\")\n",
    "\n",
    "def get_metrics(model, X, y):\n",
    "    y_pred = model.predict(X)\n",
    "    return accuracy_score(y, y_pred), f1_score(y, y_pred, average=\"weighted\")"
   ]
  },
  {
   "cell_type": "markdown",
   "metadata": {},
   "source": [
    "# Grid Search Hyperparameter Optimization"
   ]
  },
  {
   "cell_type": "code",
   "execution_count": 8,
   "metadata": {},
   "outputs": [],
   "source": [
    "def gridSearchHPO(model, search_space):\n",
    "    grid_search = GridSearchCV(estimator=model,\n",
    "                                param_grid=search_space,\n",
    "                                scoring='accuracy',\n",
    "                                cv=5,\n",
    "                                verbose=3,\n",
    "                                error_score='raise',\n",
    "                                n_jobs=-1,  # -1 means max amount\n",
    "                                )\n",
    "    return grid_search"
   ]
  },
  {
   "cell_type": "markdown",
   "metadata": {},
   "source": [
    "# Decision Trees"
   ]
  },
  {
   "cell_type": "code",
   "execution_count": 8,
   "metadata": {},
   "outputs": [],
   "source": [
    "decision_tree_model = tree.DecisionTreeClassifier(\n",
    "    criterion ='entropy', \n",
    "    splitter = 'best',\n",
    "    max_depth = 256, \n",
    "    max_features = 'sqrt',\n",
    "    max_leaf_nodes = 80,\n",
    ")"
   ]
  },
  {
   "cell_type": "code",
   "execution_count": 34,
   "metadata": {},
   "outputs": [
    {
     "name": "stderr",
     "output_type": "stream",
     "text": [
      "c:\\Users\\techt\\AppData\\Local\\Programs\\Python\\Python311\\Lib\\site-packages\\sklearn\\model_selection\\_search.py:979: UserWarning: One or more of the test scores are non-finite: [nan nan nan nan nan nan nan nan nan nan nan nan nan nan nan nan nan nan\n",
      " nan nan nan nan nan nan nan nan nan nan nan nan nan nan nan nan nan nan\n",
      " nan nan nan nan nan nan nan nan nan nan nan nan nan nan nan nan nan nan\n",
      " nan nan nan nan nan nan nan nan nan nan nan nan nan nan nan nan nan nan\n",
      " nan nan nan nan nan nan nan nan nan nan nan nan nan nan nan nan nan nan\n",
      " nan nan nan nan nan nan nan nan nan nan nan nan nan nan nan nan nan nan\n",
      " nan nan nan nan nan nan nan nan nan nan nan nan nan nan nan nan nan nan\n",
      " nan nan nan nan nan nan nan nan nan nan nan nan nan nan nan nan nan nan]\n",
      "  warnings.warn(\n"
     ]
    }
   ],
   "source": [
    "# ['ccp_alpha', 'class_weight', 'criterion', 'max_depth', 'max_features', 'max_leaf_nodes', \n",
    "# 'min_impurity_decrease', 'min_samples_leaf', 'min_samples_split', 'min_weight_fraction_leaf', 'random_state', 'splitter']\n",
    "dt_search_space = {\n",
    "    # 'ccp_alpha':[0.1, 0.2, 0.4, 0.5],\n",
    "    'max_leaf_nodes':[71, 72, 73, 74, 75, 76, 77, 78, 79, 80], \n",
    "    # 'min_impurity_decrease':[1.0, 0.5, 1.5, 2.0], # float\n",
    "    # 'min_weight_fraction_leaf':[0.1, 0.2, 0.4, 0.5],\n",
    "    'max_depth':[255, 256, 257, 258, 259, 260], \n",
    "    # 'max_features':[\"log2\", \"sqrt\"], \n",
    "    # 'min_samples_leaf':[0.1, 0.2, 0.4, 0.5], \n",
    "    # 'min_samples_split':[0.1, 0.2, 0.4, 0.5]\n",
    "    }\n",
    "\n",
    "model_dt = decision_tree_model.fit(X_train, Y_train)\n",
    "\n",
    "gridsearch_dt = gridSearchHPO(model=model_dt, search_space=dt_search_space)"
   ]
  },
  {
   "cell_type": "code",
   "execution_count": null,
   "metadata": {},
   "outputs": [],
   "source": [
    "gridsearch_dt.fit(X_train, Y_train)"
   ]
  },
  {
   "cell_type": "code",
   "execution_count": 35,
   "metadata": {},
   "outputs": [
    {
     "data": {
      "text/plain": [
       "{'max_depth': 8,\n",
       " 'max_features': 8,\n",
       " 'min_samples_leaf': 1,\n",
       " 'min_samples_split': 16}"
      ]
     },
     "execution_count": 35,
     "metadata": {},
     "output_type": "execute_result"
    }
   ],
   "source": [
    "print(\"Best Score: {}\".format(gridsearch_dt.best_score_))\n",
    "print(\"Best params: {}\".format(gridsearch_dt.best_params_))"
   ]
  },
  {
   "cell_type": "markdown",
   "metadata": {},
   "source": [
    "# SVMs"
   ]
  },
  {
   "cell_type": "code",
   "execution_count": 11,
   "metadata": {},
   "outputs": [
    {
     "name": "stdout",
     "output_type": "stream",
     "text": [
      "Performed 10-fold cross validation\n",
      "Average accuracy 0.5808888888888889\n",
      "Average Kappa 0.4227651194469132\n"
     ]
    }
   ],
   "source": [
    "svm_classifier = svm.SVC(max_iter=-1)\n",
    "\n",
    "#Train the model using the training sets\n",
    "svm_classifier.fit(X_train, Y_train)\n",
    "\n",
    "#Predict the response for test dataset\n",
    "# k_folds_x_val(svm_classifier)"
   ]
  },
  {
   "cell_type": "code",
   "execution_count": null,
   "metadata": {},
   "outputs": [],
   "source": [
    "svm_search_space={\n",
    "    'C': [0.1, 1, 10, 100, 1000],\n",
    "    'kernel': ['poly'], # poly - 'rbf', 'linear', 'sigmoid' \n",
    "    'degree': [3],  # 3\n",
    "    'gamma': ['scale'], #'auto',  1, 0.1, 0.01, 0.001, 0.0001, \n",
    "    'coef0': [0.0, 0.1, 0.2, 0.5, 0.8, 1.0], \n",
    "    'shrinking': [True], \n",
    "    'probability': [False], \n",
    "    'tol': [0.1],  \n",
    "    'class_weight': [None], \n",
    "    'decision_function_shape': ['ovr'], # 'ovo'\n",
    "}\n",
    "\n",
    "gridsearch_svm = gridSearchHPO(svm_classifier, svm_search_space)"
   ]
  },
  {
   "cell_type": "code",
   "execution_count": null,
   "metadata": {},
   "outputs": [],
   "source": [
    "gridsearch_svm.fit(X_train, Y_train)"
   ]
  },
  {
   "cell_type": "code",
   "execution_count": null,
   "metadata": {},
   "outputs": [],
   "source": [
    "print(\"Best Score: {}\".format(gridsearch_svm.best_score_))\n",
    "print(\"Best params: {}\".format(gridsearch_svm.best_params_))"
   ]
  },
  {
   "cell_type": "markdown",
   "metadata": {},
   "source": [
    "# Pytorch Setup"
   ]
  },
  {
   "cell_type": "code",
   "execution_count": 19,
   "metadata": {},
   "outputs": [],
   "source": [
    "# Pytorch specific constants\n",
    "from torch.utils.data import TensorDataset, DataLoader\n",
    "from utils.neuralnet import NeuralNetwork\n",
    "from utils.trainer import training_loop, evaluate\n",
    "import torch\n",
    "\n",
    "BATCH_SIZE = 16\n",
    "LEARNING_RATE = 1e-3"
   ]
  },
  {
   "cell_type": "markdown",
   "metadata": {},
   "source": [
    "# MLP"
   ]
  },
  {
   "cell_type": "code",
   "execution_count": 67,
   "metadata": {},
   "outputs": [],
   "source": [
    "X_train_used = X_train_unreduced\n",
    "X_test_used = X_test_unreduced\n",
    "X_val_used = X_val_unreduced\n",
    "X_train_val_used = X_train_val_unreduced\n",
    "X_val_test_used = X_val_test_unreduced"
   ]
  },
  {
   "cell_type": "code",
   "execution_count": 68,
   "metadata": {},
   "outputs": [
    {
     "name": "stderr",
     "output_type": "stream",
     "text": [
      "c:\\Users\\Joaquin\\miniconda3\\envs\\agienv\\Lib\\site-packages\\sklearn\\neural_network\\_multilayer_perceptron.py:686: ConvergenceWarning: Stochastic Optimizer: Maximum iterations (200) reached and the optimization hasn't converged yet.\n",
      "  warnings.warn(\n"
     ]
    },
    {
     "data": {
      "text/html": [
       "<style>#sk-container-id-6 {color: black;background-color: white;}#sk-container-id-6 pre{padding: 0;}#sk-container-id-6 div.sk-toggleable {background-color: white;}#sk-container-id-6 label.sk-toggleable__label {cursor: pointer;display: block;width: 100%;margin-bottom: 0;padding: 0.3em;box-sizing: border-box;text-align: center;}#sk-container-id-6 label.sk-toggleable__label-arrow:before {content: \"▸\";float: left;margin-right: 0.25em;color: #696969;}#sk-container-id-6 label.sk-toggleable__label-arrow:hover:before {color: black;}#sk-container-id-6 div.sk-estimator:hover label.sk-toggleable__label-arrow:before {color: black;}#sk-container-id-6 div.sk-toggleable__content {max-height: 0;max-width: 0;overflow: hidden;text-align: left;background-color: #f0f8ff;}#sk-container-id-6 div.sk-toggleable__content pre {margin: 0.2em;color: black;border-radius: 0.25em;background-color: #f0f8ff;}#sk-container-id-6 input.sk-toggleable__control:checked~div.sk-toggleable__content {max-height: 200px;max-width: 100%;overflow: auto;}#sk-container-id-6 input.sk-toggleable__control:checked~label.sk-toggleable__label-arrow:before {content: \"▾\";}#sk-container-id-6 div.sk-estimator input.sk-toggleable__control:checked~label.sk-toggleable__label {background-color: #d4ebff;}#sk-container-id-6 div.sk-label input.sk-toggleable__control:checked~label.sk-toggleable__label {background-color: #d4ebff;}#sk-container-id-6 input.sk-hidden--visually {border: 0;clip: rect(1px 1px 1px 1px);clip: rect(1px, 1px, 1px, 1px);height: 1px;margin: -1px;overflow: hidden;padding: 0;position: absolute;width: 1px;}#sk-container-id-6 div.sk-estimator {font-family: monospace;background-color: #f0f8ff;border: 1px dotted black;border-radius: 0.25em;box-sizing: border-box;margin-bottom: 0.5em;}#sk-container-id-6 div.sk-estimator:hover {background-color: #d4ebff;}#sk-container-id-6 div.sk-parallel-item::after {content: \"\";width: 100%;border-bottom: 1px solid gray;flex-grow: 1;}#sk-container-id-6 div.sk-label:hover label.sk-toggleable__label {background-color: #d4ebff;}#sk-container-id-6 div.sk-serial::before {content: \"\";position: absolute;border-left: 1px solid gray;box-sizing: border-box;top: 0;bottom: 0;left: 50%;z-index: 0;}#sk-container-id-6 div.sk-serial {display: flex;flex-direction: column;align-items: center;background-color: white;padding-right: 0.2em;padding-left: 0.2em;position: relative;}#sk-container-id-6 div.sk-item {position: relative;z-index: 1;}#sk-container-id-6 div.sk-parallel {display: flex;align-items: stretch;justify-content: center;background-color: white;position: relative;}#sk-container-id-6 div.sk-item::before, #sk-container-id-6 div.sk-parallel-item::before {content: \"\";position: absolute;border-left: 1px solid gray;box-sizing: border-box;top: 0;bottom: 0;left: 50%;z-index: -1;}#sk-container-id-6 div.sk-parallel-item {display: flex;flex-direction: column;z-index: 1;position: relative;background-color: white;}#sk-container-id-6 div.sk-parallel-item:first-child::after {align-self: flex-end;width: 50%;}#sk-container-id-6 div.sk-parallel-item:last-child::after {align-self: flex-start;width: 50%;}#sk-container-id-6 div.sk-parallel-item:only-child::after {width: 0;}#sk-container-id-6 div.sk-dashed-wrapped {border: 1px dashed gray;margin: 0 0.4em 0.5em 0.4em;box-sizing: border-box;padding-bottom: 0.4em;background-color: white;}#sk-container-id-6 div.sk-label label {font-family: monospace;font-weight: bold;display: inline-block;line-height: 1.2em;}#sk-container-id-6 div.sk-label-container {text-align: center;}#sk-container-id-6 div.sk-container {/* jupyter's `normalize.less` sets `[hidden] { display: none; }` but bootstrap.min.css set `[hidden] { display: none !important; }` so we also need the `!important` here to be able to override the default hidden behavior on the sphinx rendered scikit-learn.org. See: https://github.com/scikit-learn/scikit-learn/issues/21755 */display: inline-block !important;position: relative;}#sk-container-id-6 div.sk-text-repr-fallback {display: none;}</style><div id=\"sk-container-id-6\" class=\"sk-top-container\"><div class=\"sk-text-repr-fallback\"><pre>MLPClassifier(hidden_layer_sizes=[])</pre><b>In a Jupyter environment, please rerun this cell to show the HTML representation or trust the notebook. <br />On GitHub, the HTML representation is unable to render, please try loading this page with nbviewer.org.</b></div><div class=\"sk-container\" hidden><div class=\"sk-item\"><div class=\"sk-estimator sk-toggleable\"><input class=\"sk-toggleable__control sk-hidden--visually\" id=\"sk-estimator-id-6\" type=\"checkbox\" checked><label for=\"sk-estimator-id-6\" class=\"sk-toggleable__label sk-toggleable__label-arrow\">MLPClassifier</label><div class=\"sk-toggleable__content\"><pre>MLPClassifier(hidden_layer_sizes=[])</pre></div></div></div></div></div>"
      ],
      "text/plain": [
       "MLPClassifier(hidden_layer_sizes=[])"
      ]
     },
     "execution_count": 68,
     "metadata": {},
     "output_type": "execute_result"
    }
   ],
   "source": [
    "mlp = MLPClassifier([], 'relu', solver=\"adam\")\n",
    "mlp.fit(X_train_used, Y_train)"
   ]
  },
  {
   "cell_type": "code",
   "execution_count": 69,
   "metadata": {},
   "outputs": [
    {
     "name": "stderr",
     "output_type": "stream",
     "text": [
      "c:\\Users\\Joaquin\\miniconda3\\envs\\agienv\\Lib\\site-packages\\sklearn\\neural_network\\_multilayer_perceptron.py:686: ConvergenceWarning: Stochastic Optimizer: Maximum iterations (200) reached and the optimization hasn't converged yet.\n",
      "  warnings.warn(\n",
      "c:\\Users\\Joaquin\\miniconda3\\envs\\agienv\\Lib\\site-packages\\sklearn\\neural_network\\_multilayer_perceptron.py:686: ConvergenceWarning: Stochastic Optimizer: Maximum iterations (200) reached and the optimization hasn't converged yet.\n",
      "  warnings.warn(\n",
      "c:\\Users\\Joaquin\\miniconda3\\envs\\agienv\\Lib\\site-packages\\sklearn\\neural_network\\_multilayer_perceptron.py:686: ConvergenceWarning: Stochastic Optimizer: Maximum iterations (200) reached and the optimization hasn't converged yet.\n",
      "  warnings.warn(\n",
      "c:\\Users\\Joaquin\\miniconda3\\envs\\agienv\\Lib\\site-packages\\sklearn\\neural_network\\_multilayer_perceptron.py:686: ConvergenceWarning: Stochastic Optimizer: Maximum iterations (200) reached and the optimization hasn't converged yet.\n",
      "  warnings.warn(\n"
     ]
    },
    {
     "name": "stdout",
     "output_type": "stream",
     "text": [
      "Mean Accuracy: 0.5924444444444443\n"
     ]
    },
    {
     "name": "stderr",
     "output_type": "stream",
     "text": [
      "c:\\Users\\Joaquin\\miniconda3\\envs\\agienv\\Lib\\site-packages\\sklearn\\neural_network\\_multilayer_perceptron.py:686: ConvergenceWarning: Stochastic Optimizer: Maximum iterations (200) reached and the optimization hasn't converged yet.\n",
      "  warnings.warn(\n"
     ]
    },
    {
     "data": {
      "text/plain": [
       "(0.5924444444444443,)"
      ]
     },
     "execution_count": 69,
     "metadata": {},
     "output_type": "execute_result"
    }
   ],
   "source": [
    "k_folds_x_val(mlp, X_train_val_used, Y_train_val)"
   ]
  },
  {
   "cell_type": "code",
   "execution_count": 70,
   "metadata": {},
   "outputs": [
    {
     "name": "stdout",
     "output_type": "stream",
     "text": [
      "(0.644, 0.6298770559202335)\n"
     ]
    },
    {
     "data": {
      "image/png": "[encoded data removed]",
      "text/plain": [
       "<Figure size 480x480 with 1 Axes>"
      ]
     },
     "metadata": {},
     "output_type": "display_data"
    }
   ],
   "source": [
    "cmat = get_cmat(mlp, X_val_test_used, Y_val_test)\n",
    "print(get_metrics(mlp, X_val_test_used, Y_val_test))\n",
    "plt.matshow(cmat)\n",
    "plt.show()"
   ]
  },
  {
   "cell_type": "code",
   "execution_count": 71,
   "metadata": {},
   "outputs": [],
   "source": [
    "from utils.neuralnet import NeuralNetwork\n",
    "from utils.trainer import training_loop, evaluate"
   ]
  },
  {
   "cell_type": "code",
   "execution_count": 72,
   "metadata": {},
   "outputs": [],
   "source": [
    "# For pytorch specifically we should load data to the provided dataloader and dataset classes. \n",
    "# This handles the batching for us.\n",
    "\n",
    "pt_train_set = TensorDataset(torch.Tensor(X_train_used), torch.Tensor(Y_train.to_numpy()).long())\n",
    "pt_val_set = TensorDataset(torch.Tensor(X_val_used), torch.Tensor(Y_val.to_numpy()).long())\n",
    "pt_test_set = TensorDataset(torch.Tensor(X_test_used), torch.Tensor(Y_test.to_numpy()).long())\n",
    "pt_val_test_set = TensorDataset(torch.Tensor(X_val_test_used), torch.Tensor(Y_val_test.to_numpy()).long())\n",
    "\n",
    "pt_train_loader = DataLoader(\n",
    "                    dataset=pt_train_set, \n",
    "                    batch_size=BATCH_SIZE, \n",
    "                    shuffle=True,\n",
    "                )\n",
    "pt_val_loader = DataLoader(\n",
    "                    dataset=pt_val_set, \n",
    "                    batch_size=BATCH_SIZE, \n",
    "                    shuffle=True,\n",
    "                )\n",
    "pt_test_loader = DataLoader(\n",
    "                    dataset=pt_test_set, \n",
    "                    batch_size=1, \n",
    "                    shuffle=True,\n",
    "                )\n",
    "\n",
    "pt_val_test_loader = DataLoader(\n",
    "                    dataset=pt_val_test_set, \n",
    "                    batch_size=1, \n",
    "                    shuffle=True,\n",
    "                )"
   ]
  },
  {
   "cell_type": "code",
   "execution_count": 73,
   "metadata": {},
   "outputs": [
    {
     "name": "stdout",
     "output_type": "stream",
     "text": [
      "Epoch 1\n",
      "train_loss = 1.3991, val_loss = 1.2492\n",
      "Epoch 2\n",
      "train_loss = 0.9950, val_loss = 1.1155\n",
      "Epoch 3\n",
      "train_loss = 1.0995, val_loss = 1.0540\n",
      "Epoch 4\n",
      "train_loss = 0.7503, val_loss = 1.0163\n",
      "Epoch 5\n",
      "train_loss = 1.0224, val_loss = 0.9940\n",
      "Epoch 6\n",
      "train_loss = 0.9480, val_loss = 0.9824\n",
      "Epoch 7\n",
      "train_loss = 0.8059, val_loss = 0.9722\n",
      "Epoch 8\n",
      "train_loss = 0.5716, val_loss = 0.9646\n",
      "Epoch 9\n",
      "train_loss = 0.8199, val_loss = 0.9612\n",
      "Epoch 10\n",
      "train_loss = 0.5734, val_loss = 0.9556\n",
      "Epoch 11\n",
      "train_loss = 0.7246, val_loss = 0.9558\n",
      "Epoch 12\n",
      "train_loss = 1.0077, val_loss = 0.9514\n",
      "Epoch 13\n",
      "train_loss = 0.8350, val_loss = 0.9503\n",
      "Epoch 14\n",
      "train_loss = 1.0596, val_loss = 0.9500\n",
      "Epoch 15\n",
      "train_loss = 0.9478, val_loss = 0.9488\n",
      "Epoch 16\n",
      "train_loss = 1.1377, val_loss = 0.9470\n",
      "Epoch 17\n",
      "train_loss = 0.7169, val_loss = 0.9456\n",
      "Epoch 18\n",
      "train_loss = 0.7632, val_loss = 0.9436\n",
      "Epoch 19\n",
      "train_loss = 0.6606, val_loss = 0.9444\n",
      "Epoch 20\n",
      "train_loss = 0.8541, val_loss = 0.9424\n",
      "Epoch 21\n",
      "train_loss = 0.6883, val_loss = 0.9435\n",
      "Epoch 22\n",
      "train_loss = 0.7519, val_loss = 0.9455\n",
      "Epoch 23\n",
      "train_loss = 0.8548, val_loss = 0.9451\n",
      "Epoch 24\n",
      "train_loss = 0.7194, val_loss = 0.9413\n",
      "Epoch 25\n",
      "train_loss = 1.1376, val_loss = 0.9422\n",
      "Epoch 26\n",
      "train_loss = 1.1442, val_loss = 0.9428\n",
      "Epoch 27\n",
      "train_loss = 1.1245, val_loss = 0.9424\n",
      "Epoch 28\n",
      "train_loss = 0.7774, val_loss = 0.9414\n",
      "Epoch 29\n",
      "train_loss = 1.0172, val_loss = 0.9398\n",
      "Epoch 30\n",
      "train_loss = 1.0576, val_loss = 0.9428\n",
      "Epoch 31\n",
      "train_loss = 0.8883, val_loss = 0.9412\n",
      "Epoch 32\n",
      "train_loss = 0.7855, val_loss = 0.9416\n",
      "Epoch 33\n",
      "train_loss = 0.9033, val_loss = 0.9401\n",
      "Epoch 34\n",
      "train_loss = 0.5963, val_loss = 0.9413\n",
      "Epoch 35\n",
      "train_loss = 0.9907, val_loss = 0.9429\n",
      "Epoch 36\n",
      "train_loss = 0.9331, val_loss = 0.9401\n",
      "Epoch 37\n",
      "train_loss = 1.1955, val_loss = 0.9433\n",
      "Epoch 38\n",
      "train_loss = 0.7884, val_loss = 0.9419\n",
      "Epoch 39\n",
      "train_loss = 0.6819, val_loss = 0.9409\n",
      "Epoch 40\n",
      "train_loss = 1.2550, val_loss = 0.9430\n",
      "Epoch 41\n",
      "train_loss = 0.7586, val_loss = 0.9384\n",
      "Epoch 42\n",
      "train_loss = 0.7651, val_loss = 0.9389\n",
      "Epoch 43\n",
      "train_loss = 0.8828, val_loss = 0.9404\n",
      "Epoch 44\n",
      "train_loss = 0.7754, val_loss = 0.9382\n",
      "Epoch 45\n",
      "train_loss = 0.6505, val_loss = 0.9373\n",
      "Epoch 46\n",
      "train_loss = 0.7825, val_loss = 0.9413\n",
      "Epoch 47\n",
      "train_loss = 0.7437, val_loss = 0.9379\n",
      "Epoch 48\n",
      "train_loss = 0.7650, val_loss = 0.9412\n",
      "Epoch 49\n",
      "train_loss = 0.9978, val_loss = 0.9367\n",
      "Epoch 50\n",
      "train_loss = 1.2364, val_loss = 0.9380\n",
      "Epoch 51\n",
      "train_loss = 1.0279, val_loss = 0.9390\n",
      "Epoch 52\n",
      "train_loss = 0.7282, val_loss = 0.9375\n",
      "Epoch 53\n",
      "train_loss = 0.6438, val_loss = 0.9407\n",
      "Epoch 54\n",
      "train_loss = 1.2837, val_loss = 0.9385\n",
      "Epoch 55\n",
      "train_loss = 0.5247, val_loss = 0.9403\n",
      "Epoch 56\n",
      "train_loss = 0.9181, val_loss = 0.9384\n",
      "Epoch 57\n",
      "train_loss = 1.1723, val_loss = 0.9418\n",
      "Epoch 58\n",
      "train_loss = 0.7955, val_loss = 0.9374\n",
      "Epoch 59\n",
      "train_loss = 0.6584, val_loss = 0.9366\n",
      "Epoch 60\n",
      "train_loss = 1.2575, val_loss = 0.9387\n",
      "Epoch 61\n",
      "train_loss = 0.7325, val_loss = 0.9383\n",
      "Epoch 62\n",
      "train_loss = 0.7589, val_loss = 0.9400\n",
      "Epoch 63\n",
      "train_loss = 0.3645, val_loss = 0.9361\n",
      "Epoch 64\n",
      "train_loss = 1.0770, val_loss = 0.9377\n",
      "Epoch 65\n",
      "train_loss = 0.7558, val_loss = 0.9365\n",
      "Epoch 66\n",
      "train_loss = 0.9108, val_loss = 0.9387\n",
      "Epoch 67\n",
      "train_loss = 1.3927, val_loss = 0.9375\n",
      "Epoch 68\n",
      "train_loss = 0.4368, val_loss = 0.9368\n",
      "Epoch 69\n",
      "train_loss = 1.3512, val_loss = 0.9385\n",
      "Epoch 70\n",
      "train_loss = 0.5736, val_loss = 0.9389\n",
      "Epoch 71\n",
      "train_loss = 0.7136, val_loss = 0.9379\n",
      "Epoch 72\n",
      "train_loss = 0.7191, val_loss = 0.9363\n",
      "Epoch 73\n",
      "train_loss = 1.0620, val_loss = 0.9376\n",
      "Epoch 74\n",
      "train_loss = 1.1165, val_loss = 0.9391\n",
      "Epoch 75\n",
      "train_loss = 0.5277, val_loss = 0.9377\n",
      "Epoch 76\n",
      "train_loss = 1.3116, val_loss = 0.9370\n",
      "Epoch 77\n",
      "train_loss = 0.7452, val_loss = 0.9356\n",
      "Epoch 78\n",
      "train_loss = 0.9372, val_loss = 0.9367\n",
      "Epoch 79\n",
      "train_loss = 1.1174, val_loss = 0.9375\n",
      "Epoch 80\n",
      "train_loss = 0.6913, val_loss = 0.9373\n",
      "Epoch 81\n",
      "train_loss = 1.0329, val_loss = 0.9372\n",
      "Epoch 82\n",
      "train_loss = 0.8200, val_loss = 0.9401\n",
      "Epoch 83\n",
      "train_loss = 0.5338, val_loss = 0.9371\n",
      "Epoch 84\n",
      "train_loss = 1.2124, val_loss = 0.9363\n",
      "Epoch 85\n",
      "train_loss = 0.7814, val_loss = 0.9375\n",
      "Epoch 86\n",
      "train_loss = 1.0119, val_loss = 0.9379\n",
      "Epoch 87\n",
      "train_loss = 0.9277, val_loss = 0.9372\n",
      "Epoch 88\n",
      "train_loss = 0.9667, val_loss = 0.9381\n",
      "Epoch 89\n",
      "train_loss = 1.2404, val_loss = 0.9395\n",
      "Epoch 90\n",
      "train_loss = 0.7520, val_loss = 0.9366\n",
      "Epoch 91\n",
      "train_loss = 1.1092, val_loss = 0.9369\n",
      "Epoch 92\n",
      "train_loss = 0.7739, val_loss = 0.9404\n",
      "Epoch 93\n",
      "train_loss = 0.5617, val_loss = 0.9378\n",
      "Epoch 94\n",
      "train_loss = 0.7388, val_loss = 0.9366\n",
      "Epoch 95\n",
      "train_loss = 0.6581, val_loss = 0.9399\n",
      "Epoch 96\n",
      "train_loss = 0.8458, val_loss = 0.9402\n",
      "Epoch 97\n",
      "train_loss = 0.7110, val_loss = 0.9348\n",
      "Epoch 98\n",
      "train_loss = 1.2315, val_loss = 0.9348\n",
      "Epoch 99\n",
      "train_loss = 0.7615, val_loss = 0.9375\n",
      "Epoch 100\n",
      "train_loss = 0.6408, val_loss = 0.9349\n",
      "Epoch 101\n",
      "train_loss = 0.7923, val_loss = 0.9354\n",
      "Epoch 102\n",
      "train_loss = 0.7084, val_loss = 0.9349\n",
      "Epoch 103\n",
      "train_loss = 1.1416, val_loss = 0.9363\n",
      "Epoch 104\n",
      "train_loss = 0.7008, val_loss = 0.9371\n",
      "Epoch 105\n",
      "train_loss = 0.6661, val_loss = 0.9351\n",
      "Epoch 106\n",
      "train_loss = 1.2877, val_loss = 0.9363\n",
      "Epoch 107\n",
      "train_loss = 1.6054, val_loss = 0.9347\n",
      "Epoch 108\n",
      "train_loss = 0.8844, val_loss = 0.9372\n",
      "Epoch 109\n",
      "train_loss = 0.8987, val_loss = 0.9383\n",
      "Epoch 110\n",
      "train_loss = 0.5477, val_loss = 0.9348\n",
      "Epoch 111\n",
      "train_loss = 0.7652, val_loss = 0.9349\n",
      "Epoch 112\n",
      "train_loss = 0.7136, val_loss = 0.9363\n",
      "Epoch 113\n",
      "train_loss = 1.0151, val_loss = 0.9364\n",
      "Epoch 114\n",
      "train_loss = 0.8789, val_loss = 0.9370\n",
      "Epoch 115\n",
      "train_loss = 1.1720, val_loss = 0.9353\n",
      "Epoch 116\n",
      "train_loss = 1.2136, val_loss = 0.9346\n",
      "Epoch 117\n",
      "train_loss = 1.0586, val_loss = 0.9371\n",
      "Epoch 118\n",
      "train_loss = 0.7288, val_loss = 0.9347\n",
      "Epoch 119\n",
      "train_loss = 0.9147, val_loss = 0.9356\n",
      "Epoch 120\n",
      "train_loss = 0.7127, val_loss = 0.9350\n",
      "Epoch 121\n",
      "train_loss = 0.7060, val_loss = 0.9375\n",
      "Epoch 122\n",
      "train_loss = 0.8094, val_loss = 0.9364\n",
      "Epoch 123\n",
      "train_loss = 0.5247, val_loss = 0.9346\n",
      "Epoch 124\n",
      "train_loss = 1.2165, val_loss = 0.9350\n",
      "Epoch 125\n",
      "train_loss = 0.8096, val_loss = 0.9375\n",
      "Epoch 126\n",
      "train_loss = 0.7142, val_loss = 0.9353\n",
      "Epoch 127\n",
      "train_loss = 0.5874, val_loss = 0.9354\n",
      "Epoch 128\n",
      "train_loss = 1.0983, val_loss = 0.9342\n",
      "Epoch 129\n",
      "train_loss = 0.5784, val_loss = 0.9346\n",
      "Epoch 130\n",
      "train_loss = 0.8297, val_loss = 0.9353\n",
      "Epoch 131\n",
      "train_loss = 0.2502, val_loss = 0.9365\n",
      "Epoch 132\n",
      "train_loss = 1.0550, val_loss = 0.9356\n",
      "Epoch 133\n",
      "train_loss = 0.6903, val_loss = 0.9390\n",
      "Epoch 134\n",
      "train_loss = 0.7336, val_loss = 0.9360\n",
      "Epoch 135\n",
      "train_loss = 0.9908, val_loss = 0.9347\n",
      "Epoch 136\n",
      "train_loss = 1.0162, val_loss = 0.9375\n",
      "Epoch 137\n",
      "train_loss = 0.5729, val_loss = 0.9363\n",
      "Epoch 138\n",
      "train_loss = 0.6699, val_loss = 0.9336\n",
      "Epoch 139\n",
      "train_loss = 0.8629, val_loss = 0.9374\n",
      "Epoch 140\n",
      "train_loss = 0.4800, val_loss = 0.9348\n",
      "Epoch 141\n",
      "train_loss = 0.6653, val_loss = 0.9388\n",
      "Epoch 142\n",
      "train_loss = 0.8141, val_loss = 0.9342\n",
      "Epoch 143\n",
      "train_loss = 0.8399, val_loss = 0.9349\n",
      "Epoch 144\n",
      "train_loss = 0.6454, val_loss = 0.9373\n",
      "Epoch 145\n",
      "train_loss = 0.6078, val_loss = 0.9354\n",
      "Epoch 146\n",
      "train_loss = 0.9476, val_loss = 0.9343\n",
      "Epoch 147\n",
      "train_loss = 0.8301, val_loss = 0.9347\n",
      "Epoch 148\n",
      "train_loss = 0.4903, val_loss = 0.9379\n",
      "Epoch 149\n",
      "train_loss = 0.9276, val_loss = 0.9356\n",
      "Epoch 150\n",
      "train_loss = 0.9565, val_loss = 0.9346\n",
      "Epoch 151\n",
      "train_loss = 1.1000, val_loss = 0.9354\n",
      "Epoch 152\n",
      "train_loss = 0.5408, val_loss = 0.9359\n",
      "Epoch 153\n",
      "train_loss = 0.8484, val_loss = 0.9336\n",
      "Epoch 154\n",
      "train_loss = 0.8885, val_loss = 0.9365\n",
      "Epoch 155\n",
      "train_loss = 0.7308, val_loss = 0.9336\n",
      "Epoch 156\n",
      "train_loss = 0.9342, val_loss = 0.9345\n",
      "Epoch 157\n",
      "train_loss = 0.6758, val_loss = 0.9336\n",
      "Epoch 158\n",
      "train_loss = 1.0499, val_loss = 0.9358\n",
      "Epoch 159\n",
      "train_loss = 1.1282, val_loss = 0.9345\n",
      "Epoch 160\n",
      "train_loss = 0.8169, val_loss = 0.9363\n",
      "Epoch 161\n",
      "train_loss = 0.8613, val_loss = 0.9351\n",
      "Epoch 162\n",
      "train_loss = 0.5652, val_loss = 0.9334\n",
      "Epoch 163\n",
      "train_loss = 1.1611, val_loss = 0.9370\n",
      "Epoch 164\n",
      "train_loss = 0.8443, val_loss = 0.9349\n",
      "Epoch 165\n",
      "train_loss = 0.3360, val_loss = 0.9348\n",
      "Epoch 166\n",
      "train_loss = 0.8181, val_loss = 0.9337\n",
      "Epoch 167\n",
      "train_loss = 0.8777, val_loss = 0.9369\n",
      "Epoch 168\n",
      "train_loss = 0.8472, val_loss = 0.9380\n",
      "Epoch 169\n",
      "train_loss = 1.0184, val_loss = 0.9369\n",
      "Epoch 170\n",
      "train_loss = 0.5608, val_loss = 0.9358\n",
      "Epoch 171\n",
      "train_loss = 1.1134, val_loss = 0.9397\n",
      "Epoch 172\n",
      "train_loss = 1.0918, val_loss = 0.9379\n",
      "Epoch 173\n",
      "train_loss = 0.9139, val_loss = 0.9348\n",
      "Epoch 174\n",
      "train_loss = 1.0232, val_loss = 0.9335\n",
      "Epoch 175\n",
      "train_loss = 0.4654, val_loss = 0.9343\n",
      "Epoch 176\n",
      "train_loss = 0.7336, val_loss = 0.9392\n",
      "Epoch 177\n",
      "train_loss = 1.1333, val_loss = 0.9354\n",
      "Epoch 178\n",
      "train_loss = 1.0259, val_loss = 0.9354\n",
      "Epoch 179\n",
      "train_loss = 0.6195, val_loss = 0.9338\n",
      "Epoch 180\n",
      "train_loss = 0.7464, val_loss = 0.9330\n",
      "Epoch 181\n",
      "train_loss = 0.5903, val_loss = 0.9335\n",
      "Epoch 182\n",
      "train_loss = 0.9467, val_loss = 0.9351\n",
      "Epoch 183\n",
      "train_loss = 1.0392, val_loss = 0.9390\n",
      "Epoch 184\n",
      "train_loss = 0.6799, val_loss = 0.9347\n",
      "Epoch 185\n",
      "train_loss = 0.9545, val_loss = 0.9357\n",
      "Epoch 186\n",
      "train_loss = 0.7598, val_loss = 0.9345\n",
      "Epoch 187\n",
      "train_loss = 0.6893, val_loss = 0.9344\n",
      "Epoch 188\n",
      "train_loss = 0.8936, val_loss = 0.9362\n",
      "Epoch 189\n",
      "train_loss = 0.7800, val_loss = 0.9340\n",
      "Epoch 190\n",
      "train_loss = 1.1551, val_loss = 0.9344\n",
      "Epoch 191\n",
      "train_loss = 0.6788, val_loss = 0.9350\n",
      "Epoch 192\n",
      "train_loss = 0.9198, val_loss = 0.9349\n",
      "Epoch 193\n",
      "train_loss = 0.7249, val_loss = 0.9334\n",
      "Epoch 194\n",
      "train_loss = 1.0090, val_loss = 0.9366\n",
      "Epoch 195\n",
      "train_loss = 0.8524, val_loss = 0.9338\n",
      "Epoch 196\n",
      "train_loss = 0.6319, val_loss = 0.9355\n",
      "Epoch 197\n",
      "train_loss = 0.5091, val_loss = 0.9343\n",
      "Epoch 198\n",
      "train_loss = 0.5910, val_loss = 0.9347\n",
      "Epoch 199\n",
      "train_loss = 1.2082, val_loss = 0.9351\n",
      "Epoch 200\n",
      "train_loss = 0.4746, val_loss = 0.9356\n"
     ]
    }
   ],
   "source": [
    "# Initialize neural network\n",
    "mlp = NeuralNetwork(X_train_reduced.shape[1], [], NUM_CLASSES)\n",
    "\n",
    "training_loop(mlp, pt_train_loader, pt_val_loader, 200, LEARNING_RATE)"
   ]
  },
  {
   "cell_type": "code",
   "execution_count": 74,
   "metadata": {},
   "outputs": [
    {
     "name": "stdout",
     "output_type": "stream",
     "text": [
      "loss = 0.9508\n",
      "accuracy = 0.6408\n",
      "f1 = 0.6231\n",
      "[[0.62032885 0.08650938 0.08421053 0.21024259 0.16266667 0.04109589]\n",
      " [0.07473842 0.71264368 0.32105263 0.07008086 0.07733333 0.06849315]\n",
      " [0.03363229 0.10344828 0.47368421 0.04851752 0.024      0.05479452]\n",
      " [0.15695067 0.03932244 0.09473684 0.5606469  0.12266667 0.04109589]\n",
      " [0.09118087 0.03206292 0.01578947 0.09973046 0.56       0.15068493]\n",
      " [0.02316891 0.02601331 0.01052632 0.01078167 0.05333333 0.64383562]]\n"
     ]
    },
    {
     "data": {
      "image/png": "[encoded data removed]",
      "text/plain": [
       "<Figure size 480x480 with 1 Axes>"
      ]
     },
     "metadata": {},
     "output_type": "display_data"
    }
   ],
   "source": [
    "_, _, _, cmat = evaluate(model=mlp, val_dl=pt_val_test_loader)\n",
    "print(cmat)\n",
    "plt.matshow(cmat)\n",
    "plt.show()"
   ]
  },
  {
   "cell_type": "markdown",
   "metadata": {},
   "source": [
    "# K Means"
   ]
  },
  {
   "cell_type": "code",
   "execution_count": 25,
   "metadata": {},
   "outputs": [],
   "source": [
    "k_list = [2, 3, 4, 5, 6, 8, 10, 12, 16, 32, 48, 64, 128, 256, 512]\n",
    "dbi_score_list = []\n",
    "for k in k_list:\n",
    "    # Create a KMeans model with the specified number of clusters\n",
    "    kmeans = KMeans(n_clusters=k, random_state=42, n_init='auto')\n",
    "\n",
    "    # Fit the K-Means model to your data\n",
    "    kmeans.fit(X_train)\n",
    "\n",
    "    # Get the cluster assignments for each data point\n",
    "    labels = kmeans.labels_\n",
    "\n",
    "    # Calculate the Davies-Bouldin Index (DBI) to evaluate the clustering\n",
    "    dbi_score = davies_bouldin_score(X_train, labels)\n",
    "    dbi_score_list.append((k, dbi_score))"
   ]
  },
  {
   "cell_type": "code",
   "execution_count": 24,
   "metadata": {},
   "outputs": [
    {
     "name": "stdout",
     "output_type": "stream",
     "text": [
      "Highest DBI Score: K=2, DBI=4.525119278895166\n"
     ]
    },
    {
     "data": {
      "image/png": "[encoded data removed]",
      "text/plain": [
       "<Figure size 640x480 with 1 Axes>"
      ]
     },
     "metadata": {},
     "output_type": "display_data"
    },
    {
     "data": {
      "image/png": "[encoded data removed]",
      "text/plain": [
       "<Figure size 480x480 with 1 Axes>"
      ]
     },
     "metadata": {},
     "output_type": "display_data"
    }
   ],
   "source": [
    "best_dbi = min(dbi_score_list, key = lambda i : i[1])\n",
    "print(f\"Highest DBI Score: K={best_dbi[0]}, DBI={best_dbi[1]}\")\n",
    "\n",
    "kmeans_best = KMeans(n_clusters=best_dbi[0], random_state=42, n_init='auto')\n",
    "\n",
    "kmeans_best.fit(X_test)\n",
    "preds = kmeans_best.predict(X_test)\n",
    "cmat = confusion_matrix(Y_test, preds)\n",
    "\n",
    "plt.bar([x for (x,y) in dbi_score_list], [y for (x,y) in dbi_score_list])\n",
    "plt.matshow(cmat)\n",
    "plt.show()"
   ]
  }
 ],
 "metadata": {
  "kernelspec": {
   "display_name": "agienv",
   "language": "python",
   "name": "python3"
  },
  "language_info": {
   "codemirror_mode": {
    "name": "ipython",
    "version": 3
   },
   "file_extension": ".py",
   "mimetype": "text/x-python",
   "name": "python",
   "nbconvert_exporter": "python",
   "pygments_lexer": "ipython3",
   "version": "3.11.5"
  },
  "orig_nbformat": 4
 },
 "nbformat": 4,
 "nbformat_minor": 2
}
