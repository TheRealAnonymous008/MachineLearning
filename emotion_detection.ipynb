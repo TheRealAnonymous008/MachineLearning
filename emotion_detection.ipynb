{
 "cells": [
  {
   "cell_type": "code",
   "execution_count": 65,
   "metadata": {},
   "outputs": [
    {
     "name": "stdout",
     "output_type": "stream",
     "text": [
      "The autoreload extension is already loaded. To reload it, use:\n",
      "  %reload_ext autoreload\n"
     ]
    }
   ],
   "source": [
    "%load_ext autoreload\n",
    "%autoreload 2\n",
    "\n",
    "import numpy as np\n",
    "import pandas as pd\n",
    "import matplotlib.pyplot as plt\n",
    "\n",
    "\n",
    "# All skl imports go here\n",
    "from sklearn import tree   # Decision Trees\n",
    "from sklearn import svm    # svm\n",
    "from sklearn.decomposition import PCA\n",
    "from sklearn.model_selection import cross_validate, GridSearchCV\n",
    "from sklearn.metrics import confusion_matrix, accuracy_score, f1_score\n",
    "from sklearn.neural_network import MLPClassifier\n",
    "from sklearn import metrics\n",
    "import sklearn as skl"
   ]
  },
  {
   "cell_type": "markdown",
   "metadata": {},
   "source": [
    "# Data Loading"
   ]
  },
  {
   "cell_type": "code",
   "execution_count": 2,
   "metadata": {},
   "outputs": [],
   "source": [
    "NUM_CLASSES = 6\n",
    "CLASSES = [\"sadnesss\", \"joy\", \"love\", \"anger\", \"fear\"]"
   ]
  },
  {
   "cell_type": "code",
   "execution_count": 3,
   "metadata": {},
   "outputs": [],
   "source": [
    "# Load all data\n",
    "train_data = pd.read_csv(\"data/training_labse.csv\")\n",
    "test_data = pd.read_csv(\"data/test_labse.csv\")\n",
    "validation_data = pd.read_csv(\"data/validation_labse.csv\")\n",
    "\n",
    "# Separate X's and y's from each other\n",
    "FEATURE_COLUMNS = [x for x in train_data if x.startswith(\"_e\")]\n",
    "LABEL_COLUMN = \"label\"\n",
    "\n",
    "X_train = train_data[FEATURE_COLUMNS]\n",
    "Y_train = train_data[LABEL_COLUMN]\n",
    "\n",
    "X_test = test_data[FEATURE_COLUMNS]\n",
    "Y_test = test_data[LABEL_COLUMN]\n",
    "\n",
    "X_val = validation_data[FEATURE_COLUMNS]\n",
    "Y_val = validation_data[LABEL_COLUMN]\n",
    "\n",
    "# These are used to run cross validation\n",
    "X_train_val = pd.concat([X_train, X_val]) \n",
    "Y_train_val = pd.concat([Y_train, Y_test])\n",
    "\n",
    "# These are used to run val and test for Neural Nets\n",
    "X_val_test = pd.concat([X_val, X_test])\n",
    "Y_val_test = pd.concat([Y_val, Y_test])"
   ]
  },
  {
   "cell_type": "code",
   "execution_count": 4,
   "metadata": {},
   "outputs": [],
   "source": [
    "# Perform pre-processing PCA on the training set\n",
    "def perform_pca(dataset, target_variance):\n",
    "    pca = PCA(n_components= target_variance)\n",
    "\n",
    "    # Need to standardize the data frirst\n",
    "    standardized = (dataset - dataset.mean(axis=0)) / dataset.std(axis = 0)\n",
    "\n",
    "    pca.fit(X=standardized)\n",
    "    dataset_reduced = pca.fit_transform(X=standardized)\n",
    "\n",
    "    return pca, dataset_reduced"
   ]
  },
  {
   "cell_type": "code",
   "execution_count": 42,
   "metadata": {},
   "outputs": [
    {
     "name": "stdout",
     "output_type": "stream",
     "text": [
      "768 components for training\n"
     ]
    }
   ],
   "source": [
    "TARGET_EXPLAINED_VARIANCE = 0.999999\n",
    "\n",
    "pca_train, X_train_reduced = perform_pca(X_train, TARGET_EXPLAINED_VARIANCE)\n",
    "X_val_reduced = pca_train.transform(X_val)\n",
    "X_test_redced = pca_train.transform(X_test)\n",
    "X_train_val_reduced = pca_train.transform(X_train_val)\n",
    "X_val_test_reduced = pca_train.transform(X_val_test)\n",
    "\n",
    "print(f\"{pca_train.n_components_} components for training\")"
   ]
  },
  {
   "cell_type": "code",
   "execution_count": 56,
   "metadata": {},
   "outputs": [],
   "source": [
    "X_train_unreduced = X_train.to_numpy()\n",
    "X_val_unreduced = X_val.to_numpy()\n",
    "X_test_unreduced = X_test.to_numpy()\n",
    "X_train_val_unreduced = X_train_val.to_numpy()\n",
    "X_val_test_unreduced = X_val_test.to_numpy()\n"
   ]
  },
  {
   "cell_type": "markdown",
   "metadata": {},
   "source": [
    "# K-Folds Cross Validation"
   ]
  },
  {
   "cell_type": "code",
   "execution_count": 66,
   "metadata": {},
   "outputs": [],
   "source": [
    "\n",
    "def k_folds_x_val(model, X, y, k =  5): \n",
    "    results = cross_validate(model, X, y, cv=k, scoring=[\"accuracy\"])\n",
    "    mean_accuracy = results['test_accuracy'].mean()\n",
    "    print(f\"Mean Accuracy: {mean_accuracy}\")\n",
    "    return mean_accuracy, \n",
    "\n",
    "def get_cmat(model, X, y):\n",
    "    y_pred = model.predict(X)\n",
    "    return confusion_matrix(y, y_pred, normalize=\"pred\")\n",
    "\n",
    "def get_metrics(model, X, y):\n",
    "    y_pred = model.predict(X)\n",
    "    return accuracy_score(y, y_pred), f1_score(y, y_pred, average=\"weighted\")"
   ]
  },
  {
   "cell_type": "markdown",
   "metadata": {},
   "source": [
    "# Grid Search Hyperparameter Optimization"
   ]
  },
  {
   "cell_type": "code",
   "execution_count": 33,
   "metadata": {},
   "outputs": [],
   "source": [
    "def objective(model):\n",
    "    model.fit(X_train, Y_train)\n",
    "    Y_pred = model.predict(X_test)\n",
    "    return metrics.accuracy_score(Y_test, Y_pred)\n",
    "\n",
    "def gridSearchHPO(model, search_space):\n",
    "    grid_search = GridSearchCV(estimator=model, \n",
    "                                param_grid=search_space, \n",
    "                                scoring=objective,\n",
    "                                cv=5,\n",
    "                                n_jobs=-1) # -1 means max amount\n",
    "    grid_search.fit(X_train, Y_train)\n",
    "    return grid_search"
   ]
  },
  {
   "cell_type": "markdown",
   "metadata": {},
   "source": [
    "# Decision Trees"
   ]
  },
  {
   "cell_type": "code",
   "execution_count": 8,
   "metadata": {},
   "outputs": [],
   "source": [
    "decision_tree_model = tree.DecisionTreeClassifier(\n",
    "    criterion='entropy', \n",
    "    splitter = 'best',\n",
    "    max_depth = 5\n",
    ")"
   ]
  },
  {
   "cell_type": "code",
   "execution_count": 9,
   "metadata": {},
   "outputs": [
    {
     "name": "stdout",
     "output_type": "stream",
     "text": [
      "Performed 10-fold cross validation\n",
      "Average accuracy 0.46338888888888896\n",
      "Average Kappa 0.22733008013902026\n"
     ]
    }
   ],
   "source": [
    "k_folds_x_val(decision_tree_model)"
   ]
  },
  {
   "cell_type": "code",
   "execution_count": 34,
   "metadata": {},
   "outputs": [
    {
     "name": "stderr",
     "output_type": "stream",
     "text": [
      "c:\\Users\\techt\\AppData\\Local\\Programs\\Python\\Python311\\Lib\\site-packages\\sklearn\\model_selection\\_search.py:979: UserWarning: One or more of the test scores are non-finite: [nan nan nan nan nan nan nan nan nan nan nan nan nan nan nan nan nan nan\n",
      " nan nan nan nan nan nan nan nan nan nan nan nan nan nan nan nan nan nan\n",
      " nan nan nan nan nan nan nan nan nan nan nan nan nan nan nan nan nan nan\n",
      " nan nan nan nan nan nan nan nan nan nan nan nan nan nan nan nan nan nan\n",
      " nan nan nan nan nan nan nan nan nan nan nan nan nan nan nan nan nan nan\n",
      " nan nan nan nan nan nan nan nan nan nan nan nan nan nan nan nan nan nan\n",
      " nan nan nan nan nan nan nan nan nan nan nan nan nan nan nan nan nan nan\n",
      " nan nan nan nan nan nan nan nan nan nan nan nan nan nan nan nan nan nan]\n",
      "  warnings.warn(\n"
     ]
    }
   ],
   "source": [
    "# ['ccp_alpha', 'class_weight', 'criterion', 'max_depth', 'max_features', 'max_leaf_nodes', \n",
    "# 'min_impurity_decrease', 'min_samples_leaf', 'min_samples_split', 'min_weight_fraction_leaf', 'random_state', 'splitter']\n",
    "gridsearch = gridSearchHPO(decision_tree_model, search_space={'max_depth':[8, 32, 64, None], 'max_features':[8, 32, 128, 512], 'min_samples_leaf':[1, 2, 3], 'min_samples_split':[16, 64, 256]})"
   ]
  },
  {
   "cell_type": "code",
   "execution_count": 35,
   "metadata": {},
   "outputs": [
    {
     "data": {
      "text/plain": [
       "{'max_depth': 8,\n",
       " 'max_features': 8,\n",
       " 'min_samples_leaf': 1,\n",
       " 'min_samples_split': 16}"
      ]
     },
     "execution_count": 35,
     "metadata": {},
     "output_type": "execute_result"
    }
   ],
   "source": [
    "gridsearch.best_params_"
   ]
  },
  {
   "cell_type": "code",
   "execution_count": 10,
   "metadata": {},
   "outputs": [
    {
     "data": {
      "text/plain": [
       "[Text(0.5, 0.9166666666666666, 'x[2] <= -0.23\\nentropy = 2.272\\nsamples = 16000\\nvalue = [4666, 5362, 1304, 2159, 1937, 572]'),\n",
       " Text(0.25, 0.75, 'x[3] <= -0.747\\nentropy = 2.131\\nsamples = 7717\\nvalue = [1531, 3666, 810, 711, 677, 322]'),\n",
       " Text(0.125, 0.5833333333333334, 'x[5] <= 2.122\\nentropy = 2.287\\nsamples = 3484\\nvalue = [1079, 1070, 249, 495, 451, 140]'),\n",
       " Text(0.0625, 0.4166666666666667, 'x[0] <= -6.003\\nentropy = 2.299\\nsamples = 2709\\nvalue = [940, 653, 169, 436, 394, 117]'),\n",
       " Text(0.03125, 0.25, 'x[15] <= 0.01\\nentropy = 2.051\\nsamples = 981\\nvalue = [470, 77, 35, 196, 163, 40]'),\n",
       " Text(0.015625, 0.08333333333333333, 'entropy = 2.161\\nsamples = 413\\nvalue = [147, 33, 10, 80, 120, 23]'),\n",
       " Text(0.046875, 0.08333333333333333, 'entropy = 1.849\\nsamples = 568\\nvalue = [323, 44, 25, 116, 43, 17]'),\n",
       " Text(0.09375, 0.25, 'x[2] <= -2.854\\nentropy = 2.309\\nsamples = 1728\\nvalue = [470, 576, 134, 240, 231, 77]'),\n",
       " Text(0.078125, 0.08333333333333333, 'entropy = 2.225\\nsamples = 869\\nvalue = [173, 377, 73, 89, 112, 45]'),\n",
       " Text(0.109375, 0.08333333333333333, 'entropy = 2.302\\nsamples = 859\\nvalue = [297, 199, 61, 151, 119, 32]'),\n",
       " Text(0.1875, 0.4166666666666667, 'x[1] <= 3.789\\nentropy = 1.974\\nsamples = 775\\nvalue = [139, 417, 80, 59, 57, 23]'),\n",
       " Text(0.15625, 0.25, 'x[8] <= 0.068\\nentropy = 1.735\\nsamples = 541\\nvalue = [71, 336, 71, 24, 26, 13]'),\n",
       " Text(0.140625, 0.08333333333333333, 'entropy = 1.359\\nsamples = 281\\nvalue = [26, 209, 21, 12, 8, 5]'),\n",
       " Text(0.171875, 0.08333333333333333, 'entropy = 2.026\\nsamples = 260\\nvalue = [45, 127, 50, 12, 18, 8]'),\n",
       " Text(0.21875, 0.25, 'x[6] <= -0.419\\nentropy = 2.219\\nsamples = 234\\nvalue = [68, 81, 9, 35, 31, 10]'),\n",
       " Text(0.203125, 0.08333333333333333, 'entropy = 2.036\\nsamples = 88\\nvalue = [16, 46, 5, 5, 8, 8]'),\n",
       " Text(0.234375, 0.08333333333333333, 'entropy = 2.141\\nsamples = 146\\nvalue = [52, 35, 4, 30, 23, 2]'),\n",
       " Text(0.375, 0.5833333333333334, 'x[5] <= -1.049\\nentropy = 1.804\\nsamples = 4233\\nvalue = [452, 2596, 561, 216, 226, 182]'),\n",
       " Text(0.3125, 0.4166666666666667, 'x[1] <= 1.433\\nentropy = 2.281\\nsamples = 1356\\nvalue = [251, 572, 165, 128, 144, 96]'),\n",
       " Text(0.28125, 0.25, 'x[10] <= 1.418\\nentropy = 2.042\\nsamples = 827\\nvalue = [105, 436, 127, 49, 53, 57]'),\n",
       " Text(0.265625, 0.08333333333333333, 'entropy = 1.814\\nsamples = 554\\nvalue = [49, 335, 82, 22, 21, 45]'),\n",
       " Text(0.296875, 0.08333333333333333, 'entropy = 2.319\\nsamples = 273\\nvalue = [56, 101, 45, 27, 32, 12]'),\n",
       " Text(0.34375, 0.25, 'x[2] <= -4.731\\nentropy = 2.413\\nsamples = 529\\nvalue = [146, 136, 38, 79, 91, 39]'),\n",
       " Text(0.328125, 0.08333333333333333, 'entropy = 2.093\\nsamples = 130\\nvalue = [20, 67, 13, 9, 11, 10]'),\n",
       " Text(0.359375, 0.08333333333333333, 'entropy = 2.394\\nsamples = 399\\nvalue = [126, 69, 25, 70, 80, 29]'),\n",
       " Text(0.4375, 0.4166666666666667, 'x[1] <= -0.038\\nentropy = 1.471\\nsamples = 2877\\nvalue = [201, 2024, 396, 88, 82, 86]'),\n",
       " Text(0.40625, 0.25, 'x[10] <= 4.374\\nentropy = 1.221\\nsamples = 1709\\nvalue = [47, 1282, 273, 36, 21, 50]'),\n",
       " Text(0.390625, 0.08333333333333333, 'entropy = 1.082\\nsamples = 1592\\nvalue = [32, 1240, 244, 14, 15, 47]'),\n",
       " Text(0.421875, 0.08333333333333333, 'entropy = 2.218\\nsamples = 117\\nvalue = [15, 42, 29, 22, 6, 3]'),\n",
       " Text(0.46875, 0.25, 'x[3] <= 4.747\\nentropy = 1.72\\nsamples = 1168\\nvalue = [154, 742, 123, 52, 61, 36]'),\n",
       " Text(0.453125, 0.08333333333333333, 'entropy = 1.9\\nsamples = 859\\nvalue = [145, 488, 90, 46, 61, 29]'),\n",
       " Text(0.484375, 0.08333333333333333, 'entropy = 0.96\\nsamples = 309\\nvalue = [9, 254, 33, 6, 0, 7]'),\n",
       " Text(0.75, 0.75, 'x[5] <= -0.313\\nentropy = 2.247\\nsamples = 8283\\nvalue = [3135, 1696, 494, 1448, 1260, 250]'),\n",
       " Text(0.625, 0.5833333333333334, 'x[15] <= -0.43\\nentropy = 2.099\\nsamples = 3910\\nvalue = [1714, 402, 156, 839, 700, 99]'),\n",
       " Text(0.5625, 0.4166666666666667, 'x[17] <= -0.644\\nentropy = 2.156\\nsamples = 1723\\nvalue = [605, 178, 57, 382, 457, 44]'),\n",
       " Text(0.53125, 0.25, 'x[37] <= 0.342\\nentropy = 2.129\\nsamples = 708\\nvalue = [177, 72, 30, 126, 286, 17]'),\n",
       " Text(0.515625, 0.08333333333333333, 'entropy = 2.118\\nsamples = 402\\nvalue = [114, 47, 17, 89, 133, 2]'),\n",
       " Text(0.546875, 0.08333333333333333, 'entropy = 2.04\\nsamples = 306\\nvalue = [63, 25, 13, 37, 153, 15]'),\n",
       " Text(0.59375, 0.25, 'x[14] <= 1.42\\nentropy = 2.078\\nsamples = 1015\\nvalue = [428, 106, 27, 256, 171, 27]'),\n",
       " Text(0.578125, 0.08333333333333333, 'entropy = 2.027\\nsamples = 688\\nvalue = [315, 80, 27, 167, 89, 10]'),\n",
       " Text(0.609375, 0.08333333333333333, 'entropy = 2.053\\nsamples = 327\\nvalue = [113, 26, 0, 89, 82, 17]'),\n",
       " Text(0.6875, 0.4166666666666667, 'x[0] <= -5.749\\nentropy = 1.993\\nsamples = 2187\\nvalue = [1109, 224, 99, 457, 243, 55]'),\n",
       " Text(0.65625, 0.25, 'x[36] <= -1.869\\nentropy = 1.582\\nsamples = 507\\nvalue = [322, 17, 10, 98, 52, 8]'),\n",
       " Text(0.640625, 0.08333333333333333, 'entropy = 1.597\\nsamples = 73\\nvalue = [26, 1, 2, 38, 5, 1]'),\n",
       " Text(0.671875, 0.08333333333333333, 'entropy = 1.496\\nsamples = 434\\nvalue = [296, 16, 8, 60, 47, 7]'),\n",
       " Text(0.71875, 0.25, 'x[1] <= -0.578\\nentropy = 2.086\\nsamples = 1680\\nvalue = [787, 207, 89, 359, 191, 47]'),\n",
       " Text(0.703125, 0.08333333333333333, 'entropy = 2.162\\nsamples = 791\\nvalue = [346, 126, 63, 163, 70, 23]'),\n",
       " Text(0.734375, 0.08333333333333333, 'entropy = 1.979\\nsamples = 889\\nvalue = [441, 81, 26, 196, 121, 24]'),\n",
       " Text(0.875, 0.5833333333333334, 'x[2] <= 4.147\\nentropy = 2.276\\nsamples = 4373\\nvalue = [1421, 1294, 338, 609, 560, 151]'),\n",
       " Text(0.8125, 0.4166666666666667, 'x[3] <= 0.996\\nentropy = 2.25\\nsamples = 2876\\nvalue = [795, 1063, 253, 325, 323, 117]'),\n",
       " Text(0.78125, 0.25, 'x[1] <= -1.741\\nentropy = 2.279\\nsamples = 1890\\nvalue = [614, 553, 128, 258, 264, 73]'),\n",
       " Text(0.765625, 0.08333333333333333, 'entropy = 2.168\\nsamples = 656\\nvalue = [161, 286, 66, 62, 47, 34]'),\n",
       " Text(0.796875, 0.08333333333333333, 'entropy = 2.245\\nsamples = 1234\\nvalue = [453, 267, 62, 196, 217, 39]'),\n",
       " Text(0.84375, 0.25, 'x[1] <= -2.406\\nentropy = 2.026\\nsamples = 986\\nvalue = [181, 510, 125, 67, 59, 44]'),\n",
       " Text(0.828125, 0.08333333333333333, 'entropy = 1.671\\nsamples = 301\\nvalue = [21, 184, 65, 15, 6, 10]'),\n",
       " Text(0.859375, 0.08333333333333333, 'entropy = 2.091\\nsamples = 685\\nvalue = [160, 326, 60, 52, 53, 34]'),\n",
       " Text(0.9375, 0.4166666666666667, 'x[1] <= -0.937\\nentropy = 2.177\\nsamples = 1497\\nvalue = [626, 231, 85, 284, 237, 34]'),\n",
       " Text(0.90625, 0.25, 'x[3] <= 0.57\\nentropy = 2.284\\nsamples = 597\\nvalue = [224, 115, 64, 106, 72, 16]'),\n",
       " Text(0.890625, 0.08333333333333333, 'entropy = 2.232\\nsamples = 473\\nvalue = [190, 79, 33, 91, 66, 14]'),\n",
       " Text(0.921875, 0.08333333333333333, 'entropy = 2.206\\nsamples = 124\\nvalue = [34, 36, 31, 15, 6, 2]'),\n",
       " Text(0.96875, 0.25, 'x[17] <= -2.335\\nentropy = 2.051\\nsamples = 900\\nvalue = [402, 116, 21, 178, 165, 18]'),\n",
       " Text(0.953125, 0.08333333333333333, 'entropy = 1.957\\nsamples = 224\\nvalue = [88, 19, 6, 31, 78, 2]'),\n",
       " Text(0.984375, 0.08333333333333333, 'entropy = 2.025\\nsamples = 676\\nvalue = [314, 97, 15, 147, 87, 16]')]"
      ]
     },
     "execution_count": 10,
     "metadata": {},
     "output_type": "execute_result"
    },
    {
     "data": {
      "image/png": "[encoded data removed]",
      "text/plain": [
       "<Figure size 640x480 with 1 Axes>"
      ]
     },
     "metadata": {},
     "output_type": "display_data"
    }
   ],
   "source": [
    "decision_tree_model.fit(X_train_reduced, Y_train)\n",
    "tree.plot_tree(decision_tree_model)"
   ]
  },
  {
   "cell_type": "markdown",
   "metadata": {},
   "source": [
    "# SVMs"
   ]
  },
  {
   "cell_type": "code",
   "execution_count": 11,
   "metadata": {},
   "outputs": [
    {
     "name": "stdout",
     "output_type": "stream",
     "text": [
      "Performed 10-fold cross validation\n",
      "Average accuracy 0.5808888888888889\n",
      "Average Kappa 0.4227651194469132\n"
     ]
    }
   ],
   "source": [
    "svm_classifier = svm.SVC(kernel='sigmoid') # 'precomputed', 'linear', 'poly', 'sigmoid', 'rbf'\n",
    "\n",
    "#Train the model using the training sets\n",
    "svm_classifier.fit(X_train_reduced, Y_train)\n",
    "\n",
    "#Predict the response for test dataset\n",
    "k_folds_x_val(svm_classifier)"
   ]
  },
  {
   "cell_type": "markdown",
   "metadata": {},
   "source": [
    "# Pytorch Setup"
   ]
  },
  {
   "cell_type": "code",
   "execution_count": 19,
   "metadata": {},
   "outputs": [],
   "source": [
    "# Pytorch specific constants\n",
    "from torch.utils.data import TensorDataset, DataLoader\n",
    "from utils.neuralnet import NeuralNetwork\n",
    "from utils.trainer import training_loop, evaluate\n",
    "import torch\n",
    "\n",
    "BATCH_SIZE = 16\n",
    "LEARNING_RATE = 1e-3"
   ]
  },
  {
   "cell_type": "markdown",
   "metadata": {},
   "source": [
    "# MLP"
   ]
  },
  {
   "cell_type": "code",
   "execution_count": 67,
   "metadata": {},
   "outputs": [],
   "source": [
    "X_train_used = X_train_unreduced\n",
    "X_test_used = X_test_unreduced\n",
    "X_val_used = X_val_unreduced\n",
    "X_train_val_used = X_train_val_unreduced\n",
    "X_val_test_used = X_val_test_unreduced"
   ]
  },
  {
   "cell_type": "code",
   "execution_count": 68,
   "metadata": {},
   "outputs": [],
   "source": [
    "mlp = MLPClassifier([], 'relu', solver=\"adam\")\n",
    "mlp.fit(X_train_used, Y_train)"
   ]
  },
  {
   "cell_type": "code",
   "execution_count": null,
   "metadata": {},
   "outputs": [
    {
     "name": "stderr",
     "output_type": "stream",
     "text": [
      "c:\\Users\\Joaquin\\miniconda3\\envs\\agienv\\Lib\\site-packages\\sklearn\\neural_network\\_multilayer_perceptron.py:686: ConvergenceWarning: Stochastic Optimizer: Maximum iterations (200) reached and the optimization hasn't converged yet.\n",
      "  warnings.warn(\n",
      "c:\\Users\\Joaquin\\miniconda3\\envs\\agienv\\Lib\\site-packages\\sklearn\\neural_network\\_multilayer_perceptron.py:686: ConvergenceWarning: Stochastic Optimizer: Maximum iterations (200) reached and the optimization hasn't converged yet.\n",
      "  warnings.warn(\n",
      "c:\\Users\\Joaquin\\miniconda3\\envs\\agienv\\Lib\\site-packages\\sklearn\\neural_network\\_multilayer_perceptron.py:686: ConvergenceWarning: Stochastic Optimizer: Maximum iterations (200) reached and the optimization hasn't converged yet.\n",
      "  warnings.warn(\n",
      "c:\\Users\\Joaquin\\miniconda3\\envs\\agienv\\Lib\\site-packages\\sklearn\\neural_network\\_multilayer_perceptron.py:686: ConvergenceWarning: Stochastic Optimizer: Maximum iterations (200) reached and the optimization hasn't converged yet.\n",
      "  warnings.warn(\n"
     ]
    },
    {
     "name": "stdout",
     "output_type": "stream",
     "text": [
      "Mean Accuracy: 0.5926666666666667\n"
     ]
    },
    {
     "name": "stderr",
     "output_type": "stream",
     "text": [
      "c:\\Users\\Joaquin\\miniconda3\\envs\\agienv\\Lib\\site-packages\\sklearn\\neural_network\\_multilayer_perceptron.py:693: UserWarning: Training interrupted by user.\n",
      "  warnings.warn(\"Training interrupted by user.\")\n"
     ]
    },
    {
     "data": {
      "text/plain": [
       "(0.5926666666666667,)"
      ]
     },
     "execution_count": 64,
     "metadata": {},
     "output_type": "execute_result"
    }
   ],
   "source": [
    "k_folds_x_val(mlp, X_train_val_used, Y_train_val)"
   ]
  },
  {
   "cell_type": "code",
   "execution_count": null,
   "metadata": {},
   "outputs": [
    {
     "name": "stdout",
     "output_type": "stream",
     "text": [
      "[[0.62820513 0.08091024 0.1036036  0.21265823 0.15521628 0.02439024]\n",
      " [0.07466063 0.7300885  0.32432432 0.07848101 0.08396947 0.1097561 ]\n",
      " [0.03167421 0.10240202 0.44594595 0.05316456 0.02035623 0.06097561]\n",
      " [0.14705882 0.03792668 0.09459459 0.55949367 0.12722646 0.03658537]\n",
      " [0.09426848 0.02591656 0.01801802 0.09113924 0.55470738 0.14634146]\n",
      " [0.02413273 0.02275601 0.01351351 0.00506329 0.05852417 0.62195122]]\n"
     ]
    },
    {
     "data": {
      "image/png": "[encoded data removed]",
      "text/plain": [
       "<Figure size 480x480 with 1 Axes>"
      ]
     },
     "metadata": {},
     "output_type": "display_data"
    }
   ],
   "source": [
    "cmat = get_cmat(mlp, X_val_test_used, Y_val_test)\n",
    "print(get_metrics(mlp, X_val_test_used, Y_val_test))\n",
    "plt.matshow(cmat)\n",
    "plt.show()"
   ]
  },
  {
   "cell_type": "code",
   "execution_count": null,
   "metadata": {},
   "outputs": [],
   "source": [
    "from utils.neuralnet import NeuralNetwork\n",
    "from utils.trainer import training_loop, evaluate"
   ]
  },
  {
   "cell_type": "code",
   "execution_count": null,
   "metadata": {},
   "outputs": [],
   "source": [
    "# For pytorch specifically we should load data to the provided dataloader and dataset classes. \n",
    "# This handles the batching for us.\n",
    "\n",
    "pt_train_set = TensorDataset(torch.Tensor(X_train_used), torch.Tensor(Y_train.to_numpy()).long())\n",
    "pt_val_set = TensorDataset(torch.Tensor(X_val_used), torch.Tensor(Y_val.to_numpy()).long())\n",
    "pt_test_set = TensorDataset(torch.Tensor(X_test_used), torch.Tensor(Y_test.to_numpy()).long())\n",
    "pt_val_test_set = TensorDataset(torch.Tensor(X_val_test_used), torch.Tensor(Y_val_test.to_numpy()).long())\n",
    "\n",
    "pt_train_loader = DataLoader(\n",
    "                    dataset=pt_train_set, \n",
    "                    batch_size=BATCH_SIZE, \n",
    "                    shuffle=True,\n",
    "                )\n",
    "pt_val_loader = DataLoader(\n",
    "                    dataset=pt_val_set, \n",
    "                    batch_size=BATCH_SIZE, \n",
    "                    shuffle=True,\n",
    "                )\n",
    "pt_test_loader = DataLoader(\n",
    "                    dataset=pt_test_set, \n",
    "                    batch_size=1, \n",
    "                    shuffle=True,\n",
    "                )\n",
    "\n",
    "pt_val_test_loader = DataLoader(\n",
    "                    dataset=pt_val_test_set, \n",
    "                    batch_size=1, \n",
    "                    shuffle=True,\n",
    "                )"
   ]
  },
  {
   "cell_type": "code",
   "execution_count": null,
   "metadata": {},
   "outputs": [
    {
     "name": "stdout",
     "output_type": "stream",
     "text": [
      "Epoch 1\n",
      "train_loss = 1.0092, val_loss = 1.2481\n",
      "Epoch 2\n",
      "train_loss = 1.3201, val_loss = 1.1159\n",
      "Epoch 3\n",
      "train_loss = 0.8446, val_loss = 1.0524\n",
      "Epoch 4\n",
      "train_loss = 0.9545, val_loss = 1.0166\n",
      "Epoch 5\n",
      "train_loss = 0.8266, val_loss = 0.9939\n",
      "Epoch 6\n",
      "train_loss = 0.8077, val_loss = 0.9811\n",
      "Epoch 7\n",
      "train_loss = 0.8742, val_loss = 0.9695\n",
      "Epoch 8\n",
      "train_loss = 1.0933, val_loss = 0.9639\n",
      "Epoch 9\n",
      "train_loss = 1.4339, val_loss = 0.9621\n",
      "Epoch 10\n",
      "train_loss = 0.8331, val_loss = 0.9568\n",
      "Epoch 11\n",
      "train_loss = 0.7472, val_loss = 0.9564\n",
      "Epoch 12\n",
      "train_loss = 0.9433, val_loss = 0.9509\n",
      "Epoch 13\n",
      "train_loss = 0.8333, val_loss = 0.9502\n",
      "Epoch 14\n",
      "train_loss = 1.0630, val_loss = 0.9484\n",
      "Epoch 15\n",
      "train_loss = 1.1496, val_loss = 0.9468\n",
      "Epoch 16\n",
      "train_loss = 0.7268, val_loss = 0.9459\n",
      "Epoch 17\n",
      "train_loss = 0.6894, val_loss = 0.9451\n",
      "Epoch 18\n",
      "train_loss = 1.1325, val_loss = 0.9453\n",
      "Epoch 19\n",
      "train_loss = 0.8886, val_loss = 0.9443\n",
      "Epoch 20\n",
      "train_loss = 1.3255, val_loss = 0.9433\n",
      "Epoch 21\n",
      "train_loss = 0.6486, val_loss = 0.9418\n",
      "Epoch 22\n",
      "train_loss = 0.7567, val_loss = 0.9429\n",
      "Epoch 23\n",
      "train_loss = 0.5054, val_loss = 0.9443\n",
      "Epoch 24\n",
      "train_loss = 1.2842, val_loss = 0.9431\n",
      "Epoch 25\n",
      "train_loss = 1.1130, val_loss = 0.9407\n",
      "Epoch 26\n",
      "train_loss = 0.4710, val_loss = 0.9417\n",
      "Epoch 27\n",
      "train_loss = 0.6732, val_loss = 0.9402\n",
      "Epoch 28\n",
      "train_loss = 0.6450, val_loss = 0.9400\n",
      "Epoch 29\n",
      "train_loss = 0.7181, val_loss = 0.9416\n",
      "Epoch 30\n",
      "train_loss = 0.9275, val_loss = 0.9405\n",
      "Epoch 31\n",
      "train_loss = 1.2441, val_loss = 0.9419\n",
      "Epoch 32\n",
      "train_loss = 1.0403, val_loss = 0.9415\n",
      "Epoch 33\n",
      "train_loss = 0.8012, val_loss = 0.9404\n",
      "Epoch 34\n",
      "train_loss = 1.5782, val_loss = 0.9405\n",
      "Epoch 35\n",
      "train_loss = 0.6355, val_loss = 0.9406\n",
      "Epoch 36\n",
      "train_loss = 1.0449, val_loss = 0.9436\n",
      "Epoch 37\n",
      "train_loss = 0.5621, val_loss = 0.9393\n",
      "Epoch 38\n",
      "train_loss = 1.1629, val_loss = 0.9401\n",
      "Epoch 39\n",
      "train_loss = 0.7504, val_loss = 0.9407\n",
      "Epoch 40\n",
      "train_loss = 1.2145, val_loss = 0.9379\n",
      "Epoch 41\n",
      "train_loss = 0.8101, val_loss = 0.9416\n",
      "Epoch 42\n",
      "train_loss = 0.9328, val_loss = 0.9387\n",
      "Epoch 43\n",
      "train_loss = 1.1388, val_loss = 0.9392\n",
      "Epoch 44\n",
      "train_loss = 0.5233, val_loss = 0.9419\n",
      "Epoch 45\n",
      "train_loss = 0.8290, val_loss = 0.9414\n",
      "Epoch 46\n",
      "train_loss = 1.0439, val_loss = 0.9430\n",
      "Epoch 47\n",
      "train_loss = 0.9186, val_loss = 0.9389\n",
      "Epoch 48\n",
      "train_loss = 1.0430, val_loss = 0.9397\n",
      "Epoch 49\n",
      "train_loss = 1.2234, val_loss = 0.9399\n",
      "Epoch 50\n",
      "train_loss = 0.8380, val_loss = 0.9387\n",
      "Epoch 51\n",
      "train_loss = 0.7862, val_loss = 0.9408\n",
      "Epoch 52\n",
      "train_loss = 0.6487, val_loss = 0.9374\n",
      "Epoch 53\n",
      "train_loss = 0.8220, val_loss = 0.9389\n",
      "Epoch 54\n",
      "train_loss = 1.4018, val_loss = 0.9382\n",
      "Epoch 55\n",
      "train_loss = 0.8703, val_loss = 0.9380\n",
      "Epoch 56\n",
      "train_loss = 0.8160, val_loss = 0.9407\n",
      "Epoch 57\n",
      "train_loss = 0.7049, val_loss = 0.9394\n",
      "Epoch 58\n",
      "train_loss = 0.9125, val_loss = 0.9390\n",
      "Epoch 59\n",
      "train_loss = 0.9754, val_loss = 0.9414\n",
      "Epoch 60\n",
      "train_loss = 1.0106, val_loss = 0.9383\n",
      "Epoch 61\n",
      "train_loss = 0.6470, val_loss = 0.9406\n",
      "Epoch 62\n",
      "train_loss = 0.4017, val_loss = 0.9378\n",
      "Epoch 63\n",
      "train_loss = 1.4905, val_loss = 0.9376\n",
      "Epoch 64\n",
      "train_loss = 1.0993, val_loss = 0.9390\n",
      "Epoch 65\n",
      "train_loss = 0.8868, val_loss = 0.9382\n",
      "Epoch 66\n",
      "train_loss = 0.9366, val_loss = 0.9406\n",
      "Epoch 67\n",
      "train_loss = 0.7793, val_loss = 0.9375\n",
      "Epoch 68\n",
      "train_loss = 1.0350, val_loss = 0.9366\n",
      "Epoch 69\n",
      "train_loss = 0.8984, val_loss = 0.9358\n",
      "Epoch 70\n",
      "train_loss = 0.7369, val_loss = 0.9379\n",
      "Epoch 71\n",
      "train_loss = 0.9061, val_loss = 0.9357\n",
      "Epoch 72\n",
      "train_loss = 1.5879, val_loss = 0.9390\n",
      "Epoch 73\n",
      "train_loss = 0.9937, val_loss = 0.9360\n",
      "Epoch 74\n",
      "train_loss = 1.0835, val_loss = 0.9358\n",
      "Epoch 75\n",
      "train_loss = 0.5350, val_loss = 0.9383\n",
      "Epoch 76\n",
      "train_loss = 0.6481, val_loss = 0.9365\n",
      "Epoch 77\n",
      "train_loss = 1.0511, val_loss = 0.9383\n",
      "Epoch 78\n",
      "train_loss = 1.0983, val_loss = 0.9354\n",
      "Epoch 79\n",
      "train_loss = 0.7140, val_loss = 0.9367\n",
      "Epoch 80\n",
      "train_loss = 1.1336, val_loss = 0.9383\n",
      "Epoch 81\n",
      "train_loss = 1.5338, val_loss = 0.9391\n",
      "Epoch 82\n",
      "train_loss = 0.7489, val_loss = 0.9366\n",
      "Epoch 83\n",
      "train_loss = 0.9052, val_loss = 0.9381\n",
      "Epoch 84\n",
      "train_loss = 0.8741, val_loss = 0.9382\n",
      "Epoch 85\n",
      "train_loss = 1.1828, val_loss = 0.9360\n",
      "Epoch 86\n",
      "train_loss = 0.6032, val_loss = 0.9371\n",
      "Epoch 87\n",
      "train_loss = 0.7914, val_loss = 0.9379\n",
      "Epoch 88\n",
      "train_loss = 0.8900, val_loss = 0.9379\n",
      "Epoch 89\n",
      "train_loss = 0.8181, val_loss = 0.9364\n",
      "Epoch 90\n",
      "train_loss = 0.8384, val_loss = 0.9413\n",
      "Epoch 91\n",
      "train_loss = 0.8680, val_loss = 0.9348\n",
      "Epoch 92\n",
      "train_loss = 0.9583, val_loss = 0.9365\n",
      "Epoch 93\n",
      "train_loss = 0.6897, val_loss = 0.9366\n",
      "Epoch 94\n",
      "train_loss = 0.8966, val_loss = 0.9386\n",
      "Epoch 95\n",
      "train_loss = 1.0239, val_loss = 0.9375\n",
      "Epoch 96\n",
      "train_loss = 0.8245, val_loss = 0.9371\n",
      "Epoch 97\n",
      "train_loss = 0.5714, val_loss = 0.9394\n",
      "Epoch 98\n",
      "train_loss = 0.6027, val_loss = 0.9353\n",
      "Epoch 99\n",
      "train_loss = 0.7745, val_loss = 0.9378\n",
      "Epoch 100\n",
      "train_loss = 0.6213, val_loss = 0.9390\n",
      "Epoch 101\n",
      "train_loss = 0.8421, val_loss = 0.9371\n",
      "Epoch 102\n",
      "train_loss = 0.6022, val_loss = 0.9380\n",
      "Epoch 103\n",
      "train_loss = 0.8744, val_loss = 0.9381\n",
      "Epoch 104\n",
      "train_loss = 1.1204, val_loss = 0.9392\n",
      "Epoch 105\n",
      "train_loss = 0.9873, val_loss = 0.9357\n",
      "Epoch 106\n",
      "train_loss = 0.6260, val_loss = 0.9376\n",
      "Epoch 107\n",
      "train_loss = 0.5943, val_loss = 0.9403\n",
      "Epoch 108\n",
      "train_loss = 0.9867, val_loss = 0.9350\n",
      "Epoch 109\n",
      "train_loss = 1.1667, val_loss = 0.9373\n",
      "Epoch 110\n",
      "train_loss = 0.7648, val_loss = 0.9365\n",
      "Epoch 111\n",
      "train_loss = 0.8212, val_loss = 0.9357\n",
      "Epoch 112\n",
      "train_loss = 0.7705, val_loss = 0.9373\n",
      "Epoch 113\n",
      "train_loss = 0.7292, val_loss = 0.9373\n",
      "Epoch 114\n",
      "train_loss = 0.7433, val_loss = 0.9389\n",
      "Epoch 115\n",
      "train_loss = 0.5720, val_loss = 0.9383\n",
      "Epoch 116\n",
      "train_loss = 0.7738, val_loss = 0.9381\n",
      "Epoch 117\n",
      "train_loss = 1.0254, val_loss = 0.9352\n",
      "Epoch 118\n",
      "train_loss = 0.7918, val_loss = 0.9361\n",
      "Epoch 119\n",
      "train_loss = 0.9589, val_loss = 0.9374\n",
      "Epoch 120\n",
      "train_loss = 0.6502, val_loss = 0.9351\n",
      "Epoch 121\n",
      "train_loss = 0.5755, val_loss = 0.9362\n",
      "Epoch 122\n",
      "train_loss = 1.1583, val_loss = 0.9378\n",
      "Epoch 123\n",
      "train_loss = 0.6424, val_loss = 0.9373\n",
      "Epoch 124\n",
      "train_loss = 1.0387, val_loss = 0.9362\n",
      "Epoch 125\n",
      "train_loss = 1.2206, val_loss = 0.9382\n",
      "Epoch 126\n",
      "train_loss = 0.7382, val_loss = 0.9352\n",
      "Epoch 127\n",
      "train_loss = 1.1746, val_loss = 0.9370\n",
      "Epoch 128\n",
      "train_loss = 0.5666, val_loss = 0.9362\n",
      "Epoch 129\n",
      "train_loss = 0.9894, val_loss = 0.9387\n",
      "Epoch 130\n",
      "train_loss = 0.9937, val_loss = 0.9345\n",
      "Epoch 131\n",
      "train_loss = 1.2396, val_loss = 0.9350\n",
      "Epoch 132\n",
      "train_loss = 0.9283, val_loss = 0.9348\n",
      "Epoch 133\n",
      "train_loss = 0.6079, val_loss = 0.9373\n",
      "Epoch 134\n",
      "train_loss = 1.3792, val_loss = 0.9370\n",
      "Epoch 135\n",
      "train_loss = 0.7343, val_loss = 0.9339\n",
      "Epoch 136\n",
      "train_loss = 1.2131, val_loss = 0.9343\n",
      "Epoch 137\n",
      "train_loss = 0.8887, val_loss = 0.9346\n",
      "Epoch 138\n",
      "train_loss = 0.7749, val_loss = 0.9354\n",
      "Epoch 139\n",
      "train_loss = 0.7201, val_loss = 0.9362\n",
      "Epoch 140\n",
      "train_loss = 0.8451, val_loss = 0.9346\n",
      "Epoch 141\n",
      "train_loss = 0.9408, val_loss = 0.9371\n",
      "Epoch 142\n",
      "train_loss = 1.0364, val_loss = 0.9355\n",
      "Epoch 143\n",
      "train_loss = 0.7091, val_loss = 0.9366\n",
      "Epoch 144\n",
      "train_loss = 0.7040, val_loss = 0.9368\n",
      "Epoch 145\n",
      "train_loss = 0.7320, val_loss = 0.9347\n",
      "Epoch 146\n",
      "train_loss = 0.9430, val_loss = 0.9378\n",
      "Epoch 147\n",
      "train_loss = 0.3003, val_loss = 0.9371\n",
      "Epoch 148\n",
      "train_loss = 0.9067, val_loss = 0.9390\n",
      "Epoch 149\n",
      "train_loss = 0.7227, val_loss = 0.9368\n",
      "Epoch 150\n",
      "train_loss = 0.9521, val_loss = 0.9379\n",
      "Epoch 151\n",
      "train_loss = 0.6316, val_loss = 0.9357\n",
      "Epoch 152\n",
      "train_loss = 0.5223, val_loss = 0.9337\n",
      "Epoch 153\n",
      "train_loss = 0.9233, val_loss = 0.9361\n",
      "Epoch 154\n",
      "train_loss = 0.9357, val_loss = 0.9349\n",
      "Epoch 155\n",
      "train_loss = 0.6931, val_loss = 0.9351\n",
      "Epoch 156\n",
      "train_loss = 0.6138, val_loss = 0.9347\n",
      "Epoch 157\n",
      "train_loss = 0.6964, val_loss = 0.9343\n",
      "Epoch 158\n",
      "train_loss = 1.0100, val_loss = 0.9377\n",
      "Epoch 159\n",
      "train_loss = 0.5420, val_loss = 0.9348\n",
      "Epoch 160\n",
      "train_loss = 0.7373, val_loss = 0.9367\n",
      "Epoch 161\n",
      "train_loss = 1.1861, val_loss = 0.9360\n",
      "Epoch 162\n",
      "train_loss = 0.9181, val_loss = 0.9333\n",
      "Epoch 163\n",
      "train_loss = 0.6826, val_loss = 0.9345\n",
      "Epoch 164\n",
      "train_loss = 1.2911, val_loss = 0.9348\n",
      "Epoch 165\n",
      "train_loss = 0.8333, val_loss = 0.9364\n",
      "Epoch 166\n",
      "train_loss = 0.9220, val_loss = 0.9367\n",
      "Epoch 167\n",
      "train_loss = 0.6344, val_loss = 0.9343\n",
      "Epoch 168\n",
      "train_loss = 0.8457, val_loss = 0.9379\n",
      "Epoch 169\n",
      "train_loss = 0.4747, val_loss = 0.9334\n",
      "Epoch 170\n",
      "train_loss = 1.0680, val_loss = 0.9343\n",
      "Epoch 171\n",
      "train_loss = 0.5733, val_loss = 0.9362\n",
      "Epoch 172\n",
      "train_loss = 0.9507, val_loss = 0.9363\n",
      "Epoch 173\n",
      "train_loss = 1.3768, val_loss = 0.9399\n",
      "Epoch 174\n",
      "train_loss = 0.5378, val_loss = 0.9343\n",
      "Epoch 175\n",
      "train_loss = 0.8218, val_loss = 0.9342\n",
      "Epoch 176\n",
      "train_loss = 0.9687, val_loss = 0.9369\n",
      "Epoch 177\n",
      "train_loss = 0.9255, val_loss = 0.9340\n",
      "Epoch 178\n",
      "train_loss = 0.8877, val_loss = 0.9332\n",
      "Epoch 179\n",
      "train_loss = 0.6593, val_loss = 0.9339\n",
      "Epoch 180\n",
      "train_loss = 0.7249, val_loss = 0.9373\n",
      "Epoch 181\n",
      "train_loss = 0.6885, val_loss = 0.9340\n",
      "Epoch 182\n",
      "train_loss = 0.9415, val_loss = 0.9343\n",
      "Epoch 183\n",
      "train_loss = 0.6199, val_loss = 0.9349\n",
      "Epoch 184\n",
      "train_loss = 0.7454, val_loss = 0.9328\n",
      "Epoch 185\n",
      "train_loss = 0.7406, val_loss = 0.9333\n",
      "Epoch 186\n",
      "train_loss = 1.0528, val_loss = 0.9356\n",
      "Epoch 187\n",
      "train_loss = 0.9493, val_loss = 0.9370\n",
      "Epoch 188\n",
      "train_loss = 0.7180, val_loss = 0.9352\n",
      "Epoch 189\n",
      "train_loss = 0.5057, val_loss = 0.9353\n",
      "Epoch 190\n",
      "train_loss = 0.5966, val_loss = 0.9343\n",
      "Epoch 191\n",
      "train_loss = 0.8072, val_loss = 0.9343\n",
      "Epoch 192\n",
      "train_loss = 0.9423, val_loss = 0.9349\n",
      "Epoch 193\n",
      "train_loss = 1.1212, val_loss = 0.9345\n",
      "Epoch 194\n",
      "train_loss = 0.5593, val_loss = 0.9364\n",
      "Epoch 195\n",
      "train_loss = 0.7933, val_loss = 0.9345\n",
      "Epoch 196\n",
      "train_loss = 0.7952, val_loss = 0.9404\n",
      "Epoch 197\n",
      "train_loss = 0.8148, val_loss = 0.9348\n",
      "Epoch 198\n",
      "train_loss = 0.8895, val_loss = 0.9351\n",
      "Epoch 199\n",
      "train_loss = 0.5833, val_loss = 0.9353\n",
      "Epoch 200\n",
      "train_loss = 0.7498, val_loss = 0.9331\n"
     ]
    }
   ],
   "source": [
    "# Initialize neural network\n",
    "mlp = NeuralNetwork(X_train_reduced.shape[1], [], NUM_CLASSES)\n",
    "\n",
    "training_loop(mlp, pt_train_loader, pt_val_loader, 200, LEARNING_RATE)"
   ]
  },
  {
   "cell_type": "code",
   "execution_count": null,
   "metadata": {},
   "outputs": [
    {
     "name": "stdout",
     "output_type": "stream",
     "text": [
      "loss = 0.9490\n",
      "accuracy = 0.6420\n",
      "f1 = 0.6250\n",
      "[[0.60973837 0.08557457 0.08290155 0.21705426 0.15243902 0.025     ]\n",
      " [0.07267442 0.71760391 0.31088083 0.06718346 0.09146341 0.1125    ]\n",
      " [0.03125    0.10268949 0.49740933 0.04134367 0.02134146 0.0875    ]\n",
      " [0.15261628 0.04095355 0.07253886 0.57105943 0.11280488 0.0125    ]\n",
      " [0.10537791 0.02750611 0.02590674 0.09819121 0.57926829 0.1625    ]\n",
      " [0.02834302 0.02567237 0.01036269 0.00516796 0.04268293 0.6       ]]\n"
     ]
    },
    {
     "data": {
      "image/png": "[encoded data removed]",
      "text/plain": [
       "<Figure size 480x480 with 1 Axes>"
      ]
     },
     "metadata": {},
     "output_type": "display_data"
    }
   ],
   "source": [
    "_, _, _, cmat = evaluate(model=mlp, val_dl=pt_val_test_loader)\n",
    "print(cmat)\n",
    "plt.matshow(cmat)\n",
    "plt.show()"
   ]
  }
 ],
 "metadata": {
  "kernelspec": {
   "display_name": "agienv",
   "language": "python",
   "name": "python3"
  },
  "language_info": {
   "codemirror_mode": {
    "name": "ipython",
    "version": 3
   },
   "file_extension": ".py",
   "mimetype": "text/x-python",
   "name": "python",
   "nbconvert_exporter": "python",
   "pygments_lexer": "ipython3",
   "version": "3.11.3"
  },
  "orig_nbformat": 4
 },
 "nbformat": 4,
 "nbformat_minor": 2
}
