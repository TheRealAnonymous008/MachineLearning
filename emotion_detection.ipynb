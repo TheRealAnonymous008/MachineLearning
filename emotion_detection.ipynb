{
 "cells": [
  {
   "cell_type": "code",
   "execution_count": 15,
   "metadata": {},
   "outputs": [],
   "source": [
    "import numpy as np\n",
    "import pandas as pd\n",
    "import matplotlib.pyplot as plt\n",
    "\n",
    "import torch.functional as F \n",
    "import torch.nn as nn \n",
    "import torch \n",
    "\n",
    "# All skl imports go here\n",
    "from sklearn import tree   # Decision Trees\n",
    "from sklearn import svm    # svm\n",
    "from sklearn.decomposition import PCA\n",
    "\n",
    "from sklearn import metrics\n",
    "\n",
    "import sklearn as skl"
   ]
  },
  {
   "cell_type": "markdown",
   "metadata": {},
   "source": [
    "# Data Loading"
   ]
  },
  {
   "cell_type": "code",
   "execution_count": 16,
   "metadata": {},
   "outputs": [],
   "source": [
    "# Load all data\n",
    "train_data = pd.read_csv(\"training_labse.csv\")\n",
    "test_data = pd.read_csv(\"test_labse.csv\")\n",
    "validation_data = pd.read_csv(\"validation_labse.csv\")\n",
    "\n",
    "# Separate X's and y's from each other\n",
    "FEATURE_COLUMNS = [x for x in train_data if x.startswith(\"_e\")]\n",
    "LABEL_COLUMN = \"label\"\n",
    "\n",
    "X_train = train_data[FEATURE_COLUMNS]\n",
    "Y_train = train_data[LABEL_COLUMN]\n",
    "\n",
    "X_test = test_data[FEATURE_COLUMNS]\n",
    "Y_test = test_data[LABEL_COLUMN]\n",
    "\n",
    "X_val = validation_data[FEATURE_COLUMNS]\n",
    "Y_val = validation_data[LABEL_COLUMN]\n",
    "\n",
    "# These are used to run cross validation\n",
    "X_train_val = pd.concat([X_train, X_val]) \n",
    "Y_train_val = pd.concat([Y_train + Y_test])"
   ]
  },
  {
   "cell_type": "code",
   "execution_count": 36,
   "metadata": {},
   "outputs": [
    {
     "name": "stdout",
     "output_type": "stream",
     "text": [
      "[5.40180105e-02 2.43219329e-02 2.27638427e-02 2.05696552e-02\n",
      " 1.89749599e-02 1.77353141e-02 1.59488264e-02 1.50777527e-02\n",
      " 1.44947000e-02 1.37974154e-02 1.36144746e-02 1.32250621e-02\n",
      " 1.26756744e-02 1.24632764e-02 1.23302771e-02 1.20868962e-02\n",
      " 1.10073882e-02 1.06895793e-02 1.06547852e-02 1.04478189e-02\n",
      " 1.02786705e-02 1.01909981e-02 9.85848895e-03 9.74021630e-03\n",
      " 9.43799546e-03 9.32514732e-03 9.02340659e-03 8.86333400e-03\n",
      " 8.60674536e-03 8.47066686e-03 8.32882112e-03 8.18813575e-03\n",
      " 7.86204188e-03 7.84765246e-03 7.76453955e-03 7.54798161e-03\n",
      " 7.46967417e-03 7.25135232e-03 7.14804105e-03 7.07290033e-03\n",
      " 6.96002696e-03 6.92157578e-03 6.76770438e-03 6.70835408e-03\n",
      " 6.63991311e-03 6.43622099e-03 6.28967680e-03 6.21826690e-03\n",
      " 6.15986757e-03 6.10865731e-03 5.97185321e-03 5.85570144e-03\n",
      " 5.74857433e-03 5.72477688e-03 5.65555177e-03 5.54679334e-03\n",
      " 5.49203698e-03 5.45364515e-03 5.33139212e-03 5.27649765e-03\n",
      " 5.24443394e-03 5.14178920e-03 5.02219897e-03 4.97715770e-03\n",
      " 4.97532783e-03 4.86710515e-03 4.80163723e-03 4.72735644e-03\n",
      " 4.69575671e-03 4.65199850e-03 4.59222687e-03 4.53620772e-03\n",
      " 4.47975123e-03 4.40230006e-03 4.37361215e-03 4.33988346e-03\n",
      " 4.25423122e-03 4.22939664e-03 4.15705674e-03 4.09847173e-03\n",
      " 4.01432283e-03 3.97891988e-03 3.93373031e-03 3.91628038e-03\n",
      " 3.89984003e-03 3.82373289e-03 3.78096625e-03 3.71868212e-03\n",
      " 3.70292409e-03 3.64278837e-03 3.60245797e-03 3.54848145e-03\n",
      " 3.48564166e-03 3.43274747e-03 3.41090373e-03 3.34607454e-03\n",
      " 3.30502994e-03 3.28089853e-03 3.24674511e-03 3.21439995e-03\n",
      " 3.20090655e-03 3.15670821e-03 3.14540488e-03 3.11790165e-03\n",
      " 3.05804279e-03 3.00169174e-03 2.97304266e-03 2.92696071e-03\n",
      " 2.86421738e-03 2.82396413e-03 2.78245985e-03 2.75785186e-03\n",
      " 2.74889508e-03 2.70789225e-03 2.67950368e-03 2.59150040e-03\n",
      " 2.57469562e-03 2.51866038e-03 2.50148422e-03 2.46907715e-03\n",
      " 2.45338221e-03 2.43453915e-03 2.39637850e-03 2.34330414e-03\n",
      " 2.33625832e-03 2.32058378e-03 2.29489148e-03 2.25146369e-03\n",
      " 2.23423083e-03 2.20739184e-03 2.18821786e-03 2.15524330e-03\n",
      " 2.12022737e-03 2.09784699e-03 2.07564936e-03 2.05488455e-03\n",
      " 2.02944580e-03 2.01488032e-03 1.97070822e-03 1.96227545e-03\n",
      " 1.92305665e-03 1.87894739e-03 1.85008952e-03 1.82400227e-03\n",
      " 1.81080710e-03 1.79119146e-03 1.76347829e-03 1.73518332e-03\n",
      " 1.68233442e-03 1.66444462e-03 1.65323727e-03 1.61240013e-03\n",
      " 1.59465044e-03 1.56670275e-03 1.55624569e-03 1.52123381e-03\n",
      " 1.48461165e-03 1.48045159e-03 1.45375177e-03 1.43160554e-03\n",
      " 1.38011258e-03 1.37408864e-03 1.35107943e-03 1.30486003e-03\n",
      " 1.29365646e-03 1.28960588e-03 1.26828468e-03 1.19447477e-03\n",
      " 1.18939887e-03 1.17786715e-03 1.14909255e-03 1.12949866e-03\n",
      " 1.11442299e-03 1.06936872e-03 1.05806966e-03 1.01267476e-03\n",
      " 9.91787416e-04 9.56745013e-04 9.22299698e-04 9.02711718e-04\n",
      " 8.94889756e-04 8.48476597e-04 8.08785807e-04 7.66235857e-04\n",
      " 7.39973923e-04 7.16223772e-04 6.97464729e-04 6.70450075e-04\n",
      " 6.25113149e-04 6.01496152e-04 5.54253062e-04 5.45031525e-04\n",
      " 5.24924766e-04 4.98988197e-04 4.85474761e-04 4.52014022e-04\n",
      " 4.31168039e-04 4.17841005e-04 3.87567437e-04 3.77909819e-04\n",
      " 3.64420141e-04 3.46604877e-04 3.20684559e-04 3.18614691e-04\n",
      " 2.99303515e-04 2.94113871e-04 2.87941599e-04 2.76893507e-04\n",
      " 2.71930626e-04 2.66779524e-04 2.54783909e-04 2.52701450e-04\n",
      " 2.50088593e-04 2.48791982e-04 2.45406494e-04 2.37419895e-04\n",
      " 2.31496814e-04 2.25070690e-04 2.19984366e-04 2.16308408e-04\n",
      " 2.12926425e-04 2.11174818e-04 2.04363022e-04 2.04269975e-04\n",
      " 2.02210094e-04 1.98466487e-04 1.96772228e-04 1.94756898e-04\n",
      " 1.90842336e-04 1.88742328e-04 1.87395221e-04 1.84521259e-04\n",
      " 1.82384023e-04 1.80769488e-04 1.79448968e-04 1.75941713e-04\n",
      " 1.73830164e-04 1.73044478e-04 1.70965893e-04 1.69720200e-04\n",
      " 1.65815578e-04 1.65479986e-04 1.63996662e-04 1.62647449e-04\n",
      " 1.60410894e-04 1.59372477e-04 1.57310387e-04 1.56580567e-04\n",
      " 1.53580561e-04 1.52969383e-04 1.51793239e-04 1.50252768e-04\n",
      " 1.49165076e-04 1.48908914e-04 1.45777652e-04 1.45398429e-04\n",
      " 1.43887290e-04 1.43117723e-04 1.41963777e-04 1.41242548e-04\n",
      " 1.39098268e-04 1.37409379e-04 1.36723822e-04 1.36035727e-04\n",
      " 1.34145250e-04 1.33550235e-04 1.32480363e-04 1.31359525e-04\n",
      " 1.30770302e-04 1.29824713e-04 1.27571077e-04 1.26561281e-04\n",
      " 1.26120978e-04 1.24667403e-04 1.24482951e-04 1.22641878e-04\n",
      " 1.21021482e-04 1.20397140e-04 1.20016217e-04 1.19166214e-04\n",
      " 1.18466782e-04 1.17550512e-04 1.17295872e-04 1.16839235e-04\n",
      " 1.15134745e-04 1.14175877e-04 1.13512127e-04 1.12246897e-04\n",
      " 1.10645860e-04 1.09985443e-04 1.09507188e-04 1.09026746e-04\n",
      " 1.08299812e-04 1.08112388e-04 1.07667152e-04 1.06717560e-04\n",
      " 1.05882535e-04 1.05389897e-04 1.04863465e-04 1.04366070e-04\n",
      " 1.03283281e-04 1.02880206e-04 1.01891872e-04 1.01742484e-04\n",
      " 1.00202202e-04 9.99034924e-05 9.94823510e-05 9.88489318e-05\n",
      " 9.81545117e-05 9.75334902e-05 9.71170279e-05 9.71081321e-05\n",
      " 9.58112101e-05 9.54701812e-05 9.49522149e-05 9.44519734e-05\n",
      " 9.42594520e-05 9.38644402e-05 9.24224414e-05 9.23709260e-05\n",
      " 9.14011898e-05 9.08371378e-05 9.04460918e-05 9.00229397e-05\n",
      " 8.99211046e-05 8.92279547e-05 8.86383924e-05 8.82649524e-05\n",
      " 8.76327224e-05 8.70795407e-05 8.62720945e-05 8.62493303e-05\n",
      " 8.54666339e-05 8.45615822e-05 8.44355827e-05 8.41588587e-05\n",
      " 8.29813787e-05 8.26412717e-05 8.24113742e-05 8.16056193e-05\n",
      " 8.09054439e-05 8.06312226e-05 8.02133158e-05 8.00364227e-05\n",
      " 7.96301779e-05 7.95602139e-05 7.89059689e-05 7.87629265e-05\n",
      " 7.84079071e-05 7.78327120e-05 7.72099913e-05 7.68480732e-05\n",
      " 7.64682321e-05 7.61303017e-05 7.59495159e-05 7.55331546e-05\n",
      " 7.52022734e-05 7.49930466e-05 7.41986929e-05 7.40228816e-05\n",
      " 7.35281193e-05 7.34318453e-05 7.28901774e-05 7.24228892e-05\n",
      " 7.22244618e-05 7.18870994e-05 7.13605648e-05 7.09643169e-05\n",
      " 7.06719560e-05 7.03702582e-05 7.01314853e-05 6.99159755e-05\n",
      " 6.96559316e-05 6.92431143e-05 6.88094284e-05 6.85133719e-05\n",
      " 6.82296685e-05 6.78410495e-05 6.73880950e-05 6.70812777e-05\n",
      " 6.68738539e-05 6.62005841e-05 6.59907683e-05 6.57481030e-05\n",
      " 6.55019674e-05 6.48531854e-05 6.46188545e-05 6.42938503e-05\n",
      " 6.39519366e-05 6.37383209e-05 6.34456429e-05 6.31380889e-05\n",
      " 6.30924793e-05 6.27711446e-05 6.24235177e-05 6.23144170e-05\n",
      " 6.17664275e-05 6.16489517e-05 6.15172591e-05 6.11847722e-05\n",
      " 6.09672910e-05 6.07930987e-05 6.06458195e-05 6.05571608e-05\n",
      " 6.00891091e-05 5.97497072e-05 5.93942811e-05 5.92262963e-05\n",
      " 5.89819324e-05 5.85319978e-05 5.82174163e-05 5.79456468e-05\n",
      " 5.77892018e-05 5.76984819e-05 5.72735126e-05 5.70458852e-05\n",
      " 5.68384181e-05 5.64937146e-05 5.61927232e-05 5.61493023e-05\n",
      " 5.59429044e-05 5.56318575e-05 5.52959895e-05 5.52680402e-05\n",
      " 5.48408200e-05 5.47551918e-05 5.43770360e-05 5.42226430e-05\n",
      " 5.40072870e-05 5.39060538e-05 5.37954153e-05 5.34672531e-05\n",
      " 5.32634697e-05 5.31655488e-05 5.28683750e-05 5.27201541e-05\n",
      " 5.24821059e-05 5.23681221e-05 5.21813257e-05 5.19629384e-05\n",
      " 5.18566646e-05 5.14451455e-05 5.12278997e-05 5.10816841e-05\n",
      " 5.08009395e-05 5.05891684e-05 5.02274490e-05 4.99974804e-05\n",
      " 4.97584233e-05 4.95174825e-05 4.94437736e-05 4.93774953e-05\n",
      " 4.91986649e-05 4.89603696e-05 4.88121117e-05 4.87423299e-05\n",
      " 4.85443301e-05 4.83913963e-05 4.79305808e-05 4.78691530e-05\n",
      " 4.78288620e-05 4.76208088e-05 4.74862589e-05 4.73791762e-05\n",
      " 4.71249863e-05 4.69949156e-05 4.69094307e-05 4.66388071e-05\n",
      " 4.65286355e-05 4.64525866e-05 4.62301437e-05 4.60828869e-05\n",
      " 4.59677882e-05 4.56805824e-05 4.55130621e-05 4.54650291e-05\n",
      " 4.52625756e-05 4.52187842e-05 4.50566152e-05 4.50074167e-05\n",
      " 4.47778078e-05 4.45680498e-05 4.43920161e-05 4.43685127e-05\n",
      " 4.40584094e-05 4.39786357e-05 4.39375028e-05 4.37833564e-05\n",
      " 4.36775189e-05 4.33811818e-05 4.33253991e-05 4.30614957e-05\n",
      " 4.29757812e-05 4.28599044e-05 4.28313806e-05 4.25802379e-05\n",
      " 4.23343546e-05 4.22877014e-05 4.22495793e-05 4.20414510e-05\n",
      " 4.19631443e-05 4.18985389e-05 4.17557552e-05 4.16602161e-05\n",
      " 4.14844847e-05 4.13487170e-05 4.12166529e-05 4.09691511e-05\n",
      " 4.08966777e-05 4.07429004e-05 4.06527723e-05 4.04179174e-05\n",
      " 4.03895449e-05 4.02622854e-05 4.01200815e-05 4.00073925e-05\n",
      " 3.98174587e-05 3.96934610e-05 3.95987765e-05 3.93605499e-05\n",
      " 3.92393756e-05 3.91041919e-05 3.89796282e-05 3.89460781e-05\n",
      " 3.88713541e-05 3.87341110e-05 3.86160324e-05 3.85174743e-05\n",
      " 3.82851417e-05 3.81621617e-05 3.81041861e-05 3.80599612e-05\n",
      " 3.79533956e-05 3.77026746e-05 3.75409117e-05 3.73898666e-05\n",
      " 3.72300705e-05 3.71709362e-05 3.71331702e-05 3.69674926e-05\n",
      " 3.69315916e-05 3.68058847e-05 3.66576404e-05 3.65456633e-05\n",
      " 3.64808283e-05 3.63686386e-05 3.62609684e-05 3.61322575e-05\n",
      " 3.60268034e-05 3.59029039e-05 3.57883222e-05 3.56642103e-05\n",
      " 3.54816214e-05 3.53080886e-05 3.52268465e-05 3.51590554e-05\n",
      " 3.50277234e-05 3.49913332e-05 3.49022723e-05 3.47594339e-05\n",
      " 3.47135104e-05 3.46170807e-05 3.44409181e-05 3.42304315e-05\n",
      " 3.42089185e-05 3.41714663e-05 3.40920436e-05 3.39906511e-05\n",
      " 3.38913815e-05 3.38489335e-05 3.37216867e-05 3.36358951e-05\n",
      " 3.34499473e-05 3.33654027e-05 3.33385299e-05 3.32394662e-05\n",
      " 3.31229624e-05 3.30667433e-05 3.29836776e-05 3.28240871e-05\n",
      " 3.27753631e-05 3.25924883e-05 3.25268917e-05 3.24626356e-05\n",
      " 3.23827723e-05 3.23610226e-05 3.21563712e-05 3.21109825e-05\n",
      " 3.20435349e-05 3.18737375e-05 3.17572732e-05 3.16433696e-05\n",
      " 3.15462417e-05 3.14215734e-05 3.13327267e-05 3.12665126e-05\n",
      " 3.11530587e-05 3.10530767e-05 3.09456326e-05 3.09321527e-05\n",
      " 3.08474281e-05 3.07480414e-05 3.07072489e-05 3.06829837e-05\n",
      " 3.05430663e-05 3.04452509e-05 3.04153913e-05 3.02526958e-05\n",
      " 3.01825689e-05 3.01513789e-05 2.99887383e-05 2.99476434e-05\n",
      " 2.98927348e-05 2.97587356e-05 2.97021871e-05 2.96129235e-05\n",
      " 2.95318922e-05 2.94005893e-05 2.93392248e-05 2.92007517e-05\n",
      " 2.91649419e-05 2.90678275e-05 2.89598609e-05 2.88864733e-05\n",
      " 2.88381811e-05 2.86942081e-05 2.86195729e-05 2.85927249e-05\n",
      " 2.85271457e-05 2.84782790e-05 2.84243332e-05 2.83025985e-05\n",
      " 2.81648278e-05 2.80384462e-05 2.79614800e-05 2.79073807e-05\n",
      " 2.78243382e-05 2.77340879e-05 2.76494022e-05 2.75987755e-05\n",
      " 2.75405646e-05 2.75127039e-05 2.74488312e-05 2.73293507e-05\n",
      " 2.72477615e-05 2.71540955e-05 2.70119185e-05 2.69688348e-05\n",
      " 2.69279021e-05 2.68011572e-05 2.66943222e-05 2.66199148e-05\n",
      " 2.65721952e-05 2.65554090e-05 2.64801789e-05 2.63989963e-05\n",
      " 2.63275110e-05 2.62508866e-05 2.61987130e-05 2.61239266e-05\n",
      " 2.60670316e-05 2.59113184e-05 2.58660194e-05 2.57525553e-05\n",
      " 2.56665702e-05 2.55335643e-05 2.55159888e-05 2.54393213e-05\n",
      " 2.53682245e-05 2.53004382e-05 2.52364521e-05 2.51366863e-05\n",
      " 2.50829227e-05 2.50684037e-05 2.49216754e-05 2.48817127e-05\n",
      " 2.47826135e-05 2.47007968e-05 2.46527654e-05 2.45742763e-05\n",
      " 2.45175791e-05 2.44317045e-05 2.43557560e-05 2.43311485e-05\n",
      " 2.42718181e-05 2.42034015e-05 2.41609691e-05 2.40469463e-05\n",
      " 2.39810778e-05 2.38582622e-05 2.38066553e-05 2.37501612e-05\n",
      " 2.37069472e-05 2.35970745e-05 2.35217604e-05 2.35008396e-05\n",
      " 2.34737800e-05 2.33128514e-05 2.32373436e-05 2.31784101e-05\n",
      " 2.31343067e-05 2.31222042e-05 2.30347303e-05 2.29602633e-05\n",
      " 2.28960036e-05 2.27602699e-05 2.26836496e-05 2.26340908e-05\n",
      " 2.26032106e-05 2.25185927e-05 2.24051195e-05 2.23700105e-05\n",
      " 2.23435471e-05 2.22060494e-05 2.21632897e-05 2.21330312e-05\n",
      " 2.20378836e-05 2.19554084e-05 2.19247724e-05 2.18521490e-05\n",
      " 2.17502616e-05 2.16275147e-05 2.15112195e-05 2.14491946e-05\n",
      " 2.14459994e-05 2.13179121e-05 2.12389277e-05 2.11289709e-05\n",
      " 2.10809454e-05 2.10302295e-05 2.09473243e-05 2.08806274e-05\n",
      " 2.08172885e-05 2.07663087e-05 2.07332270e-05 2.06420750e-05\n",
      " 2.05130548e-05 2.04163950e-05 2.03721015e-05 2.03295614e-05\n",
      " 2.02318633e-05 2.00997706e-05 2.00330800e-05 1.99594093e-05\n",
      " 1.98847206e-05 1.97822884e-05 1.97484607e-05 1.96632249e-05\n",
      " 1.95535856e-05 1.95137028e-05 1.94702519e-05 1.93793172e-05\n",
      " 1.92907080e-05 1.91456874e-05 1.90888177e-05 1.90074584e-05\n",
      " 1.88587653e-05 1.87994897e-05 1.87528931e-05 1.86500033e-05\n",
      " 1.85374558e-05 1.83590334e-05 1.81859756e-05 1.81698337e-05\n",
      " 1.78235569e-05 1.77668816e-05 1.75693496e-05 1.69582851e-05]\n"
     ]
    },
    {
     "data": {
      "text/plain": [
       "(16000, 182)"
      ]
     },
     "execution_count": 36,
     "metadata": {},
     "output_type": "execute_result"
    }
   ],
   "source": [
    "# Perform pre-processing PCA on the training set\n",
    "pca = PCA()\n",
    "\n",
    "# Need to standardize the data frirst\n",
    "standardized = (X_train - X_train.mean(axis=0)) / X_train.std(axis = 0)\n",
    "pca.fit(X=standardized)\n",
    "\n",
    "# Tune no. of components via explained variance ratio\n",
    "cumulative_variance = np.cumsum(pca.explained_variance_ratio_)\n",
    "\n",
    "desired_variance = 0.95  # adjust this as needed\n",
    "n_components = np.argmax(cumulative_variance >= desired_variance) + 1\n",
    "\n",
    "pca = PCA(n_components=cumulative_variance[n_components])\n",
    "# currently reduces from 768 params to 182 - given desired_variance = 0.95\n",
    "X_reduced = pca.fit_transform(X=standardized)\n",
    "# X_train_d = pca.transform(X=standardized)\n",
    "\n",
    "X_reduced.shape"
   ]
  },
  {
   "cell_type": "code",
   "execution_count": 25,
   "metadata": {},
   "outputs": [
    {
     "name": "stdout",
     "output_type": "stream",
     "text": [
      "[[-1.5 -1.5 -1.5]\n",
      " [ 1.5  1.5  1.5]]\n",
      "[1.5 1.5 1.5]\n"
     ]
    }
   ],
   "source": [
    "x = np.array([[1, 2, 3], [4, 5, 6]])\n",
    "print((x - x.mean(axis = 0)))\n",
    "print(x.std(axis = 0))"
   ]
  },
  {
   "cell_type": "markdown",
   "metadata": {},
   "source": [
    "# Decision Trees"
   ]
  },
  {
   "cell_type": "code",
   "execution_count": null,
   "metadata": {},
   "outputs": [],
   "source": [
    "decision_tree_model = tree.DecisionTreeClassifier(\n",
    "    criterion='entropy', \n",
    "    splitter = 'best',\n",
    "    max_depth = 5\n",
    ")\n"
   ]
  },
  {
   "cell_type": "code",
   "execution_count": null,
   "metadata": {},
   "outputs": [
    {
     "data": {
      "text/plain": [
       "[Text(0.5, 0.9166666666666666, 'x[323] <= -0.039\\nentropy = 2.272\\nsamples = 16000\\nvalue = [4666, 5362, 1304, 2159, 1937, 572]'),\n",
       " Text(0.25, 0.75, 'x[613] <= -0.048\\nentropy = 2.274\\nsamples = 10036\\nvalue = [3583, 2370, 570, 1612, 1512, 389]'),\n",
       " Text(0.125, 0.5833333333333334, 'x[151] <= -0.033\\nentropy = 2.214\\nsamples = 5472\\nvalue = [2050, 897, 228, 1111, 1035, 151]'),\n",
       " Text(0.0625, 0.4166666666666667, 'x[332] <= 0.012\\nentropy = 2.103\\nsamples = 2941\\nvalue = [1156, 310, 65, 624, 706, 80]'),\n",
       " Text(0.03125, 0.25, 'x[190] <= -0.004\\nentropy = 2.174\\nsamples = 1531\\nvalue = [483, 210, 43, 283, 472, 40]'),\n",
       " Text(0.015625, 0.08333333333333333, 'entropy = 2.112\\nsamples = 654\\nvalue = [160, 112, 21, 70, 272, 19]'),\n",
       " Text(0.046875, 0.08333333333333333, 'entropy = 2.129\\nsamples = 877\\nvalue = [323, 98, 22, 213, 200, 21]'),\n",
       " Text(0.09375, 0.25, 'x[0] <= -0.039\\nentropy = 1.945\\nsamples = 1410\\nvalue = [673, 100, 22, 341, 234, 40]'),\n",
       " Text(0.078125, 0.08333333333333333, 'entropy = 1.297\\nsamples = 256\\nvalue = [187, 6, 2, 37, 20, 4]'),\n",
       " Text(0.109375, 0.08333333333333333, 'entropy = 2.035\\nsamples = 1154\\nvalue = [486, 94, 20, 304, 214, 36]'),\n",
       " Text(0.1875, 0.4166666666666667, 'x[556] <= -0.019\\nentropy = 2.259\\nsamples = 2531\\nvalue = [894, 587, 163, 487, 329, 71]'),\n",
       " Text(0.15625, 0.25, 'x[305] <= -0.053\\nentropy = 2.249\\nsamples = 1147\\nvalue = [363, 366, 83, 161, 137, 37]'),\n",
       " Text(0.140625, 0.08333333333333333, 'entropy = 2.135\\nsamples = 448\\nvalue = [92, 198, 36, 53, 62, 7]'),\n",
       " Text(0.171875, 0.08333333333333333, 'entropy = 2.243\\nsamples = 699\\nvalue = [271, 168, 47, 108, 75, 30]'),\n",
       " Text(0.21875, 0.25, 'x[462] <= -0.033\\nentropy = 2.209\\nsamples = 1384\\nvalue = [531, 221, 80, 326, 192, 34]'),\n",
       " Text(0.203125, 0.08333333333333333, 'entropy = 2.259\\nsamples = 360\\nvalue = [130, 72, 46, 74, 31, 7]'),\n",
       " Text(0.234375, 0.08333333333333333, 'entropy = 2.153\\nsamples = 1024\\nvalue = [401, 149, 34, 252, 161, 27]'),\n",
       " Text(0.375, 0.5833333333333334, 'x[415] <= 0.001\\nentropy = 2.248\\nsamples = 4564\\nvalue = [1533, 1473, 342, 501, 477, 238]'),\n",
       " Text(0.3125, 0.4166666666666667, 'x[390] <= -0.037\\nentropy = 2.207\\nsamples = 2373\\nvalue = [615, 981, 208, 173, 240, 156]'),\n",
       " Text(0.28125, 0.25, 'x[480] <= -0.022\\nentropy = 1.94\\nsamples = 1079\\nvalue = [224, 583, 102, 48, 66, 56]'),\n",
       " Text(0.265625, 0.08333333333333333, 'entropy = 2.051\\nsamples = 544\\nvalue = [160, 245, 35, 33, 39, 32]'),\n",
       " Text(0.296875, 0.08333333333333333, 'entropy = 1.723\\nsamples = 535\\nvalue = [64, 338, 67, 15, 27, 24]'),\n",
       " Text(0.34375, 0.25, 'x[356] <= -0.017\\nentropy = 2.341\\nsamples = 1294\\nvalue = [391, 398, 106, 125, 174, 100]'),\n",
       " Text(0.328125, 0.08333333333333333, 'entropy = 2.307\\nsamples = 671\\nvalue = [156, 259, 79, 55, 66, 56]'),\n",
       " Text(0.359375, 0.08333333333333333, 'entropy = 2.272\\nsamples = 623\\nvalue = [235, 139, 27, 70, 108, 44]'),\n",
       " Text(0.4375, 0.4166666666666667, 'x[480] <= -0.012\\nentropy = 2.191\\nsamples = 2191\\nvalue = [918, 492, 134, 328, 237, 82]'),\n",
       " Text(0.40625, 0.25, 'x[119] <= -0.007\\nentropy = 2.058\\nsamples = 1365\\nvalue = [672, 216, 59, 210, 167, 41]'),\n",
       " Text(0.390625, 0.08333333333333333, 'entropy = 1.825\\nsamples = 614\\nvalue = [348, 49, 14, 102, 89, 12]'),\n",
       " Text(0.421875, 0.08333333333333333, 'entropy = 2.172\\nsamples = 751\\nvalue = [324, 167, 45, 108, 78, 29]'),\n",
       " Text(0.46875, 0.25, 'x[556] <= -0.028\\nentropy = 2.281\\nsamples = 826\\nvalue = [246, 276, 75, 118, 70, 41]'),\n",
       " Text(0.453125, 0.08333333333333333, 'entropy = 2.012\\nsamples = 302\\nvalue = [71, 151, 23, 28, 16, 13]'),\n",
       " Text(0.484375, 0.08333333333333333, 'entropy = 2.353\\nsamples = 524\\nvalue = [175, 125, 52, 90, 54, 28]'),\n",
       " Text(0.75, 0.75, 'x[415] <= 0.009\\nentropy = 2.06\\nsamples = 5964\\nvalue = [1083, 2992, 734, 547, 425, 183]'),\n",
       " Text(0.625, 0.5833333333333334, 'x[208] <= -0.017\\nentropy = 1.835\\nsamples = 3568\\nvalue = [442, 2139, 450, 200, 222, 115]'),\n",
       " Text(0.5625, 0.4166666666666667, 'x[433] <= -0.021\\nentropy = 1.472\\nsamples = 1728\\nvalue = [130, 1219, 221, 70, 50, 38]'),\n",
       " Text(0.53125, 0.25, 'x[278] <= 0.015\\nentropy = 1.128\\nsamples = 1018\\nvalue = [70, 813, 76, 27, 22, 10]'),\n",
       " Text(0.515625, 0.08333333333333333, 'entropy = 1.561\\nsamples = 356\\nvalue = [46, 241, 27, 21, 18, 3]'),\n",
       " Text(0.546875, 0.08333333333333333, 'entropy = 0.809\\nsamples = 662\\nvalue = [24, 572, 49, 6, 4, 7]'),\n",
       " Text(0.59375, 0.25, 'x[97] <= -0.04\\nentropy = 1.843\\nsamples = 710\\nvalue = [60, 406, 145, 43, 28, 28]'),\n",
       " Text(0.578125, 0.08333333333333333, 'entropy = 1.617\\nsamples = 295\\nvalue = [16, 202, 27, 19, 13, 18]'),\n",
       " Text(0.609375, 0.08333333333333333, 'entropy = 1.903\\nsamples = 415\\nvalue = [44, 204, 118, 24, 15, 10]'),\n",
       " Text(0.6875, 0.4166666666666667, 'x[390] <= -0.042\\nentropy = 2.09\\nsamples = 1840\\nvalue = [312, 920, 229, 130, 172, 77]'),\n",
       " Text(0.65625, 0.25, 'x[393] <= -0.039\\nentropy = 1.786\\nsamples = 880\\nvalue = [112, 536, 119, 40, 43, 30]'),\n",
       " Text(0.640625, 0.08333333333333333, 'entropy = 1.589\\nsamples = 655\\nvalue = [54, 444, 83, 27, 25, 22]'),\n",
       " Text(0.671875, 0.08333333333333333, 'entropy = 2.155\\nsamples = 225\\nvalue = [58, 92, 36, 13, 18, 8]'),\n",
       " Text(0.71875, 0.25, 'x[613] <= -0.051\\nentropy = 2.281\\nsamples = 960\\nvalue = [200, 384, 110, 90, 129, 47]'),\n",
       " Text(0.703125, 0.08333333333333333, 'entropy = 2.334\\nsamples = 447\\nvalue = [121, 135, 31, 54, 84, 22]'),\n",
       " Text(0.734375, 0.08333333333333333, 'entropy = 2.127\\nsamples = 513\\nvalue = [79, 249, 79, 36, 45, 25]'),\n",
       " Text(0.875, 0.5833333333333334, 'x[610] <= -0.026\\nentropy = 2.255\\nsamples = 2396\\nvalue = [641, 853, 284, 347, 203, 68]'),\n",
       " Text(0.8125, 0.4166666666666667, 'x[267] <= 0.012\\nentropy = 2.008\\nsamples = 929\\nvalue = [205, 446, 147, 71, 40, 20]'),\n",
       " Text(0.78125, 0.25, 'x[382] <= -0.049\\nentropy = 1.815\\nsamples = 650\\nvalue = [111, 371, 99, 31, 24, 14]'),\n",
       " Text(0.765625, 0.08333333333333333, 'entropy = 1.4\\nsamples = 374\\nvalue = [42, 264, 47, 11, 4, 6]'),\n",
       " Text(0.796875, 0.08333333333333333, 'entropy = 2.181\\nsamples = 276\\nvalue = [69, 107, 52, 20, 20, 8]'),\n",
       " Text(0.84375, 0.25, 'x[347] <= -0.004\\nentropy = 2.233\\nsamples = 279\\nvalue = [94, 75, 48, 40, 16, 6]'),\n",
       " Text(0.828125, 0.08333333333333333, 'entropy = 2.178\\nsamples = 212\\nvalue = [84, 52, 21, 36, 14, 5]'),\n",
       " Text(0.859375, 0.08333333333333333, 'entropy = 1.952\\nsamples = 67\\nvalue = [10, 23, 27, 4, 2, 1]'),\n",
       " Text(0.9375, 0.4166666666666667, 'x[305] <= -0.051\\nentropy = 2.32\\nsamples = 1467\\nvalue = [436, 407, 137, 276, 163, 48]'),\n",
       " Text(0.90625, 0.25, 'x[279] <= 0.009\\nentropy = 2.174\\nsamples = 434\\nvalue = [79, 193, 67, 48, 34, 13]'),\n",
       " Text(0.890625, 0.08333333333333333, 'entropy = 1.663\\nsamples = 176\\nvalue = [13, 108, 32, 8, 15, 0]'),\n",
       " Text(0.921875, 0.08333333333333333, 'entropy = 2.333\\nsamples = 258\\nvalue = [66, 85, 35, 40, 19, 13]'),\n",
       " Text(0.96875, 0.25, 'x[462] <= -0.017\\nentropy = 2.285\\nsamples = 1033\\nvalue = [357, 214, 70, 228, 129, 35]'),\n",
       " Text(0.953125, 0.08333333333333333, 'entropy = 2.295\\nsamples = 413\\nvalue = [135, 118, 46, 66, 27, 21]'),\n",
       " Text(0.984375, 0.08333333333333333, 'entropy = 2.187\\nsamples = 620\\nvalue = [222, 96, 24, 162, 102, 14]')]"
      ]
     },
     "execution_count": 12,
     "metadata": {},
     "output_type": "execute_result"
    },
    {
     "data": {
      "image/png": "[encoded data removed]",
      "text/plain": [
       "<Figure size 640x480 with 1 Axes>"
      ]
     },
     "metadata": {},
     "output_type": "display_data"
    }
   ],
   "source": [
    "decision_tree_model.fit(X_train, Y_train)\n",
    "tree.plot_tree(decision_tree_model)"
   ]
  },
  {
   "cell_type": "markdown",
   "metadata": {},
   "source": [
    "# SVMs"
   ]
  },
  {
   "cell_type": "code",
   "execution_count": 45,
   "metadata": {},
   "outputs": [],
   "source": [
    "svm_classifier = svm.SVC(kernel='sigmoid') # 'precomputed', 'linear', 'poly', 'sigmoid', 'rbf'\n",
    "\n",
    "#Train the model using the training sets\n",
    "svm_classifier.fit(X_train, Y_train)\n",
    "\n",
    "#Predict the response for test dataset\n",
    "Y_pred = svm_classifier.predict(X_test)"
   ]
  },
  {
   "cell_type": "code",
   "execution_count": 46,
   "metadata": {},
   "outputs": [
    {
     "name": "stdout",
     "output_type": "stream",
     "text": [
      "Accuracy: 0.6235\n"
     ]
    }
   ],
   "source": [
    "\n",
    "print(\"Accuracy:\",metrics.accuracy_score(Y_test, Y_pred))\n",
    "# Linear = 0.64\n",
    "# rbf = 0.659\n",
    "# poly = 0.662\n",
    "# sigmoid = 0.6235\n"
   ]
  },
  {
   "cell_type": "markdown",
   "metadata": {},
   "source": [
    "# MLP"
   ]
  },
  {
   "cell_type": "markdown",
   "metadata": {},
   "source": [
    "# RNN"
   ]
  },
  {
   "cell_type": "markdown",
   "metadata": {},
   "source": [
    "# Encoder-Only Transformer"
   ]
  },
  {
   "cell_type": "markdown",
   "metadata": {},
   "source": [
    "# Test"
   ]
  },
  {
   "cell_type": "code",
   "execution_count": null,
   "metadata": {},
   "outputs": [],
   "source": [
    "model_to_test = decision_tree_model"
   ]
  },
  {
   "cell_type": "code",
   "execution_count": null,
   "metadata": {},
   "outputs": [],
   "source": [
    "#TODO: Add stuff for running the test set on the model"
   ]
  },
  {
   "cell_type": "markdown",
   "metadata": {},
   "source": [
    "# K Folds Cross Validation"
   ]
  },
  {
   "cell_type": "code",
   "execution_count": null,
   "metadata": {},
   "outputs": [],
   "source": []
  }
 ],
 "metadata": {
  "kernelspec": {
   "display_name": "agienv",
   "language": "python",
   "name": "python3"
  },
  "language_info": {
   "codemirror_mode": {
    "name": "ipython",
    "version": 3
   },
   "file_extension": ".py",
   "mimetype": "text/x-python",
   "name": "python",
   "nbconvert_exporter": "python",
   "pygments_lexer": "ipython3",
   "version": "3.11.5"
  },
  "orig_nbformat": 4
 },
 "nbformat": 4,
 "nbformat_minor": 2
}
