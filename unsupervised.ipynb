{
 "cells": [
  {
   "cell_type": "code",
   "execution_count": 15,
   "metadata": {},
   "outputs": [
    {
     "name": "stdout",
     "output_type": "stream",
     "text": [
      "The autoreload extension is already loaded. To reload it, use:\n",
      "  %reload_ext autoreload\n"
     ]
    }
   ],
   "source": [
    "%load_ext autoreload\n",
    "%autoreload 2\n",
    "%matplotlib inline\n",
    "\n",
    "\n",
    "import numpy as np\n",
    "import pandas as pd\n",
    "from matplotlib import animation\n",
    "import matplotlib.pyplot as plt\n",
    "from IPython.display import HTML\n",
    "\n",
    "from sklearn.cluster import KMeans\n",
    "from sklearn.decomposition import PCA\n",
    "from minisom import MiniSom\n",
    "from sklearn.metrics import davies_bouldin_score, normalized_mutual_info_score, homogeneity_completeness_v_measure\n",
    "\n",
    "from typing import List"
   ]
  },
  {
   "cell_type": "code",
   "execution_count": 2,
   "metadata": {},
   "outputs": [],
   "source": [
    "# Load the dataset (LaBSE) and unify them\n",
    "\n",
    "# Load all data\n",
    "train_data = pd.read_csv(\"data/training_labse.csv\")\n",
    "test_data = pd.read_csv(\"data/test_labse.csv\")\n",
    "validation_data = pd.read_csv(\"data/validation_labse.csv\")\n",
    "\n",
    "# Separate X's and y's from each other\n",
    "FEATURE_COLUMNS = [x for x in train_data if x.startswith(\"_e\")]\n",
    "LABEL_COLUMN = \"label\"\n",
    "\n",
    "X_train = train_data[FEATURE_COLUMNS]\n",
    "Y_train = train_data[LABEL_COLUMN]\n",
    "\n",
    "X_test = test_data[FEATURE_COLUMNS]\n",
    "Y_test = test_data[LABEL_COLUMN]\n",
    "\n",
    "X_val = validation_data[FEATURE_COLUMNS]\n",
    "Y_val = validation_data[LABEL_COLUMN]\n",
    "\n",
    "# Merge them \n",
    "X = pd.concat([X_train, X_test, X_val])\n",
    "Y = pd.concat([Y_train, Y_test, Y_val])"
   ]
  },
  {
   "cell_type": "markdown",
   "metadata": {},
   "source": [
    "# PCA"
   ]
  },
  {
   "cell_type": "code",
   "execution_count": 3,
   "metadata": {},
   "outputs": [],
   "source": [
    "# Apply PCA since the data is highly dimensional\n",
    "\n",
    "# Perform pre-processing PCA on the training set\n",
    "def perform_pca(dataset, target_variance):\n",
    "    pca = PCA(n_components= target_variance)\n",
    "\n",
    "    # Need to standardize the data frirst\n",
    "    standardized = (dataset - dataset.mean(axis=0)) / dataset.std(axis = 0)\n",
    "\n",
    "    pca.fit(X=standardized)\n",
    "    dataset_reduced = pca.fit_transform(X=standardized)\n",
    "\n",
    "    return pca, dataset_reduced"
   ]
  },
  {
   "cell_type": "markdown",
   "metadata": {},
   "source": [
    "# K means Clustering"
   ]
  },
  {
   "cell_type": "code",
   "execution_count": 4,
   "metadata": {},
   "outputs": [],
   "source": [
    "class KmeansResult:\n",
    "    def __init__(self, k, dbi = 0, nmi = 0, hcv = (0, 0, 0)):\n",
    "        self.k = k \n",
    "        self.dbi = dbi \n",
    "        self.nmi = nmi \n",
    "        self.homogeneity, self.completeness, self.v_score = hcv\n"
   ]
  },
  {
   "cell_type": "code",
   "execution_count": 5,
   "metadata": {},
   "outputs": [],
   "source": [
    "# Apply K means to X_used\n",
    "def run_search_for_k(dataset, gt, k=20):\n",
    "    scores : List[KmeansResult] = []\n",
    "    for n_clusters in range(2,k):\n",
    "        kmeans = KMeans(n_clusters=n_clusters, random_state=42, n_init=\"auto\").fit(dataset)\n",
    "        labels = kmeans.labels_\n",
    "\n",
    "        scores.append(\n",
    "            KmeansResult(\n",
    "                k=n_clusters,\n",
    "                dbi= davies_bouldin_score(dataset, labels),\n",
    "                nmi= normalized_mutual_info_score(gt, labels),\n",
    "                hcv =homogeneity_completeness_v_measure(gt, labels)\n",
    "            )\n",
    "        )\n",
    "\n",
    "    return scores"
   ]
  },
  {
   "cell_type": "code",
   "execution_count": 6,
   "metadata": {},
   "outputs": [
    {
     "name": "stdout",
     "output_type": "stream",
     "text": [
      "2 components for training\n",
      "3 components for training\n",
      "4 components for training\n",
      "5 components for training\n",
      "6 components for training\n",
      "7 components for training\n",
      "8 components for training\n",
      "9 components for training\n"
     ]
    }
   ],
   "source": [
    "MAX_K = 20\n",
    "MAX_C = X.shape[1]\n",
    "true_scores = [[KmeansResult(k) for k in range(2, MAX_K)]]\n",
    "\n",
    "for components in range(2, 10):\n",
    "    pca, X_reduced = perform_pca(X, components)\n",
    "    print(f\"{pca.n_components_} components for training\")\n",
    "    \n",
    "    scores = run_search_for_k(X_reduced, Y, MAX_K)\n",
    "    true_scores.append(scores)"
   ]
  },
  {
   "cell_type": "code",
   "execution_count": 16,
   "metadata": {},
   "outputs": [
    {
     "data": {
      "image/png": "[encoded data removed]",
      "text/plain": [
       "<Figure size 640x480 with 1 Axes>"
      ]
     },
     "metadata": {},
     "output_type": "display_data"
    }
   ],
   "source": [
    "k_indices = np.array([k for k in range(2, MAX_K)])\n",
    "pca_indices = np.array([i for i in range(1, 10)])\n",
    "\n",
    "fig = plt.figure()\n",
    "ax1 = fig.add_subplot(121, projection='3d')\n",
    "\n",
    "top = np.array([[S.v_score for S in score] for score in true_scores])\n",
    "bottom = np.zeros_like(top)\n",
    "width = depth = 1\n",
    "\n",
    "xx, yy = np.meshgrid(k_indices, pca_indices)\n",
    "ax1.contour(k_indices, pca_indices, top) \n",
    "ax1.set_xlabel(\"K\")\n",
    "ax1.set_ylabel(\"pca components\")\n",
    "ax1.set_zlabel(\"v score\")\n",
    "\n",
    "def animate(frame):\n",
    "  ax1.view_init(30, frame/4)\n",
    "  plt.pause(.001)\n",
    "  return fig\n",
    "\n",
    "anim = animation.FuncAnimation(fig, animate, frames=200, interval=50)\n",
    "HTML(anim.to_html5_video())"
   ]
  },
  {
   "cell_type": "code",
   "execution_count": null,
   "metadata": {},
   "outputs": [],
   "source": []
  }
 ],
 "metadata": {
  "kernelspec": {
   "display_name": "agienv",
   "language": "python",
   "name": "python3"
  },
  "language_info": {
   "codemirror_mode": {
    "name": "ipython",
    "version": 3
   },
   "file_extension": ".py",
   "mimetype": "text/x-python",
   "name": "python",
   "nbconvert_exporter": "python",
   "pygments_lexer": "ipython3",
   "version": "3.11.3"
  }
 },
 "nbformat": 4,
 "nbformat_minor": 2
}
